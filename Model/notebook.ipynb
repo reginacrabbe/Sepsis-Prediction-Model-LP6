{
 "cells": [
  {
   "cell_type": "markdown",
   "metadata": {},
   "source": [
    "# 1.  Business Understanding"
   ]
  },
  {
   "cell_type": "markdown",
   "metadata": {},
   "source": [
    "**Introduction**\n",
    "\n",
    "Sepsis is a severe and potentially life-threatening medical condition that occurs when the body's response to an infection becomes dysregulated, leading to widespread inflammation and organ dysfunction. Recognized as a medical emergency, sepsis demands immediate attention and intervention. Timely detection is critical for effective treatment and improved patient outcomes."
   ]
  },
  {
   "cell_type": "markdown",
   "metadata": {},
   "source": [
    "**Objective**\n",
    "\n",
    "The primary objective of this project is to develop a machine learning model capable of predicting the likelihood of sepsis. Additionally, the aim is to integrate this predictive model into a FastAPI application, creating a user-friendly and efficient tool for healthcare professionals. The goal is to empower medical practitioners with a reliable system for sepsis detection, facilitating timely interventions and ultimately enhancing patient care and outcomes."
   ]
  },
  {
   "cell_type": "markdown",
   "metadata": {},
   "source": [
    "**Dataset features**\n",
    "\n",
    "**ID:** number to represent patient ID\n",
    "\n",
    "**PRG:** Plasma glucose\n",
    "\n",
    "**PL:** Blood Work Result-1 (mu U/ml)\n",
    "\n",
    "**PR:** Blood Pressure (mm Hg)\n",
    "\n",
    "**SK:** Blood Work Result-2 (mm)\n",
    "\n",
    "**TS:** Blood Work Result-3 (mu U/ml)\n",
    "\n",
    "**M11:** Body mass index (weight in kg/(height in m)^2\n",
    "\n",
    "**BD2:** Blood Work Result-4 (mu U/ml)\n",
    "\n",
    "**Age:** patients age (years)\n",
    "\n",
    "**Insurance:** If a patient holds a valid insurance card\n",
    "\n",
    "**Sepsis:** Positive: if a patient in ICU will develop a sepsis , and Negative: otherwise"
   ]
  },
  {
   "cell_type": "markdown",
   "metadata": {},
   "source": [
    "**Hypothesis**\n",
    "\n",
    "**Null hypothesis:** The variables Age, Plasma Glucose (PRG), and Body Mass Index (M11) do not have a statistically significant impact on the likelihood of Sepsis \n",
    "\n",
    "**Alternate hypothesis:** The variables Age, Plasma Glucose (PRG), and Body Mass Index (M11) have a statistically significant impact on the likelihood of Sepsis"
   ]
  },
  {
   "cell_type": "markdown",
   "metadata": {},
   "source": [
    "**Analytical questions**\n",
    "1.\tWhat is the distribution of plasma glucose levels in the dataset?\n",
    "2.\tIs there a significant difference in plasma glucose levels between patients who develop sepsis and those who do not?\n",
    "3.\tWhat is the average BMI among patients who develop sepsis?\n",
    "4.\tIs there a difference in body mass index (BMI) between patients with and without sepsis?\n",
    "5.\tIs there a specific age range where the likelihood of sepsis is higher?\n",
    "6.\tIs the impact of insurance status on sepsis likelihood consistent across different age groups?\n",
    "\n"
   ]
  },
  {
   "cell_type": "markdown",
   "metadata": {},
   "source": [
    "# 2. Data Understanding"
   ]
  },
  {
   "cell_type": "code",
   "execution_count": 1,
   "metadata": {},
   "outputs": [
    {
     "name": "stdout",
     "output_type": "stream",
     "text": [
      "WARNING:tensorflow:From c:\\Users\\User\\AppData\\Local\\Programs\\Python\\Python311\\Lib\\site-packages\\keras\\src\\losses.py:2976: The name tf.losses.sparse_softmax_cross_entropy is deprecated. Please use tf.compat.v1.losses.sparse_softmax_cross_entropy instead.\n",
      "\n"
     ]
    }
   ],
   "source": [
    "# Importations\n",
    "import pandas as pd\n",
    "import numpy as np\n",
    "import matplotlib.pyplot as plt\n",
    "import plotly.express as px\n",
    "import seaborn as sns\n",
    "import statsmodels.api as sm\n",
    "import tensorflow as tf\n",
    "import joblib\n",
    "\n",
    "\n",
    "from scipy.stats import mannwhitneyu\n",
    "from sklearn.compose import ColumnTransformer\n",
    "from sklearn.pipeline import Pipeline\n",
    "from sklearn.preprocessing import StandardScaler, FunctionTransformer, LabelEncoder\n",
    "from sklearn.neighbors import KNeighborsClassifier\n",
    "from sklearn.linear_model import LogisticRegression\n",
    "from sklearn.tree import DecisionTreeClassifier\n",
    "from sklearn.ensemble import RandomForestClassifier\n",
    "from xgboost import XGBClassifier\n",
    "from sklearn.naive_bayes import GaussianNB\n",
    "from sklearn.model_selection import train_test_split\n",
    "from sklearn.metrics import classification_report, fbeta_score\n",
    "from sklearn.utils.class_weight import compute_class_weight\n",
    "from tensorflow import keras\n",
    "from tensorflow.keras.models import Sequential\n",
    "from tensorflow.keras.layers import Dense\n",
    "from tensorflow.keras.optimizers import Adam\n",
    "from tensorflow.keras.callbacks import EarlyStopping\n",
    "from sklearn.svm import SVC\n",
    "from sklearn.model_selection import GridSearchCV\n",
    "\n"
   ]
  },
  {
   "cell_type": "code",
   "execution_count": 2,
   "metadata": {},
   "outputs": [],
   "source": [
    "# Read the test dataset\n",
    "test_data = pd.read_csv(r'C:\\Users\\User\\Desktop\\AZUBI\\Sepsis-Prediction-Model-LP6\\datasets\\Paitients_Files_Test.csv')\n"
   ]
  },
  {
   "cell_type": "code",
   "execution_count": 3,
   "metadata": {},
   "outputs": [
    {
     "data": {
      "text/html": [
       "<div>\n",
       "<style scoped>\n",
       "    .dataframe tbody tr th:only-of-type {\n",
       "        vertical-align: middle;\n",
       "    }\n",
       "\n",
       "    .dataframe tbody tr th {\n",
       "        vertical-align: top;\n",
       "    }\n",
       "\n",
       "    .dataframe thead th {\n",
       "        text-align: right;\n",
       "    }\n",
       "</style>\n",
       "<table border=\"1\" class=\"dataframe\">\n",
       "  <thead>\n",
       "    <tr style=\"text-align: right;\">\n",
       "      <th></th>\n",
       "      <th>ID</th>\n",
       "      <th>PRG</th>\n",
       "      <th>PL</th>\n",
       "      <th>PR</th>\n",
       "      <th>SK</th>\n",
       "      <th>TS</th>\n",
       "      <th>M11</th>\n",
       "      <th>BD2</th>\n",
       "      <th>Age</th>\n",
       "      <th>Insurance</th>\n",
       "    </tr>\n",
       "  </thead>\n",
       "  <tbody>\n",
       "    <tr>\n",
       "      <th>0</th>\n",
       "      <td>ICU200609</td>\n",
       "      <td>1</td>\n",
       "      <td>109</td>\n",
       "      <td>38</td>\n",
       "      <td>18</td>\n",
       "      <td>120</td>\n",
       "      <td>23.1</td>\n",
       "      <td>0.407</td>\n",
       "      <td>26</td>\n",
       "      <td>1</td>\n",
       "    </tr>\n",
       "    <tr>\n",
       "      <th>1</th>\n",
       "      <td>ICU200610</td>\n",
       "      <td>1</td>\n",
       "      <td>108</td>\n",
       "      <td>88</td>\n",
       "      <td>19</td>\n",
       "      <td>0</td>\n",
       "      <td>27.1</td>\n",
       "      <td>0.400</td>\n",
       "      <td>24</td>\n",
       "      <td>1</td>\n",
       "    </tr>\n",
       "    <tr>\n",
       "      <th>2</th>\n",
       "      <td>ICU200611</td>\n",
       "      <td>6</td>\n",
       "      <td>96</td>\n",
       "      <td>0</td>\n",
       "      <td>0</td>\n",
       "      <td>0</td>\n",
       "      <td>23.7</td>\n",
       "      <td>0.190</td>\n",
       "      <td>28</td>\n",
       "      <td>1</td>\n",
       "    </tr>\n",
       "    <tr>\n",
       "      <th>3</th>\n",
       "      <td>ICU200612</td>\n",
       "      <td>1</td>\n",
       "      <td>124</td>\n",
       "      <td>74</td>\n",
       "      <td>36</td>\n",
       "      <td>0</td>\n",
       "      <td>27.8</td>\n",
       "      <td>0.100</td>\n",
       "      <td>30</td>\n",
       "      <td>1</td>\n",
       "    </tr>\n",
       "    <tr>\n",
       "      <th>4</th>\n",
       "      <td>ICU200613</td>\n",
       "      <td>7</td>\n",
       "      <td>150</td>\n",
       "      <td>78</td>\n",
       "      <td>29</td>\n",
       "      <td>126</td>\n",
       "      <td>35.2</td>\n",
       "      <td>0.692</td>\n",
       "      <td>54</td>\n",
       "      <td>0</td>\n",
       "    </tr>\n",
       "  </tbody>\n",
       "</table>\n",
       "</div>"
      ],
      "text/plain": [
       "          ID  PRG   PL  PR  SK   TS   M11    BD2  Age  Insurance\n",
       "0  ICU200609    1  109  38  18  120  23.1  0.407   26          1\n",
       "1  ICU200610    1  108  88  19    0  27.1  0.400   24          1\n",
       "2  ICU200611    6   96   0   0    0  23.7  0.190   28          1\n",
       "3  ICU200612    1  124  74  36    0  27.8  0.100   30          1\n",
       "4  ICU200613    7  150  78  29  126  35.2  0.692   54          0"
      ]
     },
     "execution_count": 3,
     "metadata": {},
     "output_type": "execute_result"
    }
   ],
   "source": [
    "test_data.head(5)"
   ]
  },
  {
   "cell_type": "code",
   "execution_count": 4,
   "metadata": {},
   "outputs": [],
   "source": [
    "# Read the train dataset\n",
    "train_data = pd.read_csv(r'C:\\Users\\User\\Desktop\\AZUBI\\Sepsis-Prediction-Model-LP6\\datasets\\Paitients_Files_Train.csv')"
   ]
  },
  {
   "cell_type": "code",
   "execution_count": 5,
   "metadata": {},
   "outputs": [
    {
     "data": {
      "text/html": [
       "<div>\n",
       "<style scoped>\n",
       "    .dataframe tbody tr th:only-of-type {\n",
       "        vertical-align: middle;\n",
       "    }\n",
       "\n",
       "    .dataframe tbody tr th {\n",
       "        vertical-align: top;\n",
       "    }\n",
       "\n",
       "    .dataframe thead th {\n",
       "        text-align: right;\n",
       "    }\n",
       "</style>\n",
       "<table border=\"1\" class=\"dataframe\">\n",
       "  <thead>\n",
       "    <tr style=\"text-align: right;\">\n",
       "      <th></th>\n",
       "      <th>ID</th>\n",
       "      <th>PRG</th>\n",
       "      <th>PL</th>\n",
       "      <th>PR</th>\n",
       "      <th>SK</th>\n",
       "      <th>TS</th>\n",
       "      <th>M11</th>\n",
       "      <th>BD2</th>\n",
       "      <th>Age</th>\n",
       "      <th>Insurance</th>\n",
       "      <th>Sepssis</th>\n",
       "    </tr>\n",
       "  </thead>\n",
       "  <tbody>\n",
       "    <tr>\n",
       "      <th>0</th>\n",
       "      <td>ICU200010</td>\n",
       "      <td>6</td>\n",
       "      <td>148</td>\n",
       "      <td>72</td>\n",
       "      <td>35</td>\n",
       "      <td>0</td>\n",
       "      <td>33.6</td>\n",
       "      <td>0.627</td>\n",
       "      <td>50</td>\n",
       "      <td>0</td>\n",
       "      <td>Positive</td>\n",
       "    </tr>\n",
       "    <tr>\n",
       "      <th>1</th>\n",
       "      <td>ICU200011</td>\n",
       "      <td>1</td>\n",
       "      <td>85</td>\n",
       "      <td>66</td>\n",
       "      <td>29</td>\n",
       "      <td>0</td>\n",
       "      <td>26.6</td>\n",
       "      <td>0.351</td>\n",
       "      <td>31</td>\n",
       "      <td>0</td>\n",
       "      <td>Negative</td>\n",
       "    </tr>\n",
       "    <tr>\n",
       "      <th>2</th>\n",
       "      <td>ICU200012</td>\n",
       "      <td>8</td>\n",
       "      <td>183</td>\n",
       "      <td>64</td>\n",
       "      <td>0</td>\n",
       "      <td>0</td>\n",
       "      <td>23.3</td>\n",
       "      <td>0.672</td>\n",
       "      <td>32</td>\n",
       "      <td>1</td>\n",
       "      <td>Positive</td>\n",
       "    </tr>\n",
       "    <tr>\n",
       "      <th>3</th>\n",
       "      <td>ICU200013</td>\n",
       "      <td>1</td>\n",
       "      <td>89</td>\n",
       "      <td>66</td>\n",
       "      <td>23</td>\n",
       "      <td>94</td>\n",
       "      <td>28.1</td>\n",
       "      <td>0.167</td>\n",
       "      <td>21</td>\n",
       "      <td>1</td>\n",
       "      <td>Negative</td>\n",
       "    </tr>\n",
       "    <tr>\n",
       "      <th>4</th>\n",
       "      <td>ICU200014</td>\n",
       "      <td>0</td>\n",
       "      <td>137</td>\n",
       "      <td>40</td>\n",
       "      <td>35</td>\n",
       "      <td>168</td>\n",
       "      <td>43.1</td>\n",
       "      <td>2.288</td>\n",
       "      <td>33</td>\n",
       "      <td>1</td>\n",
       "      <td>Positive</td>\n",
       "    </tr>\n",
       "  </tbody>\n",
       "</table>\n",
       "</div>"
      ],
      "text/plain": [
       "          ID  PRG   PL  PR  SK   TS   M11    BD2  Age  Insurance   Sepssis\n",
       "0  ICU200010    6  148  72  35    0  33.6  0.627   50          0  Positive\n",
       "1  ICU200011    1   85  66  29    0  26.6  0.351   31          0  Negative\n",
       "2  ICU200012    8  183  64   0    0  23.3  0.672   32          1  Positive\n",
       "3  ICU200013    1   89  66  23   94  28.1  0.167   21          1  Negative\n",
       "4  ICU200014    0  137  40  35  168  43.1  2.288   33          1  Positive"
      ]
     },
     "execution_count": 5,
     "metadata": {},
     "output_type": "execute_result"
    }
   ],
   "source": [
    "train_data.head(5)"
   ]
  },
  {
   "cell_type": "code",
   "execution_count": 73,
   "metadata": {},
   "outputs": [
    {
     "data": {
      "text/plain": [
       "(599, 11)"
      ]
     },
     "execution_count": 73,
     "metadata": {},
     "output_type": "execute_result"
    }
   ],
   "source": [
    "# Shape of Datasets\n",
    "train_data.shape"
   ]
  },
  {
   "cell_type": "code",
   "execution_count": 74,
   "metadata": {},
   "outputs": [
    {
     "data": {
      "text/plain": [
       "(169, 10)"
      ]
     },
     "execution_count": 74,
     "metadata": {},
     "output_type": "execute_result"
    }
   ],
   "source": [
    "test_data.shape"
   ]
  },
  {
   "cell_type": "markdown",
   "metadata": {},
   "source": [
    "The shape of training dataset is (599, 11), indicating that there are 599 rows and 11 columns in  dataset. \n",
    "The shape of testing dataset is (169, 10), indicating that there are 169 rows and 10 columns in  dataset."
   ]
  },
  {
   "cell_type": "markdown",
   "metadata": {},
   "source": [
    "## Exploratory Data Analysis (EDA)"
   ]
  },
  {
   "cell_type": "code",
   "execution_count": 75,
   "metadata": {},
   "outputs": [
    {
     "name": "stdout",
     "output_type": "stream",
     "text": [
      "<class 'pandas.core.frame.DataFrame'>\n",
      "RangeIndex: 599 entries, 0 to 598\n",
      "Data columns (total 11 columns):\n",
      " #   Column     Non-Null Count  Dtype  \n",
      "---  ------     --------------  -----  \n",
      " 0   ID         599 non-null    object \n",
      " 1   PRG        599 non-null    int64  \n",
      " 2   PL         599 non-null    int64  \n",
      " 3   PR         599 non-null    int64  \n",
      " 4   SK         599 non-null    int64  \n",
      " 5   TS         599 non-null    int64  \n",
      " 6   M11        599 non-null    float64\n",
      " 7   BD2        599 non-null    float64\n",
      " 8   Age        599 non-null    int64  \n",
      " 9   Insurance  599 non-null    int64  \n",
      " 10  Sepssis    599 non-null    object \n",
      "dtypes: float64(2), int64(7), object(2)\n",
      "memory usage: 51.6+ KB\n"
     ]
    }
   ],
   "source": [
    "# Information on train dataset\n",
    "train_data.info()"
   ]
  },
  {
   "cell_type": "markdown",
   "metadata": {},
   "source": [
    "The ID and Sepsis columns are Objects (Strings), PRG, PL, PR, SK, TS, Age are integers and   M11 and BD2 are floating numbers(Float64).\n",
    "\n",
    "All columns have 599 non-null entries, indicating there are no missing values in the dataset"
   ]
  },
  {
   "cell_type": "code",
   "execution_count": 7,
   "metadata": {},
   "outputs": [
    {
     "data": {
      "text/plain": [
       "'PositiveNegative'"
      ]
     },
     "execution_count": 7,
     "metadata": {},
     "output_type": "execute_result"
    }
   ],
   "source": [
    "# Check unique values in the 'Sepsis' column\n",
    "train_data['Sepssis'].unique().sum()"
   ]
  },
  {
   "cell_type": "markdown",
   "metadata": {},
   "source": [
    "The sepsis column has two unique categories which are the positive instances and the negative instances."
   ]
  },
  {
   "cell_type": "code",
   "execution_count": 8,
   "metadata": {},
   "outputs": [
    {
     "data": {
      "text/plain": [
       "0"
      ]
     },
     "execution_count": 8,
     "metadata": {},
     "output_type": "execute_result"
    }
   ],
   "source": [
    "# Check for duplicate rows\n",
    "train_data.duplicated().sum()"
   ]
  },
  {
   "cell_type": "markdown",
   "metadata": {},
   "source": [
    "There are no duplicate rows in the train dataset. "
   ]
  },
  {
   "cell_type": "code",
   "execution_count": 9,
   "metadata": {},
   "outputs": [
    {
     "name": "stdout",
     "output_type": "stream",
     "text": [
      "<class 'pandas.core.frame.DataFrame'>\n",
      "RangeIndex: 169 entries, 0 to 168\n",
      "Data columns (total 10 columns):\n",
      " #   Column     Non-Null Count  Dtype  \n",
      "---  ------     --------------  -----  \n",
      " 0   ID         169 non-null    object \n",
      " 1   PRG        169 non-null    int64  \n",
      " 2   PL         169 non-null    int64  \n",
      " 3   PR         169 non-null    int64  \n",
      " 4   SK         169 non-null    int64  \n",
      " 5   TS         169 non-null    int64  \n",
      " 6   M11        169 non-null    float64\n",
      " 7   BD2        169 non-null    float64\n",
      " 8   Age        169 non-null    int64  \n",
      " 9   Insurance  169 non-null    int64  \n",
      "dtypes: float64(2), int64(7), object(1)\n",
      "memory usage: 13.3+ KB\n"
     ]
    }
   ],
   "source": [
    "# Information on test dataset\n",
    "test_data.info()"
   ]
  },
  {
   "cell_type": "markdown",
   "metadata": {},
   "source": [
    "The shape of the dataset is (169,10) meaning 169 rows and 10 columns. \n",
    "\n",
    "The ID column is Objects (Strings), PRG, PL, PR, SK, TS, Age are integers and M11 and BD2 are floating numbers(Float64).\n",
    "\n",
    "All columns have 619 non-null entries, indicating there are no missing values in the test dataset"
   ]
  },
  {
   "cell_type": "code",
   "execution_count": 10,
   "metadata": {},
   "outputs": [
    {
     "data": {
      "text/plain": [
       "0"
      ]
     },
     "execution_count": 10,
     "metadata": {},
     "output_type": "execute_result"
    }
   ],
   "source": [
    "# Check for duplicate rows\n",
    "test_data.duplicated().sum()"
   ]
  },
  {
   "cell_type": "markdown",
   "metadata": {},
   "source": [
    "There are no duplicate rows in the test dataset. "
   ]
  },
  {
   "cell_type": "markdown",
   "metadata": {},
   "source": [
    "### Descriptive statistics of features"
   ]
  },
  {
   "cell_type": "code",
   "execution_count": 11,
   "metadata": {},
   "outputs": [
    {
     "data": {
      "text/html": [
       "<div>\n",
       "<style scoped>\n",
       "    .dataframe tbody tr th:only-of-type {\n",
       "        vertical-align: middle;\n",
       "    }\n",
       "\n",
       "    .dataframe tbody tr th {\n",
       "        vertical-align: top;\n",
       "    }\n",
       "\n",
       "    .dataframe thead th {\n",
       "        text-align: right;\n",
       "    }\n",
       "</style>\n",
       "<table border=\"1\" class=\"dataframe\">\n",
       "  <thead>\n",
       "    <tr style=\"text-align: right;\">\n",
       "      <th></th>\n",
       "      <th>count</th>\n",
       "      <th>mean</th>\n",
       "      <th>std</th>\n",
       "      <th>min</th>\n",
       "      <th>25%</th>\n",
       "      <th>50%</th>\n",
       "      <th>75%</th>\n",
       "      <th>max</th>\n",
       "    </tr>\n",
       "  </thead>\n",
       "  <tbody>\n",
       "    <tr>\n",
       "      <th>PRG</th>\n",
       "      <td>599.0</td>\n",
       "      <td>3.824708</td>\n",
       "      <td>3.362839</td>\n",
       "      <td>0.000</td>\n",
       "      <td>1.000</td>\n",
       "      <td>3.000</td>\n",
       "      <td>6.000</td>\n",
       "      <td>17.00</td>\n",
       "    </tr>\n",
       "    <tr>\n",
       "      <th>PL</th>\n",
       "      <td>599.0</td>\n",
       "      <td>120.153589</td>\n",
       "      <td>32.682364</td>\n",
       "      <td>0.000</td>\n",
       "      <td>99.000</td>\n",
       "      <td>116.000</td>\n",
       "      <td>140.000</td>\n",
       "      <td>198.00</td>\n",
       "    </tr>\n",
       "    <tr>\n",
       "      <th>PR</th>\n",
       "      <td>599.0</td>\n",
       "      <td>68.732888</td>\n",
       "      <td>19.335675</td>\n",
       "      <td>0.000</td>\n",
       "      <td>64.000</td>\n",
       "      <td>70.000</td>\n",
       "      <td>80.000</td>\n",
       "      <td>122.00</td>\n",
       "    </tr>\n",
       "    <tr>\n",
       "      <th>SK</th>\n",
       "      <td>599.0</td>\n",
       "      <td>20.562604</td>\n",
       "      <td>16.017622</td>\n",
       "      <td>0.000</td>\n",
       "      <td>0.000</td>\n",
       "      <td>23.000</td>\n",
       "      <td>32.000</td>\n",
       "      <td>99.00</td>\n",
       "    </tr>\n",
       "    <tr>\n",
       "      <th>TS</th>\n",
       "      <td>599.0</td>\n",
       "      <td>79.460768</td>\n",
       "      <td>116.576176</td>\n",
       "      <td>0.000</td>\n",
       "      <td>0.000</td>\n",
       "      <td>36.000</td>\n",
       "      <td>123.500</td>\n",
       "      <td>846.00</td>\n",
       "    </tr>\n",
       "    <tr>\n",
       "      <th>M11</th>\n",
       "      <td>599.0</td>\n",
       "      <td>31.920033</td>\n",
       "      <td>8.008227</td>\n",
       "      <td>0.000</td>\n",
       "      <td>27.100</td>\n",
       "      <td>32.000</td>\n",
       "      <td>36.550</td>\n",
       "      <td>67.10</td>\n",
       "    </tr>\n",
       "    <tr>\n",
       "      <th>BD2</th>\n",
       "      <td>599.0</td>\n",
       "      <td>0.481187</td>\n",
       "      <td>0.337552</td>\n",
       "      <td>0.078</td>\n",
       "      <td>0.248</td>\n",
       "      <td>0.383</td>\n",
       "      <td>0.647</td>\n",
       "      <td>2.42</td>\n",
       "    </tr>\n",
       "    <tr>\n",
       "      <th>Age</th>\n",
       "      <td>599.0</td>\n",
       "      <td>33.290484</td>\n",
       "      <td>11.828446</td>\n",
       "      <td>21.000</td>\n",
       "      <td>24.000</td>\n",
       "      <td>29.000</td>\n",
       "      <td>40.000</td>\n",
       "      <td>81.00</td>\n",
       "    </tr>\n",
       "    <tr>\n",
       "      <th>Insurance</th>\n",
       "      <td>599.0</td>\n",
       "      <td>0.686144</td>\n",
       "      <td>0.464447</td>\n",
       "      <td>0.000</td>\n",
       "      <td>0.000</td>\n",
       "      <td>1.000</td>\n",
       "      <td>1.000</td>\n",
       "      <td>1.00</td>\n",
       "    </tr>\n",
       "  </tbody>\n",
       "</table>\n",
       "</div>"
      ],
      "text/plain": [
       "           count        mean         std     min     25%      50%      75%  \\\n",
       "PRG        599.0    3.824708    3.362839   0.000   1.000    3.000    6.000   \n",
       "PL         599.0  120.153589   32.682364   0.000  99.000  116.000  140.000   \n",
       "PR         599.0   68.732888   19.335675   0.000  64.000   70.000   80.000   \n",
       "SK         599.0   20.562604   16.017622   0.000   0.000   23.000   32.000   \n",
       "TS         599.0   79.460768  116.576176   0.000   0.000   36.000  123.500   \n",
       "M11        599.0   31.920033    8.008227   0.000  27.100   32.000   36.550   \n",
       "BD2        599.0    0.481187    0.337552   0.078   0.248    0.383    0.647   \n",
       "Age        599.0   33.290484   11.828446  21.000  24.000   29.000   40.000   \n",
       "Insurance  599.0    0.686144    0.464447   0.000   0.000    1.000    1.000   \n",
       "\n",
       "              max  \n",
       "PRG         17.00  \n",
       "PL         198.00  \n",
       "PR         122.00  \n",
       "SK          99.00  \n",
       "TS         846.00  \n",
       "M11         67.10  \n",
       "BD2          2.42  \n",
       "Age         81.00  \n",
       "Insurance    1.00  "
      ]
     },
     "execution_count": 11,
     "metadata": {},
     "output_type": "execute_result"
    }
   ],
   "source": [
    "# Descriptives\n",
    "train_data.describe().T"
   ]
  },
  {
   "cell_type": "markdown",
   "metadata": {},
   "source": [
    "These descriptive statistics give insights into the central tendencies and ranges of each numeric variable in the train dataset.\n",
    "\n",
    "- The mean plasma glucose (PRG) level is approximately 3.82, with levels ranging from 0 to 17.\n",
    "- The mean blood work result-1 (PL) value is around 120.15, varying from 0 to 198.\n",
    "- The mean blood pressure (PR) is approximately 68.73, with values ranging from 0 to 122.\n",
    "- The mean blood work result-2 (SK) value is about 20.56, ranging from 0 to 99.\n",
    "- The mean blood work result-3 (TS) value is roughly 79.46, ranging from 0 to 846.\n",
    "- The mean body mass index (M11) is around 31.92, with BMI values ranging from 0 to 67.10.\n",
    "- The mean blood work result-4 (BD2) value is approximately 0.48, with values ranging from 0.078 to 2.42.\n",
    "- The mean age is approximately 33.29, with ages ranging from 21 to 81.\n",
    "- The mean insurance status is about 0.69, and insurance status is binary (0 or 1)."
   ]
  },
  {
   "cell_type": "markdown",
   "metadata": {},
   "source": [
    "### Univariate Analysis"
   ]
  },
  {
   "cell_type": "markdown",
   "metadata": {},
   "source": [
    "The distribution of the target column 'Sepssis'"
   ]
  },
  {
   "cell_type": "code",
   "execution_count": 12,
   "metadata": {},
   "outputs": [
    {
     "name": "stdout",
     "output_type": "stream",
     "text": [
      "Sepssis\n",
      "Negative    391\n",
      "Positive    208\n",
      "Name: count, dtype: int64\n"
     ]
    },
    {
     "data": {
      "image/png": "[encoded data removed]",
      "text/plain": [
       "<Figure size 800x600 with 1 Axes>"
      ]
     },
     "metadata": {},
     "output_type": "display_data"
    }
   ],
   "source": [
    "# Check the counts of each class in the target variable 'Sepssis'\n",
    "class_counts = train_data['Sepssis'].value_counts()\n",
    "print(class_counts)\n",
    "\n",
    "# Visualize the distribution of the target column 'Sepssis'\n",
    "plt.figure(figsize=(8, 6))\n",
    "sns.countplot(x='Sepssis', data=train_data, palette={'Positive': 'red', 'Negative': 'blue'})\n",
    "plt.title('Distribution of Sepsis Cases')\n",
    "plt.xlabel('Sepsis Status')\n",
    "plt.ylabel('Count')\n",
    "plt.show()\n"
   ]
  },
  {
   "cell_type": "markdown",
   "metadata": {},
   "source": [
    "The graph indicates a higher count of negative cases (blue) compared to positive cases (red) in 'Sepsis'. The class distribution is imbalanced. "
   ]
  },
  {
   "cell_type": "markdown",
   "metadata": {},
   "source": [
    "Histograms for numeric features"
   ]
  },
  {
   "cell_type": "code",
   "execution_count": 13,
   "metadata": {},
   "outputs": [
    {
     "data": {
      "image/png": "[encoded data removed]",
      "text/plain": [
       "<Figure size 1500x1200 with 9 Axes>"
      ]
     },
     "metadata": {},
     "output_type": "display_data"
    }
   ],
   "source": [
    "# Set up subplots\n",
    "fig, axes = plt.subplots(nrows=3, ncols=3, figsize=(15, 12))\n",
    "fig.suptitle('Histograms of Numeric Variables', y=1.02, fontsize=16)\n",
    "\n",
    "# Plot histograms for each numeric variable using Seaborn\n",
    "sns.histplot(train_data['PRG'], ax=axes[0, 0], kde=True)\n",
    "axes[0, 0].set_title('Plasma Glucose (PRG)')\n",
    "\n",
    "sns.histplot(train_data['PL'], ax=axes[0, 1], kde=True)\n",
    "axes[0, 1].set_title('Blood Work Result-1 (PL)')\n",
    "\n",
    "sns.histplot(train_data['PR'], ax=axes[0, 2], kde=True)\n",
    "axes[0, 2].set_title('Blood Pressure (PR)')\n",
    "\n",
    "sns.histplot(train_data['SK'], ax=axes[1, 0], kde=True)\n",
    "axes[1, 0].set_title('Blood Work Result-2 (SK)')\n",
    "\n",
    "sns.histplot(train_data['TS'], ax=axes[1, 1], kde=True)\n",
    "axes[1, 1].set_title('Blood Work Result-3 (TS)')\n",
    "\n",
    "sns.histplot(train_data['M11'], ax=axes[1, 2], kde=True)\n",
    "axes[1, 2].set_title('Body Mass Index (M11)')\n",
    "\n",
    "sns.histplot(train_data['BD2'], ax=axes[2, 0], kde=True)\n",
    "axes[2, 0].set_title('Blood Work Result-4 (BD2)')\n",
    "\n",
    "sns.histplot(train_data['Age'], ax=axes[2, 1], kde=True)\n",
    "axes[2, 1].set_title('Age')\n",
    "\n",
    "sns.histplot(train_data['Insurance'], ax=axes[2, 2], kde=True)\n",
    "axes[2, 2].set_title('Insurance')\n",
    "\n",
    "# Adjust layout\n",
    "plt.tight_layout()\n",
    "plt.show()\n"
   ]
  },
  {
   "cell_type": "markdown",
   "metadata": {},
   "source": [
    "**Plasma Glucose (PRG):** The distribution appears somewhat right-skewed.\n",
    "**Blood Work Result-1 (PL):** The distribution seems to be approximately symmetric.\n",
    "\n",
    "**Blood Pressure (PR):** The distribution appears approximately symmetric. \n",
    "\n",
    "**Blood Work Result-2 (SK):** The distribution appears somewhat left-skewed.\n",
    "\n",
    "**Blood Work Result-3 (TS):** The distribution appears highly right-skewed.\n",
    "\n",
    "**Body Mass Index (M11):** The distribution appears approximately symmetric.\n",
    "\n",
    "**Blood Work Result-4 (BD2):** The distribution appears somewhat right-skewed.\n",
    "\n",
    "**Age:** The distribution appears somewhat right-skewed.\n",
    "\n",
    "**Insurance:** The distribution is binary and not continuous.\n",
    "\n",
    "Based on the mean, median, and visual inspection, features like 'PL' (Blood Work Result-1) and 'PR' (Blood Pressure) appear to have distributions that are closer to normal, with symmetric shapes. Other features exhibit skewness to varying degrees."
   ]
  },
  {
   "cell_type": "markdown",
   "metadata": {},
   "source": [
    "### Checking outliers"
   ]
  },
  {
   "cell_type": "code",
   "execution_count": 14,
   "metadata": {},
   "outputs": [
    {
     "data": {
      "image/png": "[encoded data removed]",
      "text/plain": [
       "<Figure size 1500x1200 with 9 Axes>"
      ]
     },
     "metadata": {},
     "output_type": "display_data"
    }
   ],
   "source": [
    "# Identifying outliers using Boxplots\n",
    "\n",
    "# Set up subplots\n",
    "fig, axes = plt.subplots(nrows=3, ncols=3, figsize=(15, 12))\n",
    "fig.suptitle('Boxplots of Numeric Variables', y=1.02, fontsize=16)\n",
    "\n",
    "# Plot boxplots for each numeric variable using Seaborn\n",
    "numeric_features = train_data.select_dtypes(include=['float64', 'int64']).columns\n",
    "for i, feature in enumerate(numeric_features):\n",
    "    row, col = divmod(i, 3)\n",
    "    ax = axes[row, col]\n",
    "    \n",
    "    # Plot boxplot\n",
    "    sns.boxplot(x=train_data[feature], ax=ax)\n",
    "    ax.set_title(f'{feature}')\n",
    "\n",
    "# Adjust layout\n",
    "plt.tight_layout()\n",
    "plt.show()\n"
   ]
  },
  {
   "cell_type": "markdown",
   "metadata": {},
   "source": [
    "### Bivariate Analysis"
   ]
  },
  {
   "cell_type": "markdown",
   "metadata": {},
   "source": [
    "Correlation of numeric features"
   ]
  },
  {
   "cell_type": "markdown",
   "metadata": {},
   "source": [
    "The correlation matrix provides insights into the relationships between pairs of numeric variables in the training dataset. "
   ]
  },
  {
   "cell_type": "code",
   "execution_count": 15,
   "metadata": {},
   "outputs": [
    {
     "data": {
      "text/html": [
       "<div>\n",
       "<style scoped>\n",
       "    .dataframe tbody tr th:only-of-type {\n",
       "        vertical-align: middle;\n",
       "    }\n",
       "\n",
       "    .dataframe tbody tr th {\n",
       "        vertical-align: top;\n",
       "    }\n",
       "\n",
       "    .dataframe thead th {\n",
       "        text-align: right;\n",
       "    }\n",
       "</style>\n",
       "<table border=\"1\" class=\"dataframe\">\n",
       "  <thead>\n",
       "    <tr style=\"text-align: right;\">\n",
       "      <th></th>\n",
       "      <th>PRG</th>\n",
       "      <th>PL</th>\n",
       "      <th>PR</th>\n",
       "      <th>SK</th>\n",
       "      <th>TS</th>\n",
       "      <th>M11</th>\n",
       "      <th>BD2</th>\n",
       "      <th>Age</th>\n",
       "      <th>Insurance</th>\n",
       "    </tr>\n",
       "  </thead>\n",
       "  <tbody>\n",
       "    <tr>\n",
       "      <th>PRG</th>\n",
       "      <td>1.000000</td>\n",
       "      <td>0.139541</td>\n",
       "      <td>0.116680</td>\n",
       "      <td>-0.080902</td>\n",
       "      <td>-0.054812</td>\n",
       "      <td>0.033482</td>\n",
       "      <td>-0.052230</td>\n",
       "      <td>0.532545</td>\n",
       "      <td>0.084631</td>\n",
       "    </tr>\n",
       "    <tr>\n",
       "      <th>PL</th>\n",
       "      <td>0.139541</td>\n",
       "      <td>1.000000</td>\n",
       "      <td>0.143064</td>\n",
       "      <td>0.054430</td>\n",
       "      <td>0.339818</td>\n",
       "      <td>0.215949</td>\n",
       "      <td>0.144665</td>\n",
       "      <td>0.274057</td>\n",
       "      <td>0.050993</td>\n",
       "    </tr>\n",
       "    <tr>\n",
       "      <th>PR</th>\n",
       "      <td>0.116680</td>\n",
       "      <td>0.143064</td>\n",
       "      <td>1.000000</td>\n",
       "      <td>0.197535</td>\n",
       "      <td>0.095281</td>\n",
       "      <td>0.269482</td>\n",
       "      <td>0.008318</td>\n",
       "      <td>0.225625</td>\n",
       "      <td>-0.025365</td>\n",
       "    </tr>\n",
       "    <tr>\n",
       "      <th>SK</th>\n",
       "      <td>-0.080902</td>\n",
       "      <td>0.054430</td>\n",
       "      <td>0.197535</td>\n",
       "      <td>1.000000</td>\n",
       "      <td>0.429068</td>\n",
       "      <td>0.377950</td>\n",
       "      <td>0.176592</td>\n",
       "      <td>-0.121553</td>\n",
       "      <td>-0.017360</td>\n",
       "    </tr>\n",
       "    <tr>\n",
       "      <th>TS</th>\n",
       "      <td>-0.054812</td>\n",
       "      <td>0.339818</td>\n",
       "      <td>0.095281</td>\n",
       "      <td>0.429068</td>\n",
       "      <td>1.000000</td>\n",
       "      <td>0.184747</td>\n",
       "      <td>0.218313</td>\n",
       "      <td>-0.011523</td>\n",
       "      <td>0.041560</td>\n",
       "    </tr>\n",
       "    <tr>\n",
       "      <th>M11</th>\n",
       "      <td>0.033482</td>\n",
       "      <td>0.215949</td>\n",
       "      <td>0.269482</td>\n",
       "      <td>0.377950</td>\n",
       "      <td>0.184747</td>\n",
       "      <td>1.000000</td>\n",
       "      <td>0.127675</td>\n",
       "      <td>0.046117</td>\n",
       "      <td>0.026826</td>\n",
       "    </tr>\n",
       "    <tr>\n",
       "      <th>BD2</th>\n",
       "      <td>-0.052230</td>\n",
       "      <td>0.144665</td>\n",
       "      <td>0.008318</td>\n",
       "      <td>0.176592</td>\n",
       "      <td>0.218313</td>\n",
       "      <td>0.127675</td>\n",
       "      <td>1.000000</td>\n",
       "      <td>0.033567</td>\n",
       "      <td>0.006114</td>\n",
       "    </tr>\n",
       "    <tr>\n",
       "      <th>Age</th>\n",
       "      <td>0.532545</td>\n",
       "      <td>0.274057</td>\n",
       "      <td>0.225625</td>\n",
       "      <td>-0.121553</td>\n",
       "      <td>-0.011523</td>\n",
       "      <td>0.046117</td>\n",
       "      <td>0.033567</td>\n",
       "      <td>1.000000</td>\n",
       "      <td>0.054368</td>\n",
       "    </tr>\n",
       "    <tr>\n",
       "      <th>Insurance</th>\n",
       "      <td>0.084631</td>\n",
       "      <td>0.050993</td>\n",
       "      <td>-0.025365</td>\n",
       "      <td>-0.017360</td>\n",
       "      <td>0.041560</td>\n",
       "      <td>0.026826</td>\n",
       "      <td>0.006114</td>\n",
       "      <td>0.054368</td>\n",
       "      <td>1.000000</td>\n",
       "    </tr>\n",
       "  </tbody>\n",
       "</table>\n",
       "</div>"
      ],
      "text/plain": [
       "                PRG        PL        PR        SK        TS       M11  \\\n",
       "PRG        1.000000  0.139541  0.116680 -0.080902 -0.054812  0.033482   \n",
       "PL         0.139541  1.000000  0.143064  0.054430  0.339818  0.215949   \n",
       "PR         0.116680  0.143064  1.000000  0.197535  0.095281  0.269482   \n",
       "SK        -0.080902  0.054430  0.197535  1.000000  0.429068  0.377950   \n",
       "TS        -0.054812  0.339818  0.095281  0.429068  1.000000  0.184747   \n",
       "M11        0.033482  0.215949  0.269482  0.377950  0.184747  1.000000   \n",
       "BD2       -0.052230  0.144665  0.008318  0.176592  0.218313  0.127675   \n",
       "Age        0.532545  0.274057  0.225625 -0.121553 -0.011523  0.046117   \n",
       "Insurance  0.084631  0.050993 -0.025365 -0.017360  0.041560  0.026826   \n",
       "\n",
       "                BD2       Age  Insurance  \n",
       "PRG       -0.052230  0.532545   0.084631  \n",
       "PL         0.144665  0.274057   0.050993  \n",
       "PR         0.008318  0.225625  -0.025365  \n",
       "SK         0.176592 -0.121553  -0.017360  \n",
       "TS         0.218313 -0.011523   0.041560  \n",
       "M11        0.127675  0.046117   0.026826  \n",
       "BD2        1.000000  0.033567   0.006114  \n",
       "Age        0.033567  1.000000   0.054368  \n",
       "Insurance  0.006114  0.054368   1.000000  "
      ]
     },
     "execution_count": 15,
     "metadata": {},
     "output_type": "execute_result"
    }
   ],
   "source": [
    "# Exclude 'ID' and 'Sepssis' columns\n",
    "columns_to_exclude = ['ID', 'Sepssis']\n",
    "numeric_columns = train_data.drop(columns=columns_to_exclude).select_dtypes(include=['number'])\n",
    "\n",
    "# Calculate correlation matrix\n",
    "correlation = numeric_columns.corr()\n",
    "correlation\n"
   ]
  },
  {
   "cell_type": "markdown",
   "metadata": {},
   "source": [
    "Correlation Heatmap of numeric features"
   ]
  },
  {
   "cell_type": "markdown",
   "metadata": {},
   "source": [
    "The heatmap aids to visually represent the correlation matrix of numeric variables in the training dataset. "
   ]
  },
  {
   "cell_type": "code",
   "execution_count": 16,
   "metadata": {},
   "outputs": [
    {
     "data": {
      "image/png": "[encoded data removed]",
      "text/plain": [
       "<Figure size 1000x800 with 2 Axes>"
      ]
     },
     "metadata": {},
     "output_type": "display_data"
    }
   ],
   "source": [
    "# Exclude 'ID' and 'Sepssis' columns\n",
    "columns_to_exclude = ['ID', 'Sepssis']\n",
    "numeric_columns = train_data.drop(columns=columns_to_exclude).select_dtypes(include=['number'])\n",
    "\n",
    "# Calculate correlation matrix\n",
    "correlation = numeric_columns.corr()\n",
    "\n",
    "# Visualize the correlation matrix as a heatmap with values displayed\n",
    "plt.figure(figsize=(10, 8))\n",
    "sns.heatmap(correlation, annot=True, cmap='coolwarm', fmt=\".2f\", linewidths=.5)\n",
    "\n",
    "# Set the title and display the plot\n",
    "plt.title('Correlation Heatmap with Values')\n",
    "plt.show()\n"
   ]
  },
  {
   "cell_type": "markdown",
   "metadata": {},
   "source": []
  },
  {
   "cell_type": "markdown",
   "metadata": {},
   "source": [
    "### Multivariate Analysis"
   ]
  },
  {
   "cell_type": "code",
   "execution_count": 17,
   "metadata": {},
   "outputs": [],
   "source": [
    "# Create a copy of the train_data DataFrame\n",
    "train_data_copy = train_data.copy()\n"
   ]
  },
  {
   "cell_type": "markdown",
   "metadata": {},
   "source": [
    "### Hypothesis Testing using Logistic Regression\n",
    "\n",
    "**Logistic regression** is a type of multiple regression used for predicting binary outcomes, and it is a suitable approach for analyzing the impact of multiple predictor variables (independent variables) on a binary categorical target variable (dependent variable)."
   ]
  },
  {
   "cell_type": "markdown",
   "metadata": {},
   "source": [
    "**Null hypothesis:** The variables Age, Plasma Glucose (PRG) and Body Mass Index (M11) do not have a statistically significant impact on the likelihood of Sepsis \n",
    "\n",
    "**Alternate hypothesis:** The variables Age, Plasma Glucose (PRG) and Body Mass Index (M11) have a statistically significant impact on the likelihood of Sepsis"
   ]
  },
  {
   "cell_type": "code",
   "execution_count": 18,
   "metadata": {},
   "outputs": [
    {
     "name": "stdout",
     "output_type": "stream",
     "text": [
      "Optimization terminated successfully.\n",
      "         Current function value: 0.547676\n",
      "         Iterations 6\n",
      "                           Logit Regression Results                           \n",
      "==============================================================================\n",
      "Dep. Variable:               Positive   No. Observations:                  479\n",
      "Model:                          Logit   Df Residuals:                      475\n",
      "Method:                           MLE   Df Model:                            3\n",
      "Date:                Sun, 03 Dec 2023   Pseudo R-squ.:                  0.1495\n",
      "Time:                        06:14:25   Log-Likelihood:                -262.34\n",
      "converged:                       True   LL-Null:                       -308.45\n",
      "Covariance Type:            nonrobust   LLR p-value:                 7.251e-20\n",
      "==============================================================================\n",
      "                 coef    std err          z      P>|z|      [0.025      0.975]\n",
      "------------------------------------------------------------------------------\n",
      "const         -5.9038      0.685     -8.619      0.000      -7.246      -4.561\n",
      "Age            0.0302      0.010      2.943      0.003       0.010       0.050\n",
      "PRG            0.1078      0.036      2.964      0.003       0.037       0.179\n",
      "M11            0.1148      0.016      6.979      0.000       0.083       0.147\n",
      "==============================================================================\n"
     ]
    }
   ],
   "source": [
    "# Define features and target variable, excluding 'SK'\n",
    "X = train_data_copy[['Age', 'PRG', 'M11']]\n",
    "y = train_data_copy['Sepssis']\n",
    "\n",
    "# Convert the target variable to binary numeric values (0 and 1)\n",
    "y = pd.get_dummies(y, drop_first=True)['Positive']\n",
    "\n",
    "# Add an intercept\n",
    "X = sm.add_constant(X)\n",
    "\n",
    "# Split the data into training and testing sets\n",
    "X_train, X_test, y_train, y_test = train_test_split(X, y, test_size=0.2, random_state=42)\n",
    "\n",
    "# Fit the logistic regression model\n",
    "logit_model = sm.Logit(y_train, X_train)\n",
    "result = logit_model.fit()\n",
    "\n",
    "# Display the updated model summary\n",
    "print(result.summary())\n"
   ]
  },
  {
   "cell_type": "markdown",
   "metadata": {},
   "source": [
    "Likelihood Ratio Test (LLR) p-value: The LLR p-value is very low which is approximately 0.000, suggesting that at least one of the predictor variables is significantly related to the outcome variable (Sepsis).\n",
    "\n",
    "The Pseudo R-squared is approximately 0.1495, which means that the model explains about 14.95% of the variance in the dependent variable (likelihood of Sepsis) based on the included independent variables (Age, Plasma Glucose and Body Mass Index).\n",
    "\n",
    "The logistic regression model shows that the p-values for Age, Plasma Glucose (PRG), and Body Mass Index (M11) are less than the alpha value(0.01). This implies that they are statistically significant predictors of the likelihood of Sepsis.\n",
    "\n",
    "Based on the results, we reject the null hypothesis and conclude that Age, Plasma Glucose (PRG) and Body Mass Index (M11) have a statistically significant impact on the likelihood of Sepsis."
   ]
  },
  {
   "cell_type": "markdown",
   "metadata": {},
   "source": [
    "1.  What is the distribution of plasma glucose levels in the dataset?"
   ]
  },
  {
   "cell_type": "code",
   "execution_count": 19,
   "metadata": {},
   "outputs": [
    {
     "name": "stdout",
     "output_type": "stream",
     "text": [
      "PRG\n",
      "1     100\n",
      "0      93\n",
      "2      76\n",
      "3      59\n",
      "4      54\n",
      "5      49\n",
      "7      37\n",
      "6      37\n",
      "8      32\n",
      "9      20\n",
      "10     16\n",
      "12      8\n",
      "11      7\n",
      "13      7\n",
      "14      2\n",
      "15      1\n",
      "17      1\n",
      "Name: count, dtype: int64\n"
     ]
    },
    {
     "data": {
      "image/png": "[encoded data removed]",
      "text/plain": [
       "<Figure size 1000x600 with 1 Axes>"
      ]
     },
     "metadata": {},
     "output_type": "display_data"
    }
   ],
   "source": [
    "# DataFrame\n",
    "plasma_glucose_counts = train_data_copy['PRG'].value_counts()\n",
    "\n",
    "# Print the values and their respective frequencies\n",
    "print(plasma_glucose_counts)\n",
    "\n",
    "# Plot the histogram\n",
    "plt.figure(figsize=(10, 6))\n",
    "sns.histplot(train_data_copy['PRG'], kde=True, bins=30, color='green')\n",
    "plt.title('Distribution of Plasma Glucose Levels in the Dataset')\n",
    "plt.xlabel('Plasma Glucose Levels (PRG)')\n",
    "plt.ylabel('Frequency')\n",
    "plt.show()\n"
   ]
  },
  {
   "cell_type": "markdown",
   "metadata": {},
   "source": [
    "The plot shows how the values are distributed and the relative frequency of each PRG level. \n",
    "The distribution of PRG levels in the dataset is right-skewed, with a higher frequency of lower values (towards the left side of the histogram).\n",
    "The majority of patients seem to have PRG values around 0, 1, and 2, as these values have higher counts."
   ]
  },
  {
   "cell_type": "markdown",
   "metadata": {},
   "source": [
    "2. Is there a significant difference in plasma glucose levels between patients who develop sepsis and those who do not?"
   ]
  },
  {
   "cell_type": "markdown",
   "metadata": {},
   "source": [
    "The **Mann-Whitney U test**, also known as the Wilcoxon rank-sum test, is a non-parametric statistical test used to assess whether there is a difference between two independent groups. It's particularly useful when the data is not normally distributed or when the assumption of homogeneity of variances is violated."
   ]
  },
  {
   "cell_type": "code",
   "execution_count": 20,
   "metadata": {},
   "outputs": [
    {
     "name": "stdout",
     "output_type": "stream",
     "text": [
      "Mann-Whitney U test statistic: 49635.0\n",
      "P-value: 0.00001\n",
      "There is a significant difference in plasma glucose levels between patients with and without sepsis.\n"
     ]
    }
   ],
   "source": [
    "sepsis_positive = train_data_copy[train_data_copy['Sepssis'] == 'Positive']['PRG']\n",
    "sepsis_negative = train_data_copy[train_data_copy['Sepssis'] == 'Negative']['PRG']\n",
    "\n",
    "# Perform the Mann-Whitney U test\n",
    "statistic, p_value = mannwhitneyu(sepsis_positive, sepsis_negative)\n",
    "\n",
    "# Format the p-value as a regular decimal\n",
    "formatted_p_value = \"{:.5f}\".format(p_value)\n",
    "\n",
    "# Print the results\n",
    "print(f\"Mann-Whitney U test statistic: {statistic}\")\n",
    "print(f\"P-value: {formatted_p_value}\")\n",
    "\n",
    "# Check for statistical significance\n",
    "alpha = 0.01\n",
    "if p_value < alpha:\n",
    "    print(\"There is a significant difference in plasma glucose levels between patients with and without sepsis.\")\n",
    "else:\n",
    "    print(\"There is no significant difference in plasma glucose levels between patients with and without sepsis.\")\n",
    "\n"
   ]
  },
  {
   "cell_type": "markdown",
   "metadata": {},
   "source": [
    "This suggests that there is evidence supporting the idea that plasma glucose levels differ between patients who develop sepsis and those who do not. "
   ]
  },
  {
   "cell_type": "markdown",
   "metadata": {},
   "source": [
    "3.  What is the average BMI among patients who develop sepsis?"
   ]
  },
  {
   "cell_type": "code",
   "execution_count": 21,
   "metadata": {},
   "outputs": [
    {
     "name": "stdout",
     "output_type": "stream",
     "text": [
      "The average BMI among patients who develop sepsis is: 35.39\n"
     ]
    }
   ],
   "source": [
    "# DataFrame\n",
    "average_bmi_sepsis = train_data_copy[train_data_copy['Sepssis'] == 'Positive']['M11'].mean()\n",
    "\n",
    "print(f\"The average BMI among patients who develop sepsis is: {average_bmi_sepsis:.2f}\")\n"
   ]
  },
  {
   "cell_type": "code",
   "execution_count": 22,
   "metadata": {},
   "outputs": [
    {
     "data": {
      "image/png": "[encoded data removed]",
      "text/plain": [
       "<Figure size 1000x600 with 1 Axes>"
      ]
     },
     "metadata": {},
     "output_type": "display_data"
    }
   ],
   "source": [
    "plt.figure(figsize=(10, 6))\n",
    "\n",
    "# Create a histogram for BMI among patients with sepsis\n",
    "sns.histplot(train_data_copy[train_data_copy['Sepssis'] == 'Positive']['M11'], kde=True, bins=30, color='red')\n",
    "\n",
    "# Set plot labels and title\n",
    "plt.title('Distribution of BMI Among Patients with Sepsis')\n",
    "plt.xlabel('BMI (M11)')\n",
    "plt.ylabel('Frequency')\n",
    "\n",
    "# Show the plot\n",
    "plt.show()\n"
   ]
  },
  {
   "cell_type": "markdown",
   "metadata": {},
   "source": [
    "The average BMI of 35.39 suggests the typical BMI among patients who develop sepsis. The symmetric shape suggests that, on average, BMI values are evenly distributed around the central tendency. "
   ]
  },
  {
   "cell_type": "markdown",
   "metadata": {},
   "source": [
    "4.  Is there a difference in body mass index (BMI) between patients with and without sepsis?"
   ]
  },
  {
   "cell_type": "code",
   "execution_count": 23,
   "metadata": {},
   "outputs": [
    {
     "name": "stdout",
     "output_type": "stream",
     "text": [
      "Mann-Whitney U test statistic for BMI: 56864.0\n",
      "P-value for BMI: 0.00000\n",
      "There is a significant difference in body mass index (BMI) between patients with and without sepsis.\n"
     ]
    }
   ],
   "source": [
    "sepsis_positive_bmi = train_data_copy[train_data_copy['Sepssis'] == 'Positive']['M11']\n",
    "sepsis_negative_bmi = train_data_copy[train_data_copy['Sepssis'] == 'Negative']['M11']\n",
    "\n",
    "# Perform the Mann-Whitney U test\n",
    "statistic_bmi, p_value_bmi = mannwhitneyu(sepsis_positive_bmi, sepsis_negative_bmi)\n",
    "\n",
    "# Print the results\n",
    "print(f\"Mann-Whitney U test statistic for BMI: {statistic_bmi}\")\n",
    "print(f\"P-value for BMI: {p_value_bmi:.5f}\")\n",
    "\n",
    "# Check for statistical significance\n",
    "alpha = 0.01\n",
    "if p_value_bmi < alpha:\n",
    "    print(\"There is a significant difference in body mass index (BMI) between patients with and without sepsis.\")\n",
    "else:\n",
    "    print(\"There is no significant difference in body mass index (BMI) between patients with and without sepsis.\")\n"
   ]
  },
  {
   "cell_type": "markdown",
   "metadata": {},
   "source": [
    "This suggests that there is evidence supporting the idea that BMI values differ between patients who develop sepsis and those who do not."
   ]
  },
  {
   "cell_type": "markdown",
   "metadata": {},
   "source": [
    "5. Is there a specific age range where the likelihood of sepsis is higher?"
   ]
  },
  {
   "cell_type": "code",
   "execution_count": 24,
   "metadata": {},
   "outputs": [
    {
     "name": "stdout",
     "output_type": "stream",
     "text": [
      "Sepssis      Negative   Positive\n",
      "Age Group                       \n",
      "20-29       77.524430  22.475570\n",
      "30-39       55.147059  44.852941\n",
      "40-49       45.882353  54.117647\n",
      "50-59       43.181818  56.818182\n",
      "60-69       72.000000  28.000000\n",
      "70-79      100.000000   0.000000\n",
      "80-89      100.000000   0.000000\n",
      "90-100       0.000000   0.000000\n"
     ]
    },
    {
     "data": {
      "image/png": "[encoded data removed]",
      "text/plain": [
       "<Figure size 1200x600 with 1 Axes>"
      ]
     },
     "metadata": {},
     "output_type": "display_data"
    }
   ],
   "source": [
    "# Create age groups (e.g., bins of 10 years)\n",
    "age_bins = [20, 30, 40, 50, 60, 70, 80, 90, 100]\n",
    "age_labels = ['20-29', '30-39', '40-49', '50-59', '60-69', '70-79', '80-89', '90-100']\n",
    "\n",
    "# Add 'Age Group' column to the DataFrame\n",
    "train_data_copy['Age Group'] = pd.cut(train_data_copy['Age'], bins=age_bins, labels=age_labels, right=False)\n",
    "\n",
    "# Calculate the percentage of patients with sepsis in each age group\n",
    "sepsis_percentage_by_age = (\n",
    "    train_data_copy.groupby('Age Group')['Sepssis']\n",
    "    .value_counts(normalize=True)\n",
    "    .mul(100)\n",
    "    .unstack()\n",
    "    .fillna(0)\n",
    ")\n",
    "\n",
    "# Print the calculated percentages\n",
    "print(sepsis_percentage_by_age)\n",
    "\n",
    "# Plot the percentages\n",
    "sepsis_percentage_by_age.plot(kind='bar', stacked=True, color=['blue', 'red'], figsize=(12, 6))\n",
    "plt.title('Percentage of Sepsis Cases Across Different Age Groups')\n",
    "plt.xlabel('Age Group')\n",
    "plt.ylabel('Percentage')\n",
    "plt.legend(title='Sepsis Status')\n",
    "plt.show()\n"
   ]
  },
  {
   "cell_type": "markdown",
   "metadata": {},
   "source": [
    "Each row in the table corresponds to an age group, and the columns indicate the percentage of patients with and without sepsis in each group.\n",
    "In age groups 20-29, 30-39, 40-49, and 50-59, the percentage of patients with sepsis is higher than in the older age groups.\n",
    "Notably, in the 70-79 and 80-89 age groups, there are no patients with sepsis based on the dataset."
   ]
  },
  {
   "cell_type": "markdown",
   "metadata": {},
   "source": [
    "6.  Is the impact of insurance status on sepsis likelihood consistent across different age groups?"
   ]
  },
  {
   "cell_type": "code",
   "execution_count": 25,
   "metadata": {},
   "outputs": [
    {
     "data": {
      "image/png": "[encoded data removed]",
      "text/plain": [
       "<Figure size 1400x800 with 1 Axes>"
      ]
     },
     "metadata": {},
     "output_type": "display_data"
    }
   ],
   "source": [
    "plt.figure(figsize=(14, 8))\n",
    "\n",
    "# Create a stacked bar chart for sepsis cases, considering age group and insurance status\n",
    "sns.countplot(x='Age Group', hue='Sepssis', data=train_data_copy, palette={'Positive': 'red', 'Negative': 'blue'}, hue_order=['Positive', 'Negative'], dodge=True)\n",
    "plt.title('Distribution of Sepsis Cases Across Age Groups by Insurance Status')\n",
    "plt.xlabel('Age Group')\n",
    "plt.ylabel('Count')\n",
    "plt.legend(title='Sepsis Status', loc='upper right')\n",
    "\n",
    "# Show the plot\n",
    "plt.show()\n"
   ]
  },
  {
   "cell_type": "markdown",
   "metadata": {},
   "source": [
    " In the 20-29, 30-39 and 60-69 age groups, the proportion of sepsis cases appears higher among patients without insurance compared to those with insurance.\n",
    " In the age groups 40-49 and 50-59, the proportion of sepsis cases appears higher among patients with insurance compared to those without insurance."
   ]
  },
  {
   "cell_type": "markdown",
   "metadata": {},
   "source": [
    "## Feature Selection\n",
    "The best features will be selected for our algorithm.We will use phi-k correlation which is an extension of phi correlation. It returns a matrix of correlation values between the categorical variables. The higher the value, the stronger the association between the variables."
   ]
  },
  {
   "cell_type": "code",
   "execution_count": 26,
   "metadata": {},
   "outputs": [
    {
     "data": {
      "text/plain": [
       "ID             object\n",
       "PRG             int64\n",
       "PL              int64\n",
       "PR              int64\n",
       "SK              int64\n",
       "TS              int64\n",
       "M11           float64\n",
       "BD2           float64\n",
       "Age             int64\n",
       "Insurance       int64\n",
       "Sepssis        object\n",
       "Age Group    category\n",
       "dtype: object"
      ]
     },
     "execution_count": 26,
     "metadata": {},
     "output_type": "execute_result"
    }
   ],
   "source": [
    "train_data_copy.dtypes"
   ]
  },
  {
   "cell_type": "code",
   "execution_count": 27,
   "metadata": {},
   "outputs": [],
   "source": [
    "# Convert 'Sepssis' to numeric values\n",
    "train_data_copy['Sepssis'] = train_data_copy['Sepssis'].map({'Positive': 1, 'Negative': 0})\n"
   ]
  },
  {
   "cell_type": "code",
   "execution_count": 28,
   "metadata": {},
   "outputs": [
    {
     "name": "stdout",
     "output_type": "stream",
     "text": [
      "Correlation Values (Descending Order):\n",
      "Sepssis      1.000000\n",
      "PL           0.449719\n",
      "M11          0.315894\n",
      "Age          0.210234\n",
      "PRG          0.207115\n",
      "BD2          0.181561\n",
      "TS           0.145892\n",
      "SK           0.075585\n",
      "Insurance    0.062582\n",
      "PR           0.061086\n",
      "dtype: float64\n",
      "\n",
      "Selected Features:\n",
      "['Sepssis', 'PL', 'M11', 'Age', 'PRG', 'BD2', 'TS', 'SK', 'Insurance', 'PR']\n"
     ]
    }
   ],
   "source": [
    "# DataFrame with numeric features and the target variable\n",
    "# Drop any non-numeric columns if needed\n",
    "numeric_data = train_data_copy.select_dtypes(include='number')\n",
    "\n",
    "# Calculate Pearson correlation between each numeric feature and the target variable\n",
    "correlations = numeric_data.corrwith(train_data_copy['Sepssis'])\n",
    "\n",
    "# Sort correlation values in descending order\n",
    "sorted_correlations = correlations.sort_values(ascending=False)\n",
    "\n",
    "# Display all correlation values in descending order\n",
    "print(\"Correlation Values (Descending Order):\")\n",
    "print(sorted_correlations)\n",
    "\n",
    "# Set a threshold for feature selection\n",
    "threshold = 0.0  # You can adjust this threshold based on your preference\n",
    "\n",
    "# Select features with correlation above the threshold\n",
    "selected_features = sorted_correlations[abs(sorted_correlations) > threshold].index.tolist()\n",
    "\n",
    "# Display selected features\n",
    "print(\"\\nSelected Features:\")\n",
    "print(selected_features)\n"
   ]
  },
  {
   "cell_type": "markdown",
   "metadata": {},
   "source": [
    "For feature selection, features with correlations above the threshold 0.0 are chosen. The selected features are 'PL', 'M11', 'Age', 'PRG', 'BD2', 'TS', 'SK', 'Insurance', 'PR'.\n",
    "\n",
    "These features are considered relevant as they have correlations above the specified threshold and can potentially contribute to predicting the likelihood of sepsis."
   ]
  },
  {
   "cell_type": "markdown",
   "metadata": {},
   "source": [
    "Drop Irrelevant Columns"
   ]
  },
  {
   "cell_type": "code",
   "execution_count": 29,
   "metadata": {},
   "outputs": [
    {
     "data": {
      "text/html": [
       "<div>\n",
       "<style scoped>\n",
       "    .dataframe tbody tr th:only-of-type {\n",
       "        vertical-align: middle;\n",
       "    }\n",
       "\n",
       "    .dataframe tbody tr th {\n",
       "        vertical-align: top;\n",
       "    }\n",
       "\n",
       "    .dataframe thead th {\n",
       "        text-align: right;\n",
       "    }\n",
       "</style>\n",
       "<table border=\"1\" class=\"dataframe\">\n",
       "  <thead>\n",
       "    <tr style=\"text-align: right;\">\n",
       "      <th></th>\n",
       "      <th>PRG</th>\n",
       "      <th>PL</th>\n",
       "      <th>PR</th>\n",
       "      <th>SK</th>\n",
       "      <th>TS</th>\n",
       "      <th>M11</th>\n",
       "      <th>BD2</th>\n",
       "      <th>Age</th>\n",
       "      <th>Insurance</th>\n",
       "      <th>Sepssis</th>\n",
       "    </tr>\n",
       "  </thead>\n",
       "  <tbody>\n",
       "    <tr>\n",
       "      <th>0</th>\n",
       "      <td>6</td>\n",
       "      <td>148</td>\n",
       "      <td>72</td>\n",
       "      <td>35</td>\n",
       "      <td>0</td>\n",
       "      <td>33.6</td>\n",
       "      <td>0.627</td>\n",
       "      <td>50</td>\n",
       "      <td>0</td>\n",
       "      <td>Positive</td>\n",
       "    </tr>\n",
       "    <tr>\n",
       "      <th>1</th>\n",
       "      <td>1</td>\n",
       "      <td>85</td>\n",
       "      <td>66</td>\n",
       "      <td>29</td>\n",
       "      <td>0</td>\n",
       "      <td>26.6</td>\n",
       "      <td>0.351</td>\n",
       "      <td>31</td>\n",
       "      <td>0</td>\n",
       "      <td>Negative</td>\n",
       "    </tr>\n",
       "    <tr>\n",
       "      <th>2</th>\n",
       "      <td>8</td>\n",
       "      <td>183</td>\n",
       "      <td>64</td>\n",
       "      <td>0</td>\n",
       "      <td>0</td>\n",
       "      <td>23.3</td>\n",
       "      <td>0.672</td>\n",
       "      <td>32</td>\n",
       "      <td>1</td>\n",
       "      <td>Positive</td>\n",
       "    </tr>\n",
       "    <tr>\n",
       "      <th>3</th>\n",
       "      <td>1</td>\n",
       "      <td>89</td>\n",
       "      <td>66</td>\n",
       "      <td>23</td>\n",
       "      <td>94</td>\n",
       "      <td>28.1</td>\n",
       "      <td>0.167</td>\n",
       "      <td>21</td>\n",
       "      <td>1</td>\n",
       "      <td>Negative</td>\n",
       "    </tr>\n",
       "    <tr>\n",
       "      <th>4</th>\n",
       "      <td>0</td>\n",
       "      <td>137</td>\n",
       "      <td>40</td>\n",
       "      <td>35</td>\n",
       "      <td>168</td>\n",
       "      <td>43.1</td>\n",
       "      <td>2.288</td>\n",
       "      <td>33</td>\n",
       "      <td>1</td>\n",
       "      <td>Positive</td>\n",
       "    </tr>\n",
       "  </tbody>\n",
       "</table>\n",
       "</div>"
      ],
      "text/plain": [
       "   PRG   PL  PR  SK   TS   M11    BD2  Age  Insurance   Sepssis\n",
       "0    6  148  72  35    0  33.6  0.627   50          0  Positive\n",
       "1    1   85  66  29    0  26.6  0.351   31          0  Negative\n",
       "2    8  183  64   0    0  23.3  0.672   32          1  Positive\n",
       "3    1   89  66  23   94  28.1  0.167   21          1  Negative\n",
       "4    0  137  40  35  168  43.1  2.288   33          1  Positive"
      ]
     },
     "execution_count": 29,
     "metadata": {},
     "output_type": "execute_result"
    }
   ],
   "source": [
    "# Drop specific columns\n",
    "columns_to_drop = ['ID']\n",
    "train_data_final = train_data.drop(columns=columns_to_drop)\n",
    "\n",
    "# Display the updated DataFrame\n",
    "train_data_final.head()\n"
   ]
  },
  {
   "cell_type": "markdown",
   "metadata": {},
   "source": [
    "# Modeling"
   ]
  },
  {
   "cell_type": "markdown",
   "metadata": {},
   "source": [
    "Split Dataset into X and y"
   ]
  },
  {
   "cell_type": "code",
   "execution_count": 30,
   "metadata": {},
   "outputs": [],
   "source": [
    "X = train_data_final.drop(columns=['Sepssis'])  # Features (all columns except 'Sepssis')\n",
    "y = train_data_final['Sepssis']  # Target variable"
   ]
  },
  {
   "cell_type": "code",
   "execution_count": 31,
   "metadata": {},
   "outputs": [
    {
     "data": {
      "text/html": [
       "<div>\n",
       "<style scoped>\n",
       "    .dataframe tbody tr th:only-of-type {\n",
       "        vertical-align: middle;\n",
       "    }\n",
       "\n",
       "    .dataframe tbody tr th {\n",
       "        vertical-align: top;\n",
       "    }\n",
       "\n",
       "    .dataframe thead th {\n",
       "        text-align: right;\n",
       "    }\n",
       "</style>\n",
       "<table border=\"1\" class=\"dataframe\">\n",
       "  <thead>\n",
       "    <tr style=\"text-align: right;\">\n",
       "      <th></th>\n",
       "      <th>PRG</th>\n",
       "      <th>PL</th>\n",
       "      <th>PR</th>\n",
       "      <th>SK</th>\n",
       "      <th>TS</th>\n",
       "      <th>M11</th>\n",
       "      <th>BD2</th>\n",
       "      <th>Age</th>\n",
       "      <th>Insurance</th>\n",
       "    </tr>\n",
       "  </thead>\n",
       "  <tbody>\n",
       "    <tr>\n",
       "      <th>0</th>\n",
       "      <td>6</td>\n",
       "      <td>148</td>\n",
       "      <td>72</td>\n",
       "      <td>35</td>\n",
       "      <td>0</td>\n",
       "      <td>33.6</td>\n",
       "      <td>0.627</td>\n",
       "      <td>50</td>\n",
       "      <td>0</td>\n",
       "    </tr>\n",
       "    <tr>\n",
       "      <th>1</th>\n",
       "      <td>1</td>\n",
       "      <td>85</td>\n",
       "      <td>66</td>\n",
       "      <td>29</td>\n",
       "      <td>0</td>\n",
       "      <td>26.6</td>\n",
       "      <td>0.351</td>\n",
       "      <td>31</td>\n",
       "      <td>0</td>\n",
       "    </tr>\n",
       "    <tr>\n",
       "      <th>2</th>\n",
       "      <td>8</td>\n",
       "      <td>183</td>\n",
       "      <td>64</td>\n",
       "      <td>0</td>\n",
       "      <td>0</td>\n",
       "      <td>23.3</td>\n",
       "      <td>0.672</td>\n",
       "      <td>32</td>\n",
       "      <td>1</td>\n",
       "    </tr>\n",
       "    <tr>\n",
       "      <th>3</th>\n",
       "      <td>1</td>\n",
       "      <td>89</td>\n",
       "      <td>66</td>\n",
       "      <td>23</td>\n",
       "      <td>94</td>\n",
       "      <td>28.1</td>\n",
       "      <td>0.167</td>\n",
       "      <td>21</td>\n",
       "      <td>1</td>\n",
       "    </tr>\n",
       "    <tr>\n",
       "      <th>4</th>\n",
       "      <td>0</td>\n",
       "      <td>137</td>\n",
       "      <td>40</td>\n",
       "      <td>35</td>\n",
       "      <td>168</td>\n",
       "      <td>43.1</td>\n",
       "      <td>2.288</td>\n",
       "      <td>33</td>\n",
       "      <td>1</td>\n",
       "    </tr>\n",
       "  </tbody>\n",
       "</table>\n",
       "</div>"
      ],
      "text/plain": [
       "   PRG   PL  PR  SK   TS   M11    BD2  Age  Insurance\n",
       "0    6  148  72  35    0  33.6  0.627   50          0\n",
       "1    1   85  66  29    0  26.6  0.351   31          0\n",
       "2    8  183  64   0    0  23.3  0.672   32          1\n",
       "3    1   89  66  23   94  28.1  0.167   21          1\n",
       "4    0  137  40  35  168  43.1  2.288   33          1"
      ]
     },
     "execution_count": 31,
     "metadata": {},
     "output_type": "execute_result"
    }
   ],
   "source": [
    "X.head()"
   ]
  },
  {
   "cell_type": "code",
   "execution_count": 32,
   "metadata": {},
   "outputs": [
    {
     "data": {
      "text/plain": [
       "(599, 9)"
      ]
     },
     "execution_count": 32,
     "metadata": {},
     "output_type": "execute_result"
    }
   ],
   "source": [
    "X.shape"
   ]
  },
  {
   "cell_type": "code",
   "execution_count": 33,
   "metadata": {},
   "outputs": [
    {
     "data": {
      "text/plain": [
       "0    Positive\n",
       "1    Negative\n",
       "2    Positive\n",
       "3    Negative\n",
       "4    Positive\n",
       "Name: Sepssis, dtype: object"
      ]
     },
     "execution_count": 33,
     "metadata": {},
     "output_type": "execute_result"
    }
   ],
   "source": [
    "y.head()"
   ]
  },
  {
   "cell_type": "code",
   "execution_count": 34,
   "metadata": {},
   "outputs": [
    {
     "data": {
      "text/plain": [
       "pandas.core.series.Series"
      ]
     },
     "execution_count": 34,
     "metadata": {},
     "output_type": "execute_result"
    }
   ],
   "source": [
    "type(y)"
   ]
  },
  {
   "cell_type": "code",
   "execution_count": 35,
   "metadata": {},
   "outputs": [
    {
     "data": {
      "text/plain": [
       "Index(['PRG', 'PL', 'PR', 'SK', 'TS', 'M11', 'BD2', 'Age', 'Insurance'], dtype='object')"
      ]
     },
     "execution_count": 35,
     "metadata": {},
     "output_type": "execute_result"
    }
   ],
   "source": [
    "\n",
    "X.columns"
   ]
  },
  {
   "cell_type": "code",
   "execution_count": 36,
   "metadata": {},
   "outputs": [
    {
     "data": {
      "text/plain": [
       "PRG            int64\n",
       "PL             int64\n",
       "PR             int64\n",
       "SK             int64\n",
       "TS             int64\n",
       "M11          float64\n",
       "BD2          float64\n",
       "Age            int64\n",
       "Insurance      int64\n",
       "dtype: object"
      ]
     },
     "execution_count": 36,
     "metadata": {},
     "output_type": "execute_result"
    }
   ],
   "source": [
    "X.dtypes"
   ]
  },
  {
   "cell_type": "code",
   "execution_count": 37,
   "metadata": {},
   "outputs": [],
   "source": [
    "# Specify the numeric features for scaling\n",
    "input_features = X.columns"
   ]
  },
  {
   "cell_type": "code",
   "execution_count": 38,
   "metadata": {},
   "outputs": [
    {
     "data": {
      "text/plain": [
       "Index(['PRG', 'PL', 'PR', 'SK', 'TS', 'M11', 'BD2', 'Age', 'Insurance'], dtype='object')"
      ]
     },
     "execution_count": 38,
     "metadata": {},
     "output_type": "execute_result"
    }
   ],
   "source": [
    "input_features"
   ]
  },
  {
   "cell_type": "markdown",
   "metadata": {},
   "source": [
    "Create Piplines"
   ]
  },
  {
   "cell_type": "code",
   "execution_count": 39,
   "metadata": {},
   "outputs": [],
   "source": [
    "# Specify the transformation functions\n",
    "preprocessor = ColumnTransformer(transformers=[\n",
    "    ('scaler', StandardScaler(), input_features),\n",
    "    ('log transformation', FunctionTransformer(np.log1p), input_features),\n",
    "], remainder='passthrough')  # Include non-numeric features as they are"
   ]
  },
  {
   "cell_type": "markdown",
   "metadata": {},
   "source": [
    "This preprocessor will be used in a pipeline to preprocess the data before feeding it into a model. "
   ]
  },
  {
   "cell_type": "markdown",
   "metadata": {},
   "source": [
    "**Training Models**"
   ]
  },
  {
   "cell_type": "markdown",
   "metadata": {},
   "source": [
    "1. Train Model 1 - K-Nearest Neighbour (Distance model)"
   ]
  },
  {
   "cell_type": "code",
   "execution_count": 40,
   "metadata": {},
   "outputs": [],
   "source": [
    "neighbors = KNeighborsClassifier()\n",
    "pipeline = Pipeline(steps=\n",
    "                    [('preprocessor',preprocessor),\n",
    "                     ('neighbors',neighbors),\n",
    "])"
   ]
  },
  {
   "cell_type": "code",
   "execution_count": 41,
   "metadata": {},
   "outputs": [
    {
     "name": "stdout",
     "output_type": "stream",
     "text": [
      "X_train shape: (479, 9)\n",
      "X_test shape: (120, 9)\n",
      "y_train shape: (479,)\n",
      "y_test shape: (120,)\n"
     ]
    }
   ],
   "source": [
    "# Split the data into training and testing sets, with stratification\n",
    "X_train, X_test, y_train, y_test = train_test_split(X, y, test_size=0.2, stratify=y, random_state=42)\n",
    "\n",
    "# Print the shapes of the resulting sets\n",
    "print(\"X_train shape:\",X_train.shape)\n",
    "print(\"X_test shape:\",X_test.shape)\n",
    "print(\"y_train shape:\",y_train.shape)\n",
    "print(\"y_test shape:\", y_test.shape)"
   ]
  },
  {
   "cell_type": "code",
   "execution_count": null,
   "metadata": {},
   "outputs": [],
   "source": []
  },
  {
   "cell_type": "code",
   "execution_count": 42,
   "metadata": {},
   "outputs": [],
   "source": [
    "# Encode the target variable using LabelEncoder\n",
    "label_encoder = LabelEncoder()\n",
    "y_train_encoded = label_encoder.fit_transform(y_train)\n",
    "y_test_encoded = label_encoder.transform(y_test)\n",
    "\n",
    "# Fit the pipeline on the training data\n",
    "pipeline.fit(X_train, y_train_encoded)\n",
    "\n",
    "# Make predictions on the test data\n",
    "knn_pred = pipeline.predict(X_test)"
   ]
  },
  {
   "cell_type": "code",
   "execution_count": 43,
   "metadata": {},
   "outputs": [
    {
     "name": "stdout",
     "output_type": "stream",
     "text": [
      "              precision    recall  f1-score   support\n",
      "\n",
      "           0       0.77      0.78      0.78        78\n",
      "           1       0.59      0.57      0.58        42\n",
      "\n",
      "    accuracy                           0.71       120\n",
      "   macro avg       0.68      0.68      0.68       120\n",
      "weighted avg       0.71      0.71      0.71       120\n",
      "\n"
     ]
    }
   ],
   "source": [
    "# Print the classification report\n",
    "print(classification_report(y_test_encoded, knn_pred))"
   ]
  },
  {
   "cell_type": "markdown",
   "metadata": {},
   "source": [
    "The model achieved an overall accuracy of 71% on the test set. Precision for class 0 (Negative) is 77%, and recall is 78%. Precision for class 1 (Positive) is 59%, and recall is 57%. The F1-score, which balances precision and recall, is 0.78 for class 0 and 0.58 for class 1."
   ]
  },
  {
   "cell_type": "markdown",
   "metadata": {},
   "source": [
    "2. Train Model 2 - Logistic Regression (Gradient Descent)"
   ]
  },
  {
   "cell_type": "code",
   "execution_count": 44,
   "metadata": {},
   "outputs": [
    {
     "data": {
      "text/html": [
       "<style>#sk-container-id-1 {color: black;background-color: white;}#sk-container-id-1 pre{padding: 0;}#sk-container-id-1 div.sk-toggleable {background-color: white;}#sk-container-id-1 label.sk-toggleable__label {cursor: pointer;display: block;width: 100%;margin-bottom: 0;padding: 0.3em;box-sizing: border-box;text-align: center;}#sk-container-id-1 label.sk-toggleable__label-arrow:before {content: \"▸\";float: left;margin-right: 0.25em;color: #696969;}#sk-container-id-1 label.sk-toggleable__label-arrow:hover:before {color: black;}#sk-container-id-1 div.sk-estimator:hover label.sk-toggleable__label-arrow:before {color: black;}#sk-container-id-1 div.sk-toggleable__content {max-height: 0;max-width: 0;overflow: hidden;text-align: left;background-color: #f0f8ff;}#sk-container-id-1 div.sk-toggleable__content pre {margin: 0.2em;color: black;border-radius: 0.25em;background-color: #f0f8ff;}#sk-container-id-1 input.sk-toggleable__control:checked~div.sk-toggleable__content {max-height: 200px;max-width: 100%;overflow: auto;}#sk-container-id-1 input.sk-toggleable__control:checked~label.sk-toggleable__label-arrow:before {content: \"▾\";}#sk-container-id-1 div.sk-estimator input.sk-toggleable__control:checked~label.sk-toggleable__label {background-color: #d4ebff;}#sk-container-id-1 div.sk-label input.sk-toggleable__control:checked~label.sk-toggleable__label {background-color: #d4ebff;}#sk-container-id-1 input.sk-hidden--visually {border: 0;clip: rect(1px 1px 1px 1px);clip: rect(1px, 1px, 1px, 1px);height: 1px;margin: -1px;overflow: hidden;padding: 0;position: absolute;width: 1px;}#sk-container-id-1 div.sk-estimator {font-family: monospace;background-color: #f0f8ff;border: 1px dotted black;border-radius: 0.25em;box-sizing: border-box;margin-bottom: 0.5em;}#sk-container-id-1 div.sk-estimator:hover {background-color: #d4ebff;}#sk-container-id-1 div.sk-parallel-item::after {content: \"\";width: 100%;border-bottom: 1px solid gray;flex-grow: 1;}#sk-container-id-1 div.sk-label:hover label.sk-toggleable__label {background-color: #d4ebff;}#sk-container-id-1 div.sk-serial::before {content: \"\";position: absolute;border-left: 1px solid gray;box-sizing: border-box;top: 0;bottom: 0;left: 50%;z-index: 0;}#sk-container-id-1 div.sk-serial {display: flex;flex-direction: column;align-items: center;background-color: white;padding-right: 0.2em;padding-left: 0.2em;position: relative;}#sk-container-id-1 div.sk-item {position: relative;z-index: 1;}#sk-container-id-1 div.sk-parallel {display: flex;align-items: stretch;justify-content: center;background-color: white;position: relative;}#sk-container-id-1 div.sk-item::before, #sk-container-id-1 div.sk-parallel-item::before {content: \"\";position: absolute;border-left: 1px solid gray;box-sizing: border-box;top: 0;bottom: 0;left: 50%;z-index: -1;}#sk-container-id-1 div.sk-parallel-item {display: flex;flex-direction: column;z-index: 1;position: relative;background-color: white;}#sk-container-id-1 div.sk-parallel-item:first-child::after {align-self: flex-end;width: 50%;}#sk-container-id-1 div.sk-parallel-item:last-child::after {align-self: flex-start;width: 50%;}#sk-container-id-1 div.sk-parallel-item:only-child::after {width: 0;}#sk-container-id-1 div.sk-dashed-wrapped {border: 1px dashed gray;margin: 0 0.4em 0.5em 0.4em;box-sizing: border-box;padding-bottom: 0.4em;background-color: white;}#sk-container-id-1 div.sk-label label {font-family: monospace;font-weight: bold;display: inline-block;line-height: 1.2em;}#sk-container-id-1 div.sk-label-container {text-align: center;}#sk-container-id-1 div.sk-container {/* jupyter's `normalize.less` sets `[hidden] { display: none; }` but bootstrap.min.css set `[hidden] { display: none !important; }` so we also need the `!important` here to be able to override the default hidden behavior on the sphinx rendered scikit-learn.org. See: https://github.com/scikit-learn/scikit-learn/issues/21755 */display: inline-block !important;position: relative;}#sk-container-id-1 div.sk-text-repr-fallback {display: none;}</style><div id=\"sk-container-id-1\" class=\"sk-top-container\"><div class=\"sk-text-repr-fallback\"><pre>Pipeline(steps=[(&#x27;preprocessor&#x27;,\n",
       "                 ColumnTransformer(remainder=&#x27;passthrough&#x27;,\n",
       "                                   transformers=[(&#x27;scaler&#x27;, StandardScaler(),\n",
       "                                                  Index([&#x27;PRG&#x27;, &#x27;PL&#x27;, &#x27;PR&#x27;, &#x27;SK&#x27;, &#x27;TS&#x27;, &#x27;M11&#x27;, &#x27;BD2&#x27;, &#x27;Age&#x27;, &#x27;Insurance&#x27;], dtype=&#x27;object&#x27;)),\n",
       "                                                 (&#x27;log transformation&#x27;,\n",
       "                                                  FunctionTransformer(func=&lt;ufunc &#x27;log1p&#x27;&gt;),\n",
       "                                                  Index([&#x27;PRG&#x27;, &#x27;PL&#x27;, &#x27;PR&#x27;, &#x27;SK&#x27;, &#x27;TS&#x27;, &#x27;M11&#x27;, &#x27;BD2&#x27;, &#x27;Age&#x27;, &#x27;Insurance&#x27;], dtype=&#x27;object&#x27;))])),\n",
       "                (&#x27;logistic_regression&#x27;,\n",
       "                 LogisticRegression(max_iter=1000, solver=&#x27;sag&#x27;))])</pre><b>In a Jupyter environment, please rerun this cell to show the HTML representation or trust the notebook. <br />On GitHub, the HTML representation is unable to render, please try loading this page with nbviewer.org.</b></div><div class=\"sk-container\" hidden><div class=\"sk-item sk-dashed-wrapped\"><div class=\"sk-label-container\"><div class=\"sk-label sk-toggleable\"><input class=\"sk-toggleable__control sk-hidden--visually\" id=\"sk-estimator-id-1\" type=\"checkbox\" ><label for=\"sk-estimator-id-1\" class=\"sk-toggleable__label sk-toggleable__label-arrow\">Pipeline</label><div class=\"sk-toggleable__content\"><pre>Pipeline(steps=[(&#x27;preprocessor&#x27;,\n",
       "                 ColumnTransformer(remainder=&#x27;passthrough&#x27;,\n",
       "                                   transformers=[(&#x27;scaler&#x27;, StandardScaler(),\n",
       "                                                  Index([&#x27;PRG&#x27;, &#x27;PL&#x27;, &#x27;PR&#x27;, &#x27;SK&#x27;, &#x27;TS&#x27;, &#x27;M11&#x27;, &#x27;BD2&#x27;, &#x27;Age&#x27;, &#x27;Insurance&#x27;], dtype=&#x27;object&#x27;)),\n",
       "                                                 (&#x27;log transformation&#x27;,\n",
       "                                                  FunctionTransformer(func=&lt;ufunc &#x27;log1p&#x27;&gt;),\n",
       "                                                  Index([&#x27;PRG&#x27;, &#x27;PL&#x27;, &#x27;PR&#x27;, &#x27;SK&#x27;, &#x27;TS&#x27;, &#x27;M11&#x27;, &#x27;BD2&#x27;, &#x27;Age&#x27;, &#x27;Insurance&#x27;], dtype=&#x27;object&#x27;))])),\n",
       "                (&#x27;logistic_regression&#x27;,\n",
       "                 LogisticRegression(max_iter=1000, solver=&#x27;sag&#x27;))])</pre></div></div></div><div class=\"sk-serial\"><div class=\"sk-item sk-dashed-wrapped\"><div class=\"sk-label-container\"><div class=\"sk-label sk-toggleable\"><input class=\"sk-toggleable__control sk-hidden--visually\" id=\"sk-estimator-id-2\" type=\"checkbox\" ><label for=\"sk-estimator-id-2\" class=\"sk-toggleable__label sk-toggleable__label-arrow\">preprocessor: ColumnTransformer</label><div class=\"sk-toggleable__content\"><pre>ColumnTransformer(remainder=&#x27;passthrough&#x27;,\n",
       "                  transformers=[(&#x27;scaler&#x27;, StandardScaler(),\n",
       "                                 Index([&#x27;PRG&#x27;, &#x27;PL&#x27;, &#x27;PR&#x27;, &#x27;SK&#x27;, &#x27;TS&#x27;, &#x27;M11&#x27;, &#x27;BD2&#x27;, &#x27;Age&#x27;, &#x27;Insurance&#x27;], dtype=&#x27;object&#x27;)),\n",
       "                                (&#x27;log transformation&#x27;,\n",
       "                                 FunctionTransformer(func=&lt;ufunc &#x27;log1p&#x27;&gt;),\n",
       "                                 Index([&#x27;PRG&#x27;, &#x27;PL&#x27;, &#x27;PR&#x27;, &#x27;SK&#x27;, &#x27;TS&#x27;, &#x27;M11&#x27;, &#x27;BD2&#x27;, &#x27;Age&#x27;, &#x27;Insurance&#x27;], dtype=&#x27;object&#x27;))])</pre></div></div></div><div class=\"sk-parallel\"><div class=\"sk-parallel-item\"><div class=\"sk-item\"><div class=\"sk-label-container\"><div class=\"sk-label sk-toggleable\"><input class=\"sk-toggleable__control sk-hidden--visually\" id=\"sk-estimator-id-3\" type=\"checkbox\" ><label for=\"sk-estimator-id-3\" class=\"sk-toggleable__label sk-toggleable__label-arrow\">scaler</label><div class=\"sk-toggleable__content\"><pre>Index([&#x27;PRG&#x27;, &#x27;PL&#x27;, &#x27;PR&#x27;, &#x27;SK&#x27;, &#x27;TS&#x27;, &#x27;M11&#x27;, &#x27;BD2&#x27;, &#x27;Age&#x27;, &#x27;Insurance&#x27;], dtype=&#x27;object&#x27;)</pre></div></div></div><div class=\"sk-serial\"><div class=\"sk-item\"><div class=\"sk-estimator sk-toggleable\"><input class=\"sk-toggleable__control sk-hidden--visually\" id=\"sk-estimator-id-4\" type=\"checkbox\" ><label for=\"sk-estimator-id-4\" class=\"sk-toggleable__label sk-toggleable__label-arrow\">StandardScaler</label><div class=\"sk-toggleable__content\"><pre>StandardScaler()</pre></div></div></div></div></div></div><div class=\"sk-parallel-item\"><div class=\"sk-item\"><div class=\"sk-label-container\"><div class=\"sk-label sk-toggleable\"><input class=\"sk-toggleable__control sk-hidden--visually\" id=\"sk-estimator-id-5\" type=\"checkbox\" ><label for=\"sk-estimator-id-5\" class=\"sk-toggleable__label sk-toggleable__label-arrow\">log transformation</label><div class=\"sk-toggleable__content\"><pre>Index([&#x27;PRG&#x27;, &#x27;PL&#x27;, &#x27;PR&#x27;, &#x27;SK&#x27;, &#x27;TS&#x27;, &#x27;M11&#x27;, &#x27;BD2&#x27;, &#x27;Age&#x27;, &#x27;Insurance&#x27;], dtype=&#x27;object&#x27;)</pre></div></div></div><div class=\"sk-serial\"><div class=\"sk-item\"><div class=\"sk-estimator sk-toggleable\"><input class=\"sk-toggleable__control sk-hidden--visually\" id=\"sk-estimator-id-6\" type=\"checkbox\" ><label for=\"sk-estimator-id-6\" class=\"sk-toggleable__label sk-toggleable__label-arrow\">FunctionTransformer</label><div class=\"sk-toggleable__content\"><pre>FunctionTransformer(func=&lt;ufunc &#x27;log1p&#x27;&gt;)</pre></div></div></div></div></div></div><div class=\"sk-parallel-item\"><div class=\"sk-item\"><div class=\"sk-label-container\"><div class=\"sk-label sk-toggleable\"><input class=\"sk-toggleable__control sk-hidden--visually\" id=\"sk-estimator-id-7\" type=\"checkbox\" ><label for=\"sk-estimator-id-7\" class=\"sk-toggleable__label sk-toggleable__label-arrow\">remainder</label><div class=\"sk-toggleable__content\"><pre>[]</pre></div></div></div><div class=\"sk-serial\"><div class=\"sk-item\"><div class=\"sk-estimator sk-toggleable\"><input class=\"sk-toggleable__control sk-hidden--visually\" id=\"sk-estimator-id-8\" type=\"checkbox\" ><label for=\"sk-estimator-id-8\" class=\"sk-toggleable__label sk-toggleable__label-arrow\">passthrough</label><div class=\"sk-toggleable__content\"><pre>passthrough</pre></div></div></div></div></div></div></div></div><div class=\"sk-item\"><div class=\"sk-estimator sk-toggleable\"><input class=\"sk-toggleable__control sk-hidden--visually\" id=\"sk-estimator-id-9\" type=\"checkbox\" ><label for=\"sk-estimator-id-9\" class=\"sk-toggleable__label sk-toggleable__label-arrow\">LogisticRegression</label><div class=\"sk-toggleable__content\"><pre>LogisticRegression(max_iter=1000, solver=&#x27;sag&#x27;)</pre></div></div></div></div></div></div></div>"
      ],
      "text/plain": [
       "Pipeline(steps=[('preprocessor',\n",
       "                 ColumnTransformer(remainder='passthrough',\n",
       "                                   transformers=[('scaler', StandardScaler(),\n",
       "                                                  Index(['PRG', 'PL', 'PR', 'SK', 'TS', 'M11', 'BD2', 'Age', 'Insurance'], dtype='object')),\n",
       "                                                 ('log transformation',\n",
       "                                                  FunctionTransformer(func=<ufunc 'log1p'>),\n",
       "                                                  Index(['PRG', 'PL', 'PR', 'SK', 'TS', 'M11', 'BD2', 'Age', 'Insurance'], dtype='object'))])),\n",
       "                ('logistic_regression',\n",
       "                 LogisticRegression(max_iter=1000, solver='sag'))])"
      ]
     },
     "execution_count": 44,
     "metadata": {},
     "output_type": "execute_result"
    }
   ],
   "source": [
    "# Define the logistic regression model with gradient descent\n",
    "logistic_regression = LogisticRegression(solver='sag', max_iter=1000)\n",
    "\n",
    "# Create the pipeline\n",
    "pipeline = Pipeline(steps=[\n",
    "    ('preprocessor', preprocessor),\n",
    "    ('logistic_regression', logistic_regression),\n",
    "])\n",
    "\n",
    "# Fit the pipeline on the training data\n",
    "pipeline.fit(X_train, y_train_encoded)"
   ]
  },
  {
   "cell_type": "code",
   "execution_count": 45,
   "metadata": {},
   "outputs": [
    {
     "name": "stdout",
     "output_type": "stream",
     "text": [
      "              precision    recall  f1-score   support\n",
      "\n",
      "           0       0.81      0.81      0.81        78\n",
      "           1       0.64      0.64      0.64        42\n",
      "\n",
      "    accuracy                           0.75       120\n",
      "   macro avg       0.73      0.73      0.73       120\n",
      "weighted avg       0.75      0.75      0.75       120\n",
      "\n"
     ]
    }
   ],
   "source": [
    "# Make predictions on the test data\n",
    "logistic_pred = pipeline.predict(X_test)\n",
    "\n",
    "# Print the classification report\n",
    "print(classification_report(y_test_encoded, logistic_pred))"
   ]
  },
  {
   "cell_type": "markdown",
   "metadata": {},
   "source": [
    "The model achieved an overall accuracy of 75% on the test set. Precision for class 0 (Negative) is 81%, and recall is 81%. Precision for class 1 (Positive) is 64%, and recall is 64%. The F1-score, which balances precision and recall, is 0.81 for class 0 and 0.64 for class 1.\n",
    "\n",
    "The Logistic Regression model demonstrates improved performance compared to the K-Nearest Neighbors model."
   ]
  },
  {
   "cell_type": "markdown",
   "metadata": {},
   "source": [
    "3. Train Model 3 - Decision Tree (Decision Tree)"
   ]
  },
  {
   "cell_type": "code",
   "execution_count": 46,
   "metadata": {},
   "outputs": [
    {
     "data": {
      "text/html": [
       "<style>#sk-container-id-2 {color: black;background-color: white;}#sk-container-id-2 pre{padding: 0;}#sk-container-id-2 div.sk-toggleable {background-color: white;}#sk-container-id-2 label.sk-toggleable__label {cursor: pointer;display: block;width: 100%;margin-bottom: 0;padding: 0.3em;box-sizing: border-box;text-align: center;}#sk-container-id-2 label.sk-toggleable__label-arrow:before {content: \"▸\";float: left;margin-right: 0.25em;color: #696969;}#sk-container-id-2 label.sk-toggleable__label-arrow:hover:before {color: black;}#sk-container-id-2 div.sk-estimator:hover label.sk-toggleable__label-arrow:before {color: black;}#sk-container-id-2 div.sk-toggleable__content {max-height: 0;max-width: 0;overflow: hidden;text-align: left;background-color: #f0f8ff;}#sk-container-id-2 div.sk-toggleable__content pre {margin: 0.2em;color: black;border-radius: 0.25em;background-color: #f0f8ff;}#sk-container-id-2 input.sk-toggleable__control:checked~div.sk-toggleable__content {max-height: 200px;max-width: 100%;overflow: auto;}#sk-container-id-2 input.sk-toggleable__control:checked~label.sk-toggleable__label-arrow:before {content: \"▾\";}#sk-container-id-2 div.sk-estimator input.sk-toggleable__control:checked~label.sk-toggleable__label {background-color: #d4ebff;}#sk-container-id-2 div.sk-label input.sk-toggleable__control:checked~label.sk-toggleable__label {background-color: #d4ebff;}#sk-container-id-2 input.sk-hidden--visually {border: 0;clip: rect(1px 1px 1px 1px);clip: rect(1px, 1px, 1px, 1px);height: 1px;margin: -1px;overflow: hidden;padding: 0;position: absolute;width: 1px;}#sk-container-id-2 div.sk-estimator {font-family: monospace;background-color: #f0f8ff;border: 1px dotted black;border-radius: 0.25em;box-sizing: border-box;margin-bottom: 0.5em;}#sk-container-id-2 div.sk-estimator:hover {background-color: #d4ebff;}#sk-container-id-2 div.sk-parallel-item::after {content: \"\";width: 100%;border-bottom: 1px solid gray;flex-grow: 1;}#sk-container-id-2 div.sk-label:hover label.sk-toggleable__label {background-color: #d4ebff;}#sk-container-id-2 div.sk-serial::before {content: \"\";position: absolute;border-left: 1px solid gray;box-sizing: border-box;top: 0;bottom: 0;left: 50%;z-index: 0;}#sk-container-id-2 div.sk-serial {display: flex;flex-direction: column;align-items: center;background-color: white;padding-right: 0.2em;padding-left: 0.2em;position: relative;}#sk-container-id-2 div.sk-item {position: relative;z-index: 1;}#sk-container-id-2 div.sk-parallel {display: flex;align-items: stretch;justify-content: center;background-color: white;position: relative;}#sk-container-id-2 div.sk-item::before, #sk-container-id-2 div.sk-parallel-item::before {content: \"\";position: absolute;border-left: 1px solid gray;box-sizing: border-box;top: 0;bottom: 0;left: 50%;z-index: -1;}#sk-container-id-2 div.sk-parallel-item {display: flex;flex-direction: column;z-index: 1;position: relative;background-color: white;}#sk-container-id-2 div.sk-parallel-item:first-child::after {align-self: flex-end;width: 50%;}#sk-container-id-2 div.sk-parallel-item:last-child::after {align-self: flex-start;width: 50%;}#sk-container-id-2 div.sk-parallel-item:only-child::after {width: 0;}#sk-container-id-2 div.sk-dashed-wrapped {border: 1px dashed gray;margin: 0 0.4em 0.5em 0.4em;box-sizing: border-box;padding-bottom: 0.4em;background-color: white;}#sk-container-id-2 div.sk-label label {font-family: monospace;font-weight: bold;display: inline-block;line-height: 1.2em;}#sk-container-id-2 div.sk-label-container {text-align: center;}#sk-container-id-2 div.sk-container {/* jupyter's `normalize.less` sets `[hidden] { display: none; }` but bootstrap.min.css set `[hidden] { display: none !important; }` so we also need the `!important` here to be able to override the default hidden behavior on the sphinx rendered scikit-learn.org. See: https://github.com/scikit-learn/scikit-learn/issues/21755 */display: inline-block !important;position: relative;}#sk-container-id-2 div.sk-text-repr-fallback {display: none;}</style><div id=\"sk-container-id-2\" class=\"sk-top-container\"><div class=\"sk-text-repr-fallback\"><pre>Pipeline(steps=[(&#x27;preprocessor&#x27;,\n",
       "                 ColumnTransformer(remainder=&#x27;passthrough&#x27;,\n",
       "                                   transformers=[(&#x27;scaler&#x27;, StandardScaler(),\n",
       "                                                  Index([&#x27;PRG&#x27;, &#x27;PL&#x27;, &#x27;PR&#x27;, &#x27;SK&#x27;, &#x27;TS&#x27;, &#x27;M11&#x27;, &#x27;BD2&#x27;, &#x27;Age&#x27;, &#x27;Insurance&#x27;], dtype=&#x27;object&#x27;)),\n",
       "                                                 (&#x27;log transformation&#x27;,\n",
       "                                                  FunctionTransformer(func=&lt;ufunc &#x27;log1p&#x27;&gt;),\n",
       "                                                  Index([&#x27;PRG&#x27;, &#x27;PL&#x27;, &#x27;PR&#x27;, &#x27;SK&#x27;, &#x27;TS&#x27;, &#x27;M11&#x27;, &#x27;BD2&#x27;, &#x27;Age&#x27;, &#x27;Insurance&#x27;], dtype=&#x27;object&#x27;))])),\n",
       "                (&#x27;decision_tree&#x27;, DecisionTreeClassifier(random_state=42))])</pre><b>In a Jupyter environment, please rerun this cell to show the HTML representation or trust the notebook. <br />On GitHub, the HTML representation is unable to render, please try loading this page with nbviewer.org.</b></div><div class=\"sk-container\" hidden><div class=\"sk-item sk-dashed-wrapped\"><div class=\"sk-label-container\"><div class=\"sk-label sk-toggleable\"><input class=\"sk-toggleable__control sk-hidden--visually\" id=\"sk-estimator-id-10\" type=\"checkbox\" ><label for=\"sk-estimator-id-10\" class=\"sk-toggleable__label sk-toggleable__label-arrow\">Pipeline</label><div class=\"sk-toggleable__content\"><pre>Pipeline(steps=[(&#x27;preprocessor&#x27;,\n",
       "                 ColumnTransformer(remainder=&#x27;passthrough&#x27;,\n",
       "                                   transformers=[(&#x27;scaler&#x27;, StandardScaler(),\n",
       "                                                  Index([&#x27;PRG&#x27;, &#x27;PL&#x27;, &#x27;PR&#x27;, &#x27;SK&#x27;, &#x27;TS&#x27;, &#x27;M11&#x27;, &#x27;BD2&#x27;, &#x27;Age&#x27;, &#x27;Insurance&#x27;], dtype=&#x27;object&#x27;)),\n",
       "                                                 (&#x27;log transformation&#x27;,\n",
       "                                                  FunctionTransformer(func=&lt;ufunc &#x27;log1p&#x27;&gt;),\n",
       "                                                  Index([&#x27;PRG&#x27;, &#x27;PL&#x27;, &#x27;PR&#x27;, &#x27;SK&#x27;, &#x27;TS&#x27;, &#x27;M11&#x27;, &#x27;BD2&#x27;, &#x27;Age&#x27;, &#x27;Insurance&#x27;], dtype=&#x27;object&#x27;))])),\n",
       "                (&#x27;decision_tree&#x27;, DecisionTreeClassifier(random_state=42))])</pre></div></div></div><div class=\"sk-serial\"><div class=\"sk-item sk-dashed-wrapped\"><div class=\"sk-label-container\"><div class=\"sk-label sk-toggleable\"><input class=\"sk-toggleable__control sk-hidden--visually\" id=\"sk-estimator-id-11\" type=\"checkbox\" ><label for=\"sk-estimator-id-11\" class=\"sk-toggleable__label sk-toggleable__label-arrow\">preprocessor: ColumnTransformer</label><div class=\"sk-toggleable__content\"><pre>ColumnTransformer(remainder=&#x27;passthrough&#x27;,\n",
       "                  transformers=[(&#x27;scaler&#x27;, StandardScaler(),\n",
       "                                 Index([&#x27;PRG&#x27;, &#x27;PL&#x27;, &#x27;PR&#x27;, &#x27;SK&#x27;, &#x27;TS&#x27;, &#x27;M11&#x27;, &#x27;BD2&#x27;, &#x27;Age&#x27;, &#x27;Insurance&#x27;], dtype=&#x27;object&#x27;)),\n",
       "                                (&#x27;log transformation&#x27;,\n",
       "                                 FunctionTransformer(func=&lt;ufunc &#x27;log1p&#x27;&gt;),\n",
       "                                 Index([&#x27;PRG&#x27;, &#x27;PL&#x27;, &#x27;PR&#x27;, &#x27;SK&#x27;, &#x27;TS&#x27;, &#x27;M11&#x27;, &#x27;BD2&#x27;, &#x27;Age&#x27;, &#x27;Insurance&#x27;], dtype=&#x27;object&#x27;))])</pre></div></div></div><div class=\"sk-parallel\"><div class=\"sk-parallel-item\"><div class=\"sk-item\"><div class=\"sk-label-container\"><div class=\"sk-label sk-toggleable\"><input class=\"sk-toggleable__control sk-hidden--visually\" id=\"sk-estimator-id-12\" type=\"checkbox\" ><label for=\"sk-estimator-id-12\" class=\"sk-toggleable__label sk-toggleable__label-arrow\">scaler</label><div class=\"sk-toggleable__content\"><pre>Index([&#x27;PRG&#x27;, &#x27;PL&#x27;, &#x27;PR&#x27;, &#x27;SK&#x27;, &#x27;TS&#x27;, &#x27;M11&#x27;, &#x27;BD2&#x27;, &#x27;Age&#x27;, &#x27;Insurance&#x27;], dtype=&#x27;object&#x27;)</pre></div></div></div><div class=\"sk-serial\"><div class=\"sk-item\"><div class=\"sk-estimator sk-toggleable\"><input class=\"sk-toggleable__control sk-hidden--visually\" id=\"sk-estimator-id-13\" type=\"checkbox\" ><label for=\"sk-estimator-id-13\" class=\"sk-toggleable__label sk-toggleable__label-arrow\">StandardScaler</label><div class=\"sk-toggleable__content\"><pre>StandardScaler()</pre></div></div></div></div></div></div><div class=\"sk-parallel-item\"><div class=\"sk-item\"><div class=\"sk-label-container\"><div class=\"sk-label sk-toggleable\"><input class=\"sk-toggleable__control sk-hidden--visually\" id=\"sk-estimator-id-14\" type=\"checkbox\" ><label for=\"sk-estimator-id-14\" class=\"sk-toggleable__label sk-toggleable__label-arrow\">log transformation</label><div class=\"sk-toggleable__content\"><pre>Index([&#x27;PRG&#x27;, &#x27;PL&#x27;, &#x27;PR&#x27;, &#x27;SK&#x27;, &#x27;TS&#x27;, &#x27;M11&#x27;, &#x27;BD2&#x27;, &#x27;Age&#x27;, &#x27;Insurance&#x27;], dtype=&#x27;object&#x27;)</pre></div></div></div><div class=\"sk-serial\"><div class=\"sk-item\"><div class=\"sk-estimator sk-toggleable\"><input class=\"sk-toggleable__control sk-hidden--visually\" id=\"sk-estimator-id-15\" type=\"checkbox\" ><label for=\"sk-estimator-id-15\" class=\"sk-toggleable__label sk-toggleable__label-arrow\">FunctionTransformer</label><div class=\"sk-toggleable__content\"><pre>FunctionTransformer(func=&lt;ufunc &#x27;log1p&#x27;&gt;)</pre></div></div></div></div></div></div><div class=\"sk-parallel-item\"><div class=\"sk-item\"><div class=\"sk-label-container\"><div class=\"sk-label sk-toggleable\"><input class=\"sk-toggleable__control sk-hidden--visually\" id=\"sk-estimator-id-16\" type=\"checkbox\" ><label for=\"sk-estimator-id-16\" class=\"sk-toggleable__label sk-toggleable__label-arrow\">remainder</label><div class=\"sk-toggleable__content\"><pre>[]</pre></div></div></div><div class=\"sk-serial\"><div class=\"sk-item\"><div class=\"sk-estimator sk-toggleable\"><input class=\"sk-toggleable__control sk-hidden--visually\" id=\"sk-estimator-id-17\" type=\"checkbox\" ><label for=\"sk-estimator-id-17\" class=\"sk-toggleable__label sk-toggleable__label-arrow\">passthrough</label><div class=\"sk-toggleable__content\"><pre>passthrough</pre></div></div></div></div></div></div></div></div><div class=\"sk-item\"><div class=\"sk-estimator sk-toggleable\"><input class=\"sk-toggleable__control sk-hidden--visually\" id=\"sk-estimator-id-18\" type=\"checkbox\" ><label for=\"sk-estimator-id-18\" class=\"sk-toggleable__label sk-toggleable__label-arrow\">DecisionTreeClassifier</label><div class=\"sk-toggleable__content\"><pre>DecisionTreeClassifier(random_state=42)</pre></div></div></div></div></div></div></div>"
      ],
      "text/plain": [
       "Pipeline(steps=[('preprocessor',\n",
       "                 ColumnTransformer(remainder='passthrough',\n",
       "                                   transformers=[('scaler', StandardScaler(),\n",
       "                                                  Index(['PRG', 'PL', 'PR', 'SK', 'TS', 'M11', 'BD2', 'Age', 'Insurance'], dtype='object')),\n",
       "                                                 ('log transformation',\n",
       "                                                  FunctionTransformer(func=<ufunc 'log1p'>),\n",
       "                                                  Index(['PRG', 'PL', 'PR', 'SK', 'TS', 'M11', 'BD2', 'Age', 'Insurance'], dtype='object'))])),\n",
       "                ('decision_tree', DecisionTreeClassifier(random_state=42))])"
      ]
     },
     "execution_count": 46,
     "metadata": {},
     "output_type": "execute_result"
    }
   ],
   "source": [
    "# Define the Decision Tree model\n",
    "decision_tree = DecisionTreeClassifier(random_state=42)\n",
    "\n",
    "# Create the pipeline\n",
    "pipeline = Pipeline(steps=[\n",
    "    ('preprocessor', preprocessor),\n",
    "    ('decision_tree', decision_tree),\n",
    "])\n",
    "\n",
    "# Fit the pipeline on the training data\n",
    "pipeline.fit(X_train, y_train_encoded)\n"
   ]
  },
  {
   "cell_type": "code",
   "execution_count": 47,
   "metadata": {},
   "outputs": [
    {
     "name": "stdout",
     "output_type": "stream",
     "text": [
      "              precision    recall  f1-score   support\n",
      "\n",
      "           0       0.78      0.82      0.80        78\n",
      "           1       0.63      0.57      0.60        42\n",
      "\n",
      "    accuracy                           0.73       120\n",
      "   macro avg       0.71      0.70      0.70       120\n",
      "weighted avg       0.73      0.73      0.73       120\n",
      "\n"
     ]
    }
   ],
   "source": [
    "# Make predictions on the test data\n",
    "dt_pred = pipeline.predict(X_test)\n",
    "\n",
    "# Print the classification report\n",
    "print(classification_report(y_test_encoded, dt_pred))"
   ]
  },
  {
   "cell_type": "markdown",
   "metadata": {},
   "source": [
    "The model achieved an overall accuracy of 73% on the test set. Precision for class 0 (Negative) is 78%, and recall is 82%. Precision for class 1 (Positive) is 63%, and recall is 57%. The F1-score, which balances precision and recall, is 0.80 for class 0 and 0.60 for class 1.\n",
    "\n",
    "The Decision Tree model exhibits reasonable performance with an accuracy of 73%.\n"
   ]
  },
  {
   "cell_type": "markdown",
   "metadata": {},
   "source": [
    "4. Train Model 4 - Random Forest "
   ]
  },
  {
   "cell_type": "code",
   "execution_count": 48,
   "metadata": {},
   "outputs": [
    {
     "data": {
      "text/html": [
       "<style>#sk-container-id-3 {color: black;background-color: white;}#sk-container-id-3 pre{padding: 0;}#sk-container-id-3 div.sk-toggleable {background-color: white;}#sk-container-id-3 label.sk-toggleable__label {cursor: pointer;display: block;width: 100%;margin-bottom: 0;padding: 0.3em;box-sizing: border-box;text-align: center;}#sk-container-id-3 label.sk-toggleable__label-arrow:before {content: \"▸\";float: left;margin-right: 0.25em;color: #696969;}#sk-container-id-3 label.sk-toggleable__label-arrow:hover:before {color: black;}#sk-container-id-3 div.sk-estimator:hover label.sk-toggleable__label-arrow:before {color: black;}#sk-container-id-3 div.sk-toggleable__content {max-height: 0;max-width: 0;overflow: hidden;text-align: left;background-color: #f0f8ff;}#sk-container-id-3 div.sk-toggleable__content pre {margin: 0.2em;color: black;border-radius: 0.25em;background-color: #f0f8ff;}#sk-container-id-3 input.sk-toggleable__control:checked~div.sk-toggleable__content {max-height: 200px;max-width: 100%;overflow: auto;}#sk-container-id-3 input.sk-toggleable__control:checked~label.sk-toggleable__label-arrow:before {content: \"▾\";}#sk-container-id-3 div.sk-estimator input.sk-toggleable__control:checked~label.sk-toggleable__label {background-color: #d4ebff;}#sk-container-id-3 div.sk-label input.sk-toggleable__control:checked~label.sk-toggleable__label {background-color: #d4ebff;}#sk-container-id-3 input.sk-hidden--visually {border: 0;clip: rect(1px 1px 1px 1px);clip: rect(1px, 1px, 1px, 1px);height: 1px;margin: -1px;overflow: hidden;padding: 0;position: absolute;width: 1px;}#sk-container-id-3 div.sk-estimator {font-family: monospace;background-color: #f0f8ff;border: 1px dotted black;border-radius: 0.25em;box-sizing: border-box;margin-bottom: 0.5em;}#sk-container-id-3 div.sk-estimator:hover {background-color: #d4ebff;}#sk-container-id-3 div.sk-parallel-item::after {content: \"\";width: 100%;border-bottom: 1px solid gray;flex-grow: 1;}#sk-container-id-3 div.sk-label:hover label.sk-toggleable__label {background-color: #d4ebff;}#sk-container-id-3 div.sk-serial::before {content: \"\";position: absolute;border-left: 1px solid gray;box-sizing: border-box;top: 0;bottom: 0;left: 50%;z-index: 0;}#sk-container-id-3 div.sk-serial {display: flex;flex-direction: column;align-items: center;background-color: white;padding-right: 0.2em;padding-left: 0.2em;position: relative;}#sk-container-id-3 div.sk-item {position: relative;z-index: 1;}#sk-container-id-3 div.sk-parallel {display: flex;align-items: stretch;justify-content: center;background-color: white;position: relative;}#sk-container-id-3 div.sk-item::before, #sk-container-id-3 div.sk-parallel-item::before {content: \"\";position: absolute;border-left: 1px solid gray;box-sizing: border-box;top: 0;bottom: 0;left: 50%;z-index: -1;}#sk-container-id-3 div.sk-parallel-item {display: flex;flex-direction: column;z-index: 1;position: relative;background-color: white;}#sk-container-id-3 div.sk-parallel-item:first-child::after {align-self: flex-end;width: 50%;}#sk-container-id-3 div.sk-parallel-item:last-child::after {align-self: flex-start;width: 50%;}#sk-container-id-3 div.sk-parallel-item:only-child::after {width: 0;}#sk-container-id-3 div.sk-dashed-wrapped {border: 1px dashed gray;margin: 0 0.4em 0.5em 0.4em;box-sizing: border-box;padding-bottom: 0.4em;background-color: white;}#sk-container-id-3 div.sk-label label {font-family: monospace;font-weight: bold;display: inline-block;line-height: 1.2em;}#sk-container-id-3 div.sk-label-container {text-align: center;}#sk-container-id-3 div.sk-container {/* jupyter's `normalize.less` sets `[hidden] { display: none; }` but bootstrap.min.css set `[hidden] { display: none !important; }` so we also need the `!important` here to be able to override the default hidden behavior on the sphinx rendered scikit-learn.org. See: https://github.com/scikit-learn/scikit-learn/issues/21755 */display: inline-block !important;position: relative;}#sk-container-id-3 div.sk-text-repr-fallback {display: none;}</style><div id=\"sk-container-id-3\" class=\"sk-top-container\"><div class=\"sk-text-repr-fallback\"><pre>Pipeline(steps=[(&#x27;preprocessor&#x27;,\n",
       "                 ColumnTransformer(remainder=&#x27;passthrough&#x27;,\n",
       "                                   transformers=[(&#x27;scaler&#x27;, StandardScaler(),\n",
       "                                                  Index([&#x27;PRG&#x27;, &#x27;PL&#x27;, &#x27;PR&#x27;, &#x27;SK&#x27;, &#x27;TS&#x27;, &#x27;M11&#x27;, &#x27;BD2&#x27;, &#x27;Age&#x27;, &#x27;Insurance&#x27;], dtype=&#x27;object&#x27;)),\n",
       "                                                 (&#x27;log transformation&#x27;,\n",
       "                                                  FunctionTransformer(func=&lt;ufunc &#x27;log1p&#x27;&gt;),\n",
       "                                                  Index([&#x27;PRG&#x27;, &#x27;PL&#x27;, &#x27;PR&#x27;, &#x27;SK&#x27;, &#x27;TS&#x27;, &#x27;M11&#x27;, &#x27;BD2&#x27;, &#x27;Age&#x27;, &#x27;Insurance&#x27;], dtype=&#x27;object&#x27;))])),\n",
       "                (&#x27;random_forest&#x27;, RandomForestClassifier(random_state=42))])</pre><b>In a Jupyter environment, please rerun this cell to show the HTML representation or trust the notebook. <br />On GitHub, the HTML representation is unable to render, please try loading this page with nbviewer.org.</b></div><div class=\"sk-container\" hidden><div class=\"sk-item sk-dashed-wrapped\"><div class=\"sk-label-container\"><div class=\"sk-label sk-toggleable\"><input class=\"sk-toggleable__control sk-hidden--visually\" id=\"sk-estimator-id-19\" type=\"checkbox\" ><label for=\"sk-estimator-id-19\" class=\"sk-toggleable__label sk-toggleable__label-arrow\">Pipeline</label><div class=\"sk-toggleable__content\"><pre>Pipeline(steps=[(&#x27;preprocessor&#x27;,\n",
       "                 ColumnTransformer(remainder=&#x27;passthrough&#x27;,\n",
       "                                   transformers=[(&#x27;scaler&#x27;, StandardScaler(),\n",
       "                                                  Index([&#x27;PRG&#x27;, &#x27;PL&#x27;, &#x27;PR&#x27;, &#x27;SK&#x27;, &#x27;TS&#x27;, &#x27;M11&#x27;, &#x27;BD2&#x27;, &#x27;Age&#x27;, &#x27;Insurance&#x27;], dtype=&#x27;object&#x27;)),\n",
       "                                                 (&#x27;log transformation&#x27;,\n",
       "                                                  FunctionTransformer(func=&lt;ufunc &#x27;log1p&#x27;&gt;),\n",
       "                                                  Index([&#x27;PRG&#x27;, &#x27;PL&#x27;, &#x27;PR&#x27;, &#x27;SK&#x27;, &#x27;TS&#x27;, &#x27;M11&#x27;, &#x27;BD2&#x27;, &#x27;Age&#x27;, &#x27;Insurance&#x27;], dtype=&#x27;object&#x27;))])),\n",
       "                (&#x27;random_forest&#x27;, RandomForestClassifier(random_state=42))])</pre></div></div></div><div class=\"sk-serial\"><div class=\"sk-item sk-dashed-wrapped\"><div class=\"sk-label-container\"><div class=\"sk-label sk-toggleable\"><input class=\"sk-toggleable__control sk-hidden--visually\" id=\"sk-estimator-id-20\" type=\"checkbox\" ><label for=\"sk-estimator-id-20\" class=\"sk-toggleable__label sk-toggleable__label-arrow\">preprocessor: ColumnTransformer</label><div class=\"sk-toggleable__content\"><pre>ColumnTransformer(remainder=&#x27;passthrough&#x27;,\n",
       "                  transformers=[(&#x27;scaler&#x27;, StandardScaler(),\n",
       "                                 Index([&#x27;PRG&#x27;, &#x27;PL&#x27;, &#x27;PR&#x27;, &#x27;SK&#x27;, &#x27;TS&#x27;, &#x27;M11&#x27;, &#x27;BD2&#x27;, &#x27;Age&#x27;, &#x27;Insurance&#x27;], dtype=&#x27;object&#x27;)),\n",
       "                                (&#x27;log transformation&#x27;,\n",
       "                                 FunctionTransformer(func=&lt;ufunc &#x27;log1p&#x27;&gt;),\n",
       "                                 Index([&#x27;PRG&#x27;, &#x27;PL&#x27;, &#x27;PR&#x27;, &#x27;SK&#x27;, &#x27;TS&#x27;, &#x27;M11&#x27;, &#x27;BD2&#x27;, &#x27;Age&#x27;, &#x27;Insurance&#x27;], dtype=&#x27;object&#x27;))])</pre></div></div></div><div class=\"sk-parallel\"><div class=\"sk-parallel-item\"><div class=\"sk-item\"><div class=\"sk-label-container\"><div class=\"sk-label sk-toggleable\"><input class=\"sk-toggleable__control sk-hidden--visually\" id=\"sk-estimator-id-21\" type=\"checkbox\" ><label for=\"sk-estimator-id-21\" class=\"sk-toggleable__label sk-toggleable__label-arrow\">scaler</label><div class=\"sk-toggleable__content\"><pre>Index([&#x27;PRG&#x27;, &#x27;PL&#x27;, &#x27;PR&#x27;, &#x27;SK&#x27;, &#x27;TS&#x27;, &#x27;M11&#x27;, &#x27;BD2&#x27;, &#x27;Age&#x27;, &#x27;Insurance&#x27;], dtype=&#x27;object&#x27;)</pre></div></div></div><div class=\"sk-serial\"><div class=\"sk-item\"><div class=\"sk-estimator sk-toggleable\"><input class=\"sk-toggleable__control sk-hidden--visually\" id=\"sk-estimator-id-22\" type=\"checkbox\" ><label for=\"sk-estimator-id-22\" class=\"sk-toggleable__label sk-toggleable__label-arrow\">StandardScaler</label><div class=\"sk-toggleable__content\"><pre>StandardScaler()</pre></div></div></div></div></div></div><div class=\"sk-parallel-item\"><div class=\"sk-item\"><div class=\"sk-label-container\"><div class=\"sk-label sk-toggleable\"><input class=\"sk-toggleable__control sk-hidden--visually\" id=\"sk-estimator-id-23\" type=\"checkbox\" ><label for=\"sk-estimator-id-23\" class=\"sk-toggleable__label sk-toggleable__label-arrow\">log transformation</label><div class=\"sk-toggleable__content\"><pre>Index([&#x27;PRG&#x27;, &#x27;PL&#x27;, &#x27;PR&#x27;, &#x27;SK&#x27;, &#x27;TS&#x27;, &#x27;M11&#x27;, &#x27;BD2&#x27;, &#x27;Age&#x27;, &#x27;Insurance&#x27;], dtype=&#x27;object&#x27;)</pre></div></div></div><div class=\"sk-serial\"><div class=\"sk-item\"><div class=\"sk-estimator sk-toggleable\"><input class=\"sk-toggleable__control sk-hidden--visually\" id=\"sk-estimator-id-24\" type=\"checkbox\" ><label for=\"sk-estimator-id-24\" class=\"sk-toggleable__label sk-toggleable__label-arrow\">FunctionTransformer</label><div class=\"sk-toggleable__content\"><pre>FunctionTransformer(func=&lt;ufunc &#x27;log1p&#x27;&gt;)</pre></div></div></div></div></div></div><div class=\"sk-parallel-item\"><div class=\"sk-item\"><div class=\"sk-label-container\"><div class=\"sk-label sk-toggleable\"><input class=\"sk-toggleable__control sk-hidden--visually\" id=\"sk-estimator-id-25\" type=\"checkbox\" ><label for=\"sk-estimator-id-25\" class=\"sk-toggleable__label sk-toggleable__label-arrow\">remainder</label><div class=\"sk-toggleable__content\"><pre>[]</pre></div></div></div><div class=\"sk-serial\"><div class=\"sk-item\"><div class=\"sk-estimator sk-toggleable\"><input class=\"sk-toggleable__control sk-hidden--visually\" id=\"sk-estimator-id-26\" type=\"checkbox\" ><label for=\"sk-estimator-id-26\" class=\"sk-toggleable__label sk-toggleable__label-arrow\">passthrough</label><div class=\"sk-toggleable__content\"><pre>passthrough</pre></div></div></div></div></div></div></div></div><div class=\"sk-item\"><div class=\"sk-estimator sk-toggleable\"><input class=\"sk-toggleable__control sk-hidden--visually\" id=\"sk-estimator-id-27\" type=\"checkbox\" ><label for=\"sk-estimator-id-27\" class=\"sk-toggleable__label sk-toggleable__label-arrow\">RandomForestClassifier</label><div class=\"sk-toggleable__content\"><pre>RandomForestClassifier(random_state=42)</pre></div></div></div></div></div></div></div>"
      ],
      "text/plain": [
       "Pipeline(steps=[('preprocessor',\n",
       "                 ColumnTransformer(remainder='passthrough',\n",
       "                                   transformers=[('scaler', StandardScaler(),\n",
       "                                                  Index(['PRG', 'PL', 'PR', 'SK', 'TS', 'M11', 'BD2', 'Age', 'Insurance'], dtype='object')),\n",
       "                                                 ('log transformation',\n",
       "                                                  FunctionTransformer(func=<ufunc 'log1p'>),\n",
       "                                                  Index(['PRG', 'PL', 'PR', 'SK', 'TS', 'M11', 'BD2', 'Age', 'Insurance'], dtype='object'))])),\n",
       "                ('random_forest', RandomForestClassifier(random_state=42))])"
      ]
     },
     "execution_count": 48,
     "metadata": {},
     "output_type": "execute_result"
    }
   ],
   "source": [
    "# Create the Random Forest classifier\n",
    "random_forest = RandomForestClassifier(n_estimators=100, random_state=42)\n",
    "\n",
    "# Create the pipeline\n",
    "pipeline_rf = Pipeline(steps=[\n",
    "    ('preprocessor', preprocessor),\n",
    "    ('random_forest', random_forest),\n",
    "])\n",
    "\n",
    "# Fit the pipeline on the training data\n",
    "pipeline_rf.fit(X_train, y_train_encoded)"
   ]
  },
  {
   "cell_type": "code",
   "execution_count": 49,
   "metadata": {},
   "outputs": [
    {
     "name": "stdout",
     "output_type": "stream",
     "text": [
      "Random Forest Classification Report:\n",
      "              precision    recall  f1-score   support\n",
      "\n",
      "           0       0.78      0.78      0.78        78\n",
      "           1       0.60      0.60      0.60        42\n",
      "\n",
      "    accuracy                           0.72       120\n",
      "   macro avg       0.69      0.69      0.69       120\n",
      "weighted avg       0.72      0.72      0.72       120\n",
      "\n"
     ]
    }
   ],
   "source": [
    "# Make predictions on the test data\n",
    "rf_pred = pipeline_rf.predict(X_test)\n",
    "\n",
    "# Print the classification report\n",
    "print(\"Random Forest Classification Report:\")\n",
    "print(classification_report(y_test_encoded, rf_pred))"
   ]
  },
  {
   "cell_type": "markdown",
   "metadata": {},
   "source": [
    "The model achieved an overall accuracy of 72% on the test set. Precision for class 0 (Negative) is 78%, and recall is 78%. Precision for class 1 (Positive) is 60%, and recall is 60%. The F1-score, which balances precision and recall, is 0.78 for class 0 and 0.60 for class 1.\n",
    "\n",
    "The Random Forest model exhibits reasonable performance with an accuracy of 72%."
   ]
  },
  {
   "cell_type": "markdown",
   "metadata": {},
   "source": [
    "5. Train Model 5 - XGBoost (Extreme Gradient Boosting) "
   ]
  },
  {
   "cell_type": "code",
   "execution_count": 50,
   "metadata": {},
   "outputs": [
    {
     "data": {
      "text/html": [
       "<style>#sk-container-id-4 {color: black;background-color: white;}#sk-container-id-4 pre{padding: 0;}#sk-container-id-4 div.sk-toggleable {background-color: white;}#sk-container-id-4 label.sk-toggleable__label {cursor: pointer;display: block;width: 100%;margin-bottom: 0;padding: 0.3em;box-sizing: border-box;text-align: center;}#sk-container-id-4 label.sk-toggleable__label-arrow:before {content: \"▸\";float: left;margin-right: 0.25em;color: #696969;}#sk-container-id-4 label.sk-toggleable__label-arrow:hover:before {color: black;}#sk-container-id-4 div.sk-estimator:hover label.sk-toggleable__label-arrow:before {color: black;}#sk-container-id-4 div.sk-toggleable__content {max-height: 0;max-width: 0;overflow: hidden;text-align: left;background-color: #f0f8ff;}#sk-container-id-4 div.sk-toggleable__content pre {margin: 0.2em;color: black;border-radius: 0.25em;background-color: #f0f8ff;}#sk-container-id-4 input.sk-toggleable__control:checked~div.sk-toggleable__content {max-height: 200px;max-width: 100%;overflow: auto;}#sk-container-id-4 input.sk-toggleable__control:checked~label.sk-toggleable__label-arrow:before {content: \"▾\";}#sk-container-id-4 div.sk-estimator input.sk-toggleable__control:checked~label.sk-toggleable__label {background-color: #d4ebff;}#sk-container-id-4 div.sk-label input.sk-toggleable__control:checked~label.sk-toggleable__label {background-color: #d4ebff;}#sk-container-id-4 input.sk-hidden--visually {border: 0;clip: rect(1px 1px 1px 1px);clip: rect(1px, 1px, 1px, 1px);height: 1px;margin: -1px;overflow: hidden;padding: 0;position: absolute;width: 1px;}#sk-container-id-4 div.sk-estimator {font-family: monospace;background-color: #f0f8ff;border: 1px dotted black;border-radius: 0.25em;box-sizing: border-box;margin-bottom: 0.5em;}#sk-container-id-4 div.sk-estimator:hover {background-color: #d4ebff;}#sk-container-id-4 div.sk-parallel-item::after {content: \"\";width: 100%;border-bottom: 1px solid gray;flex-grow: 1;}#sk-container-id-4 div.sk-label:hover label.sk-toggleable__label {background-color: #d4ebff;}#sk-container-id-4 div.sk-serial::before {content: \"\";position: absolute;border-left: 1px solid gray;box-sizing: border-box;top: 0;bottom: 0;left: 50%;z-index: 0;}#sk-container-id-4 div.sk-serial {display: flex;flex-direction: column;align-items: center;background-color: white;padding-right: 0.2em;padding-left: 0.2em;position: relative;}#sk-container-id-4 div.sk-item {position: relative;z-index: 1;}#sk-container-id-4 div.sk-parallel {display: flex;align-items: stretch;justify-content: center;background-color: white;position: relative;}#sk-container-id-4 div.sk-item::before, #sk-container-id-4 div.sk-parallel-item::before {content: \"\";position: absolute;border-left: 1px solid gray;box-sizing: border-box;top: 0;bottom: 0;left: 50%;z-index: -1;}#sk-container-id-4 div.sk-parallel-item {display: flex;flex-direction: column;z-index: 1;position: relative;background-color: white;}#sk-container-id-4 div.sk-parallel-item:first-child::after {align-self: flex-end;width: 50%;}#sk-container-id-4 div.sk-parallel-item:last-child::after {align-self: flex-start;width: 50%;}#sk-container-id-4 div.sk-parallel-item:only-child::after {width: 0;}#sk-container-id-4 div.sk-dashed-wrapped {border: 1px dashed gray;margin: 0 0.4em 0.5em 0.4em;box-sizing: border-box;padding-bottom: 0.4em;background-color: white;}#sk-container-id-4 div.sk-label label {font-family: monospace;font-weight: bold;display: inline-block;line-height: 1.2em;}#sk-container-id-4 div.sk-label-container {text-align: center;}#sk-container-id-4 div.sk-container {/* jupyter's `normalize.less` sets `[hidden] { display: none; }` but bootstrap.min.css set `[hidden] { display: none !important; }` so we also need the `!important` here to be able to override the default hidden behavior on the sphinx rendered scikit-learn.org. See: https://github.com/scikit-learn/scikit-learn/issues/21755 */display: inline-block !important;position: relative;}#sk-container-id-4 div.sk-text-repr-fallback {display: none;}</style><div id=\"sk-container-id-4\" class=\"sk-top-container\"><div class=\"sk-text-repr-fallback\"><pre>Pipeline(steps=[(&#x27;preprocessor&#x27;,\n",
       "                 ColumnTransformer(remainder=&#x27;passthrough&#x27;,\n",
       "                                   transformers=[(&#x27;scaler&#x27;, StandardScaler(),\n",
       "                                                  Index([&#x27;PRG&#x27;, &#x27;PL&#x27;, &#x27;PR&#x27;, &#x27;SK&#x27;, &#x27;TS&#x27;, &#x27;M11&#x27;, &#x27;BD2&#x27;, &#x27;Age&#x27;, &#x27;Insurance&#x27;], dtype=&#x27;object&#x27;)),\n",
       "                                                 (&#x27;log transformation&#x27;,\n",
       "                                                  FunctionTransformer(func=&lt;ufunc &#x27;log1p&#x27;&gt;),\n",
       "                                                  Index([&#x27;PRG&#x27;, &#x27;PL&#x27;, &#x27;PR&#x27;, &#x27;SK&#x27;, &#x27;TS&#x27;, &#x27;M11&#x27;, &#x27;BD2&#x27;, &#x27;Age&#x27;, &#x27;Insurance&#x27;], dtype=&#x27;object&#x27;))])),\n",
       "                (&#x27;xgb_cl...\n",
       "                               feature_types=None, gamma=None, gpu_id=None,\n",
       "                               grow_policy=None, importance_type=None,\n",
       "                               interaction_constraints=None, learning_rate=None,\n",
       "                               max_bin=None, max_cat_threshold=None,\n",
       "                               max_cat_to_onehot=None, max_delta_step=None,\n",
       "                               max_depth=None, max_leaves=None,\n",
       "                               min_child_weight=None, missing=nan,\n",
       "                               monotone_constraints=None, n_estimators=100,\n",
       "                               n_jobs=None, num_parallel_tree=None,\n",
       "                               predictor=None, random_state=42, ...))])</pre><b>In a Jupyter environment, please rerun this cell to show the HTML representation or trust the notebook. <br />On GitHub, the HTML representation is unable to render, please try loading this page with nbviewer.org.</b></div><div class=\"sk-container\" hidden><div class=\"sk-item sk-dashed-wrapped\"><div class=\"sk-label-container\"><div class=\"sk-label sk-toggleable\"><input class=\"sk-toggleable__control sk-hidden--visually\" id=\"sk-estimator-id-28\" type=\"checkbox\" ><label for=\"sk-estimator-id-28\" class=\"sk-toggleable__label sk-toggleable__label-arrow\">Pipeline</label><div class=\"sk-toggleable__content\"><pre>Pipeline(steps=[(&#x27;preprocessor&#x27;,\n",
       "                 ColumnTransformer(remainder=&#x27;passthrough&#x27;,\n",
       "                                   transformers=[(&#x27;scaler&#x27;, StandardScaler(),\n",
       "                                                  Index([&#x27;PRG&#x27;, &#x27;PL&#x27;, &#x27;PR&#x27;, &#x27;SK&#x27;, &#x27;TS&#x27;, &#x27;M11&#x27;, &#x27;BD2&#x27;, &#x27;Age&#x27;, &#x27;Insurance&#x27;], dtype=&#x27;object&#x27;)),\n",
       "                                                 (&#x27;log transformation&#x27;,\n",
       "                                                  FunctionTransformer(func=&lt;ufunc &#x27;log1p&#x27;&gt;),\n",
       "                                                  Index([&#x27;PRG&#x27;, &#x27;PL&#x27;, &#x27;PR&#x27;, &#x27;SK&#x27;, &#x27;TS&#x27;, &#x27;M11&#x27;, &#x27;BD2&#x27;, &#x27;Age&#x27;, &#x27;Insurance&#x27;], dtype=&#x27;object&#x27;))])),\n",
       "                (&#x27;xgb_cl...\n",
       "                               feature_types=None, gamma=None, gpu_id=None,\n",
       "                               grow_policy=None, importance_type=None,\n",
       "                               interaction_constraints=None, learning_rate=None,\n",
       "                               max_bin=None, max_cat_threshold=None,\n",
       "                               max_cat_to_onehot=None, max_delta_step=None,\n",
       "                               max_depth=None, max_leaves=None,\n",
       "                               min_child_weight=None, missing=nan,\n",
       "                               monotone_constraints=None, n_estimators=100,\n",
       "                               n_jobs=None, num_parallel_tree=None,\n",
       "                               predictor=None, random_state=42, ...))])</pre></div></div></div><div class=\"sk-serial\"><div class=\"sk-item sk-dashed-wrapped\"><div class=\"sk-label-container\"><div class=\"sk-label sk-toggleable\"><input class=\"sk-toggleable__control sk-hidden--visually\" id=\"sk-estimator-id-29\" type=\"checkbox\" ><label for=\"sk-estimator-id-29\" class=\"sk-toggleable__label sk-toggleable__label-arrow\">preprocessor: ColumnTransformer</label><div class=\"sk-toggleable__content\"><pre>ColumnTransformer(remainder=&#x27;passthrough&#x27;,\n",
       "                  transformers=[(&#x27;scaler&#x27;, StandardScaler(),\n",
       "                                 Index([&#x27;PRG&#x27;, &#x27;PL&#x27;, &#x27;PR&#x27;, &#x27;SK&#x27;, &#x27;TS&#x27;, &#x27;M11&#x27;, &#x27;BD2&#x27;, &#x27;Age&#x27;, &#x27;Insurance&#x27;], dtype=&#x27;object&#x27;)),\n",
       "                                (&#x27;log transformation&#x27;,\n",
       "                                 FunctionTransformer(func=&lt;ufunc &#x27;log1p&#x27;&gt;),\n",
       "                                 Index([&#x27;PRG&#x27;, &#x27;PL&#x27;, &#x27;PR&#x27;, &#x27;SK&#x27;, &#x27;TS&#x27;, &#x27;M11&#x27;, &#x27;BD2&#x27;, &#x27;Age&#x27;, &#x27;Insurance&#x27;], dtype=&#x27;object&#x27;))])</pre></div></div></div><div class=\"sk-parallel\"><div class=\"sk-parallel-item\"><div class=\"sk-item\"><div class=\"sk-label-container\"><div class=\"sk-label sk-toggleable\"><input class=\"sk-toggleable__control sk-hidden--visually\" id=\"sk-estimator-id-30\" type=\"checkbox\" ><label for=\"sk-estimator-id-30\" class=\"sk-toggleable__label sk-toggleable__label-arrow\">scaler</label><div class=\"sk-toggleable__content\"><pre>Index([&#x27;PRG&#x27;, &#x27;PL&#x27;, &#x27;PR&#x27;, &#x27;SK&#x27;, &#x27;TS&#x27;, &#x27;M11&#x27;, &#x27;BD2&#x27;, &#x27;Age&#x27;, &#x27;Insurance&#x27;], dtype=&#x27;object&#x27;)</pre></div></div></div><div class=\"sk-serial\"><div class=\"sk-item\"><div class=\"sk-estimator sk-toggleable\"><input class=\"sk-toggleable__control sk-hidden--visually\" id=\"sk-estimator-id-31\" type=\"checkbox\" ><label for=\"sk-estimator-id-31\" class=\"sk-toggleable__label sk-toggleable__label-arrow\">StandardScaler</label><div class=\"sk-toggleable__content\"><pre>StandardScaler()</pre></div></div></div></div></div></div><div class=\"sk-parallel-item\"><div class=\"sk-item\"><div class=\"sk-label-container\"><div class=\"sk-label sk-toggleable\"><input class=\"sk-toggleable__control sk-hidden--visually\" id=\"sk-estimator-id-32\" type=\"checkbox\" ><label for=\"sk-estimator-id-32\" class=\"sk-toggleable__label sk-toggleable__label-arrow\">log transformation</label><div class=\"sk-toggleable__content\"><pre>Index([&#x27;PRG&#x27;, &#x27;PL&#x27;, &#x27;PR&#x27;, &#x27;SK&#x27;, &#x27;TS&#x27;, &#x27;M11&#x27;, &#x27;BD2&#x27;, &#x27;Age&#x27;, &#x27;Insurance&#x27;], dtype=&#x27;object&#x27;)</pre></div></div></div><div class=\"sk-serial\"><div class=\"sk-item\"><div class=\"sk-estimator sk-toggleable\"><input class=\"sk-toggleable__control sk-hidden--visually\" id=\"sk-estimator-id-33\" type=\"checkbox\" ><label for=\"sk-estimator-id-33\" class=\"sk-toggleable__label sk-toggleable__label-arrow\">FunctionTransformer</label><div class=\"sk-toggleable__content\"><pre>FunctionTransformer(func=&lt;ufunc &#x27;log1p&#x27;&gt;)</pre></div></div></div></div></div></div><div class=\"sk-parallel-item\"><div class=\"sk-item\"><div class=\"sk-label-container\"><div class=\"sk-label sk-toggleable\"><input class=\"sk-toggleable__control sk-hidden--visually\" id=\"sk-estimator-id-34\" type=\"checkbox\" ><label for=\"sk-estimator-id-34\" class=\"sk-toggleable__label sk-toggleable__label-arrow\">remainder</label><div class=\"sk-toggleable__content\"><pre>[]</pre></div></div></div><div class=\"sk-serial\"><div class=\"sk-item\"><div class=\"sk-estimator sk-toggleable\"><input class=\"sk-toggleable__control sk-hidden--visually\" id=\"sk-estimator-id-35\" type=\"checkbox\" ><label for=\"sk-estimator-id-35\" class=\"sk-toggleable__label sk-toggleable__label-arrow\">passthrough</label><div class=\"sk-toggleable__content\"><pre>passthrough</pre></div></div></div></div></div></div></div></div><div class=\"sk-item\"><div class=\"sk-estimator sk-toggleable\"><input class=\"sk-toggleable__control sk-hidden--visually\" id=\"sk-estimator-id-36\" type=\"checkbox\" ><label for=\"sk-estimator-id-36\" class=\"sk-toggleable__label sk-toggleable__label-arrow\">XGBClassifier</label><div class=\"sk-toggleable__content\"><pre>XGBClassifier(base_score=None, booster=None, callbacks=None,\n",
       "              colsample_bylevel=None, colsample_bynode=None,\n",
       "              colsample_bytree=None, early_stopping_rounds=None,\n",
       "              enable_categorical=False, eval_metric=None, feature_types=None,\n",
       "              gamma=None, gpu_id=None, grow_policy=None, importance_type=None,\n",
       "              interaction_constraints=None, learning_rate=None, max_bin=None,\n",
       "              max_cat_threshold=None, max_cat_to_onehot=None,\n",
       "              max_delta_step=None, max_depth=None, max_leaves=None,\n",
       "              min_child_weight=None, missing=nan, monotone_constraints=None,\n",
       "              n_estimators=100, n_jobs=None, num_parallel_tree=None,\n",
       "              predictor=None, random_state=42, ...)</pre></div></div></div></div></div></div></div>"
      ],
      "text/plain": [
       "Pipeline(steps=[('preprocessor',\n",
       "                 ColumnTransformer(remainder='passthrough',\n",
       "                                   transformers=[('scaler', StandardScaler(),\n",
       "                                                  Index(['PRG', 'PL', 'PR', 'SK', 'TS', 'M11', 'BD2', 'Age', 'Insurance'], dtype='object')),\n",
       "                                                 ('log transformation',\n",
       "                                                  FunctionTransformer(func=<ufunc 'log1p'>),\n",
       "                                                  Index(['PRG', 'PL', 'PR', 'SK', 'TS', 'M11', 'BD2', 'Age', 'Insurance'], dtype='object'))])),\n",
       "                ('xgb_cl...\n",
       "                               feature_types=None, gamma=None, gpu_id=None,\n",
       "                               grow_policy=None, importance_type=None,\n",
       "                               interaction_constraints=None, learning_rate=None,\n",
       "                               max_bin=None, max_cat_threshold=None,\n",
       "                               max_cat_to_onehot=None, max_delta_step=None,\n",
       "                               max_depth=None, max_leaves=None,\n",
       "                               min_child_weight=None, missing=nan,\n",
       "                               monotone_constraints=None, n_estimators=100,\n",
       "                               n_jobs=None, num_parallel_tree=None,\n",
       "                               predictor=None, random_state=42, ...))])"
      ]
     },
     "execution_count": 50,
     "metadata": {},
     "output_type": "execute_result"
    }
   ],
   "source": [
    "# Encode the target variable\n",
    "label_encoder = LabelEncoder()\n",
    "y_train_encoded = label_encoder.fit_transform(y_train)\n",
    "y_test_encoded = label_encoder.transform(y_test)\n",
    "\n",
    "# Create the XGBoost classifier\n",
    "xgb_classifier = XGBClassifier(random_state=42)\n",
    "\n",
    "# Create the pipeline\n",
    "pipeline_xgb = Pipeline(steps=[\n",
    "    ('preprocessor', preprocessor),\n",
    "    ('xgb_classifier', xgb_classifier),\n",
    "])\n",
    "\n",
    "# Fit the pipeline on the training data\n",
    "pipeline_xgb.fit(X_train, y_train_encoded)"
   ]
  },
  {
   "cell_type": "code",
   "execution_count": 51,
   "metadata": {},
   "outputs": [
    {
     "name": "stdout",
     "output_type": "stream",
     "text": [
      "XGBoost Classification Report:\n",
      "              precision    recall  f1-score   support\n",
      "\n",
      "           0       0.75      0.77      0.76        78\n",
      "           1       0.55      0.52      0.54        42\n",
      "\n",
      "    accuracy                           0.68       120\n",
      "   macro avg       0.65      0.65      0.65       120\n",
      "weighted avg       0.68      0.68      0.68       120\n",
      "\n"
     ]
    }
   ],
   "source": [
    "# Make predictions on the test data\n",
    "xgb_pred = pipeline_xgb.predict(X_test)\n",
    "\n",
    "# Print the classification report\n",
    "print(\"XGBoost Classification Report:\")\n",
    "print(classification_report(y_test_encoded, xgb_pred))"
   ]
  },
  {
   "cell_type": "markdown",
   "metadata": {},
   "source": [
    "The model achieved an overall accuracy of 68% on the test set. Precision for class 0 (Negative) is 75%, and recall is 77%. Precision for class 1 (Positive) is 55%, and recall is 52%. The F1-score, which balances precision and recall, is 0.76 for class 0 and 0.54 for class 1.\n",
    "\n",
    "The XGBoost model demonstrates fair performance with an accuracy of 68%.\n"
   ]
  },
  {
   "cell_type": "markdown",
   "metadata": {},
   "source": [
    "6 .Train Model 6 - Gaussian Naive Bayes"
   ]
  },
  {
   "cell_type": "code",
   "execution_count": 52,
   "metadata": {},
   "outputs": [
    {
     "name": "stdout",
     "output_type": "stream",
     "text": [
      "Naive Bayes Classification Report:\n",
      "              precision    recall  f1-score   support\n",
      "\n",
      "           0       0.78      0.73      0.75        78\n",
      "           1       0.55      0.62      0.58        42\n",
      "\n",
      "    accuracy                           0.69       120\n",
      "   macro avg       0.67      0.67      0.67       120\n",
      "weighted avg       0.70      0.69      0.70       120\n",
      "\n"
     ]
    }
   ],
   "source": [
    "# Create the Gaussian Naive Bayes classifier\n",
    "naive_bayes_classifier = GaussianNB()\n",
    "\n",
    "# Create the pipeline\n",
    "pipeline_nb = Pipeline(steps=[\n",
    "    ('preprocessor', preprocessor),\n",
    "    ('naive_bayes_classifier', naive_bayes_classifier),\n",
    "])\n",
    "\n",
    "# Fit the pipeline on the training data\n",
    "pipeline_nb.fit(X_train, y_train_encoded)\n",
    "\n",
    "# Make predictions on the test data\n",
    "nb_pred = pipeline_nb.predict(X_test)\n",
    "\n",
    "# Print the classification report\n",
    "print(\"Naive Bayes Classification Report:\")\n",
    "print(classification_report(y_test_encoded, nb_pred))"
   ]
  },
  {
   "cell_type": "markdown",
   "metadata": {},
   "source": [
    "The model achieved an overall accuracy of 69% on the test set. Precision for class 0 (Negative) is 78%, and recall is 73%. Precision for class 1 (Positive) is 55%, and recall is 62%. The F1-score, which balances precision and recall, is 0.75 for class 0 and 0.58 for class 1.\n",
    "\n",
    "The Gaussian Naive Bayes model demonstrates moderate performance with an accuracy of 69%.\n"
   ]
  },
  {
   "cell_type": "markdown",
   "metadata": {},
   "source": [
    "7. Train Model 7 - neural network(TensorFlow and Keras)"
   ]
  },
  {
   "cell_type": "code",
   "execution_count": 53,
   "metadata": {},
   "outputs": [
    {
     "name": "stdout",
     "output_type": "stream",
     "text": [
      "WARNING:tensorflow:From c:\\Users\\User\\AppData\\Local\\Programs\\Python\\Python311\\Lib\\site-packages\\keras\\src\\backend.py:873: The name tf.get_default_graph is deprecated. Please use tf.compat.v1.get_default_graph instead.\n",
      "\n",
      "WARNING:tensorflow:From c:\\Users\\User\\AppData\\Local\\Programs\\Python\\Python311\\Lib\\site-packages\\keras\\src\\optimizers\\__init__.py:309: The name tf.train.Optimizer is deprecated. Please use tf.compat.v1.train.Optimizer instead.\n",
      "\n",
      "Epoch 1/10\n",
      "WARNING:tensorflow:From c:\\Users\\User\\AppData\\Local\\Programs\\Python\\Python311\\Lib\\site-packages\\keras\\src\\utils\\tf_utils.py:492: The name tf.ragged.RaggedTensorValue is deprecated. Please use tf.compat.v1.ragged.RaggedTensorValue instead.\n",
      "\n"
     ]
    },
    {
     "name": "stdout",
     "output_type": "stream",
     "text": [
      "WARNING:tensorflow:From c:\\Users\\User\\AppData\\Local\\Programs\\Python\\Python311\\Lib\\site-packages\\keras\\src\\engine\\base_layer_utils.py:384: The name tf.executing_eagerly_outside_functions is deprecated. Please use tf.compat.v1.executing_eagerly_outside_functions instead.\n",
      "\n",
      "12/12 [==============================] - 2s 24ms/step - loss: 1.3661 - accuracy: 0.6554 - val_loss: 1.2067 - val_accuracy: 0.6667\n",
      "Epoch 2/10\n",
      "12/12 [==============================] - 0s 6ms/step - loss: 0.8576 - accuracy: 0.6893 - val_loss: 0.8625 - val_accuracy: 0.6458\n",
      "Epoch 3/10\n",
      "12/12 [==============================] - 0s 5ms/step - loss: 0.6911 - accuracy: 0.7050 - val_loss: 0.7712 - val_accuracy: 0.6562\n",
      "Epoch 4/10\n",
      "12/12 [==============================] - 0s 4ms/step - loss: 0.6759 - accuracy: 0.7023 - val_loss: 0.8104 - val_accuracy: 0.6562\n",
      "Epoch 5/10\n",
      "12/12 [==============================] - 0s 6ms/step - loss: 0.6394 - accuracy: 0.6919 - val_loss: 0.7328 - val_accuracy: 0.6771\n",
      "Epoch 6/10\n",
      "12/12 [==============================] - 0s 4ms/step - loss: 0.6472 - accuracy: 0.7154 - val_loss: 0.7480 - val_accuracy: 0.6771\n",
      "Epoch 7/10\n",
      "12/12 [==============================] - 0s 6ms/step - loss: 0.5635 - accuracy: 0.7520 - val_loss: 0.7484 - val_accuracy: 0.6354\n",
      "Epoch 8/10\n",
      "12/12 [==============================] - 0s 5ms/step - loss: 0.6433 - accuracy: 0.6997 - val_loss: 0.8282 - val_accuracy: 0.6562\n",
      "Epoch 9/10\n",
      "12/12 [==============================] - 0s 6ms/step - loss: 0.5627 - accuracy: 0.7520 - val_loss: 0.6924 - val_accuracy: 0.6354\n",
      "Epoch 10/10\n",
      "12/12 [==============================] - 0s 6ms/step - loss: 0.5413 - accuracy: 0.7415 - val_loss: 0.6884 - val_accuracy: 0.6562\n",
      "4/4 [==============================] - 0s 5ms/step - loss: 0.6759 - accuracy: 0.7000\n",
      "Accuracy on the test set: 0.70\n",
      "4/4 [==============================] - 0s 5ms/step\n",
      "Neural Network Classification Report:\n",
      "              precision    recall  f1-score   support\n",
      "\n",
      "    Negative       0.78      0.74      0.76        78\n",
      "    Positive       0.57      0.62      0.59        42\n",
      "\n",
      "    accuracy                           0.70       120\n",
      "   macro avg       0.67      0.68      0.68       120\n",
      "weighted avg       0.71      0.70      0.70       120\n",
      "\n"
     ]
    }
   ],
   "source": [
    "# Encode the target variable using LabelEncoder\n",
    "label_encoder = LabelEncoder()\n",
    "y_train_encoded = label_encoder.fit_transform(y_train)\n",
    "y_test_encoded = label_encoder.transform(y_test)\n",
    "\n",
    "# Create the neural network model\n",
    "model = keras.Sequential([\n",
    "    keras.layers.Dense(64, activation='relu', input_shape=(X_train.shape[1],)),\n",
    "    keras.layers.Dense(32, activation='relu'),\n",
    "    keras.layers.Dense(1, activation='sigmoid')  # Assuming binary classification\n",
    "])\n",
    "\n",
    "# Compile the model\n",
    "model.compile(optimizer='adam', loss='binary_crossentropy', metrics=['accuracy'])\n",
    "\n",
    "# Train the model\n",
    "model.fit(X_train, y_train_encoded, epochs=10, batch_size=32, validation_split=0.2)\n",
    "\n",
    "# Evaluate the model on the test data\n",
    "_, accuracy = model.evaluate(X_test, y_test_encoded)\n",
    "print(f\"Accuracy on the test set: {accuracy:.2f}\")\n",
    "\n",
    "# Make predictions on the test data\n",
    "nn_pred_proba = model.predict(X_test)\n",
    "nn_pred = (nn_pred_proba > 0.5).astype(int).flatten()\n",
    "\n",
    "# Decode predictions if needed\n",
    "nn_pred = label_encoder.inverse_transform(nn_pred)\n",
    "\n",
    "# Print the classification report\n",
    "print(\"Neural Network Classification Report:\")\n",
    "print(classification_report(y_test, nn_pred))\n"
   ]
  },
  {
   "cell_type": "markdown",
   "metadata": {},
   "source": [
    "The neural network achieved an overall accuracy of 70% on the test set. Precision for class 0 (Negative) is 78%, and recall is 74%. Precision for class 1 (Positive) is 57%, and recall is 62%. The F1-score, which balances precision and recall, is 0.76 for class 0 and 0.59 for class 1.\n",
    "\n",
    "The neural network demonstrates moderate performance with an accuracy of 70%.\n"
   ]
  },
  {
   "cell_type": "code",
   "execution_count": 54,
   "metadata": {},
   "outputs": [
    {
     "name": "stdout",
     "output_type": "stream",
     "text": [
      "\n",
      "KNN\n",
      "              precision    recall  f1-score     support\n",
      "0              0.772152  0.782051  0.777070   78.000000\n",
      "1              0.585366  0.571429  0.578313   42.000000\n",
      "accuracy       0.708333  0.708333  0.708333    0.708333\n",
      "macro avg      0.678759  0.676740  0.677692  120.000000\n",
      "weighted avg   0.706777  0.708333  0.707505  120.000000\n",
      "\n",
      "Logistic Regression\n",
      "              precision    recall  f1-score  support\n",
      "0              0.807692  0.807692  0.807692    78.00\n",
      "1              0.642857  0.642857  0.642857    42.00\n",
      "accuracy       0.750000  0.750000  0.750000     0.75\n",
      "macro avg      0.725275  0.725275  0.725275   120.00\n",
      "weighted avg   0.750000  0.750000  0.750000   120.00\n",
      "\n",
      "Decision Tree\n",
      "              precision    recall  f1-score     support\n",
      "0              0.780488  0.820513  0.800000   78.000000\n",
      "1              0.631579  0.571429  0.600000   42.000000\n",
      "accuracy       0.733333  0.733333  0.733333    0.733333\n",
      "macro avg      0.706033  0.695971  0.700000  120.000000\n",
      "weighted avg   0.728370  0.733333  0.730000  120.000000\n",
      "\n",
      "Random Forest\n",
      "              precision    recall  f1-score     support\n",
      "0              0.782051  0.782051  0.782051   78.000000\n",
      "1              0.595238  0.595238  0.595238   42.000000\n",
      "accuracy       0.716667  0.716667  0.716667    0.716667\n",
      "macro avg      0.688645  0.688645  0.688645  120.000000\n",
      "weighted avg   0.716667  0.716667  0.716667  120.000000\n",
      "\n",
      "XGBoost\n",
      "              precision    recall  f1-score     support\n",
      "0              0.750000  0.769231  0.759494   78.000000\n",
      "1              0.550000  0.523810  0.536585   42.000000\n",
      "accuracy       0.683333  0.683333  0.683333    0.683333\n",
      "macro avg      0.650000  0.646520  0.648040  120.000000\n",
      "weighted avg   0.680000  0.683333  0.681476  120.000000\n",
      "\n",
      "Naive Bayes\n",
      "              precision    recall  f1-score     support\n",
      "0              0.780822  0.730769  0.754967   78.000000\n",
      "1              0.553191  0.619048  0.584270   42.000000\n",
      "accuracy       0.691667  0.691667  0.691667    0.691667\n",
      "macro avg      0.667007  0.674908  0.669618  120.000000\n",
      "weighted avg   0.701151  0.691667  0.695223  120.000000\n",
      "\n",
      "Neural Network\n",
      "              precision    recall  f1-score  support\n",
      "Negative       0.783784  0.743590  0.763158     78.0\n",
      "Positive       0.565217  0.619048  0.590909     42.0\n",
      "accuracy       0.700000  0.700000  0.700000      0.7\n",
      "macro avg      0.674501  0.681319  0.677033    120.0\n",
      "weighted avg   0.707286  0.700000  0.702871    120.0\n"
     ]
    }
   ],
   "source": [
    "\n",
    "# Reports from models\n",
    "classification_reports = {\n",
    "    'KNN': classification_report(y_test_encoded, knn_pred, output_dict=True),\n",
    "    'Logistic Regression': classification_report(y_test_encoded, logistic_pred, output_dict=True),\n",
    "    'Decision Tree': classification_report(y_test_encoded, dt_pred, output_dict=True),\n",
    "    'Random Forest': classification_report(y_test_encoded, rf_pred, output_dict=True),\n",
    "    'XGBoost': classification_report(y_test_encoded, xgb_pred, output_dict=True),\n",
    "    'Naive Bayes': classification_report(y_test_encoded, nb_pred, output_dict=True),\n",
    "    'Neural Network': classification_report(y_test, nn_pred, output_dict=True),\n",
    "}\n",
    "\n",
    "# Convert the classification reports to DataFrames\n",
    "dfs = {}\n",
    "for model, report in classification_reports.items():\n",
    "    df = pd.DataFrame(report).transpose()\n",
    "    dfs[model] = df\n",
    "\n",
    "# Display the DataFrames\n",
    "for model, df in dfs.items():\n",
    "    print(f\"\\n{model}\\n{df}\")\n"
   ]
  },
  {
   "cell_type": "markdown",
   "metadata": {},
   "source": [
    "**Summary of classification_reports**"
   ]
  },
  {
   "cell_type": "code",
   "execution_count": 55,
   "metadata": {},
   "outputs": [
    {
     "data": {
      "text/html": [
       "<div>\n",
       "<style scoped>\n",
       "    .dataframe tbody tr th:only-of-type {\n",
       "        vertical-align: middle;\n",
       "    }\n",
       "\n",
       "    .dataframe tbody tr th {\n",
       "        vertical-align: top;\n",
       "    }\n",
       "\n",
       "    .dataframe thead th {\n",
       "        text-align: right;\n",
       "    }\n",
       "</style>\n",
       "<table border=\"1\" class=\"dataframe\">\n",
       "  <thead>\n",
       "    <tr style=\"text-align: right;\">\n",
       "      <th></th>\n",
       "      <th>Classifier</th>\n",
       "      <th>Precision</th>\n",
       "      <th>Accuracy</th>\n",
       "      <th>Recall</th>\n",
       "      <th>F1-Score</th>\n",
       "    </tr>\n",
       "  </thead>\n",
       "  <tbody>\n",
       "    <tr>\n",
       "      <th>0</th>\n",
       "      <td>Logistic Regression</td>\n",
       "      <td>0.750000</td>\n",
       "      <td>0.750000</td>\n",
       "      <td>0.750000</td>\n",
       "      <td>0.750000</td>\n",
       "    </tr>\n",
       "    <tr>\n",
       "      <th>1</th>\n",
       "      <td>Decision Tree</td>\n",
       "      <td>0.728370</td>\n",
       "      <td>0.733333</td>\n",
       "      <td>0.733333</td>\n",
       "      <td>0.730000</td>\n",
       "    </tr>\n",
       "    <tr>\n",
       "      <th>2</th>\n",
       "      <td>Random Forest</td>\n",
       "      <td>0.716667</td>\n",
       "      <td>0.716667</td>\n",
       "      <td>0.716667</td>\n",
       "      <td>0.716667</td>\n",
       "    </tr>\n",
       "    <tr>\n",
       "      <th>3</th>\n",
       "      <td>Neural Network</td>\n",
       "      <td>0.707286</td>\n",
       "      <td>0.700000</td>\n",
       "      <td>0.700000</td>\n",
       "      <td>0.702871</td>\n",
       "    </tr>\n",
       "    <tr>\n",
       "      <th>4</th>\n",
       "      <td>KNN</td>\n",
       "      <td>0.706777</td>\n",
       "      <td>0.708333</td>\n",
       "      <td>0.708333</td>\n",
       "      <td>0.707505</td>\n",
       "    </tr>\n",
       "    <tr>\n",
       "      <th>5</th>\n",
       "      <td>Naive Bayes</td>\n",
       "      <td>0.701151</td>\n",
       "      <td>0.691667</td>\n",
       "      <td>0.691667</td>\n",
       "      <td>0.695223</td>\n",
       "    </tr>\n",
       "    <tr>\n",
       "      <th>6</th>\n",
       "      <td>XGBoost</td>\n",
       "      <td>0.680000</td>\n",
       "      <td>0.683333</td>\n",
       "      <td>0.683333</td>\n",
       "      <td>0.681476</td>\n",
       "    </tr>\n",
       "  </tbody>\n",
       "</table>\n",
       "</div>"
      ],
      "text/plain": [
       "            Classifier  Precision  Accuracy    Recall  F1-Score\n",
       "0  Logistic Regression   0.750000  0.750000  0.750000  0.750000\n",
       "1        Decision Tree   0.728370  0.733333  0.733333  0.730000\n",
       "2        Random Forest   0.716667  0.716667  0.716667  0.716667\n",
       "3       Neural Network   0.707286  0.700000  0.700000  0.702871\n",
       "4                  KNN   0.706777  0.708333  0.708333  0.707505\n",
       "5          Naive Bayes   0.701151  0.691667  0.691667  0.695223\n",
       "6              XGBoost   0.680000  0.683333  0.683333  0.681476"
      ]
     },
     "execution_count": 55,
     "metadata": {},
     "output_type": "execute_result"
    }
   ],
   "source": [
    "# Reports from models\n",
    "classification_reports = {\n",
    "    'KNN': classification_report(y_test_encoded, knn_pred, output_dict=True),\n",
    "    'Logistic Regression': classification_report(y_test_encoded, logistic_pred, output_dict=True),\n",
    "    'Decision Tree': classification_report(y_test_encoded, dt_pred, output_dict=True),\n",
    "    'Random Forest': classification_report(y_test_encoded, rf_pred, output_dict=True),\n",
    "    'XGBoost': classification_report(y_test_encoded, xgb_pred, output_dict=True),\n",
    "    'Naive Bayes': classification_report(y_test_encoded, nb_pred, output_dict=True),\n",
    "    'Neural Network': classification_report(y_test, nn_pred, output_dict=True),\n",
    "}\n",
    "\n",
    "# Create a dictionary to store the summary reports\n",
    "summary_reports = {}\n",
    "\n",
    "# Convert the classification reports to DataFrames and extract summary metrics\n",
    "for model, report in classification_reports.items():\n",
    "    df = pd.DataFrame(report).transpose()\n",
    "    summary = {\n",
    "        \"Classifier\": model,\n",
    "        \"Precision\": df.at[\"weighted avg\", \"precision\"],\n",
    "        \"Accuracy\": df.at[\"accuracy\", \"precision\"],\n",
    "        \"Recall\": df.at[\"weighted avg\", \"recall\"],\n",
    "        \"F1-Score\": df.at[\"weighted avg\", \"f1-score\"]\n",
    "    }\n",
    "    summary_reports[model] = summary\n",
    "\n",
    "# Convert the summary reports to a DataFrame\n",
    "summary_df = pd.DataFrame(list(summary_reports.values()))\n",
    "\n",
    "# Sort the DataFrame based on desired metrics\n",
    "sorted_summary_df = summary_df.sort_values(by=[\"Precision\", \"Accuracy\", \"Recall\", \"F1-Score\"], ascending=False)\n",
    "sorted_summary_df = sorted_summary_df.reset_index(drop=True)\n",
    "\n",
    "# Print the sorted summary DataFrame\n",
    "sorted_summary_df\n"
   ]
  },
  {
   "cell_type": "markdown",
   "metadata": {},
   "source": [
    "These metrics provide a comprehensive view of each classifier's performance, considering precision, accuracy, recall, and F1-Score. Considering that the primary objective is to predict the likelihood of sepsis, a few factors to consider are precision, recall, and the overall accuracy of the model. Additionally, the balance between precision and recall (F1-Score) is crucial, as you likely want a model that performs well in identifying both positive and negative instances of sepsis. \n",
    "\n",
    "Given these considerations, Logistic Regression stands out as a strong candidate. It provides a balanced performance across different metrics and is interpretable, making it a good choice for predicting the likelihood of sepsis."
   ]
  },
  {
   "cell_type": "markdown",
   "metadata": {},
   "source": [
    "## **Addressing Class Imbalance using Class Weights**"
   ]
  },
  {
   "cell_type": "markdown",
   "metadata": {},
   "source": [
    "The distribution of the target column 'Sepsis' indicates an imbalance, with more occurrences of the \"Negative\" class compared to the \"Positive\" class. To address the class imbalance, one effective approach is to assign different weights to each class. \n",
    "\n",
    "Class weights give more importance to the minority class, helping the model better learn patterns associated with it."
   ]
  },
  {
   "cell_type": "markdown",
   "metadata": {},
   "source": [
    "1.  **K-Nearest Neighbors with class weights**"
   ]
  },
  {
   "cell_type": "code",
   "execution_count": 56,
   "metadata": {},
   "outputs": [
    {
     "name": "stdout",
     "output_type": "stream",
     "text": [
      "\n",
      "K-Nearest Neighbors with Class Weight\n",
      "               precision    recall  f1-score     support\n",
      "0              0.766234  0.756410  0.761290   78.000000\n",
      "1              0.558140  0.571429  0.564706   42.000000\n",
      "accuracy       0.691667  0.691667  0.691667    0.691667\n",
      "macro avg      0.662187  0.663919  0.662998  120.000000\n",
      "weighted avg   0.693401  0.691667  0.692486  120.000000\n"
     ]
    }
   ],
   "source": [
    "# Calculate class weights to handle imbalance\n",
    "class_weights_knn = compute_class_weight('balanced', classes=np.unique(y_train_encoded), y=y_train_encoded)\n",
    "class_weight_dict_knn = {class_label: weight for class_label, weight in zip(np.unique(y_train_encoded), class_weights_knn)}\n",
    "\n",
    "# K-Nearest Neighbors with class weight\n",
    "neighbors_cw = KNeighborsClassifier(weights='distance', metric='euclidean', n_neighbors=5)\n",
    "pipeline_cw = Pipeline(steps=[\n",
    "    ('preprocessor', preprocessor),\n",
    "    ('neighbors', neighbors_cw),\n",
    "])\n",
    "\n",
    "# Fit the pipeline on the training data\n",
    "pipeline_cw.fit(X_train, y_train_encoded)\n",
    "\n",
    "# Make predictions on the test data\n",
    "knn_pred_cw = pipeline_cw.predict(X_test)\n",
    "\n",
    "# Evaluate the model\n",
    "classification_report_knn_cw = classification_report(y_test_encoded, knn_pred_cw, output_dict=True)\n",
    "f2_knn_cw = fbeta_score(y_test_encoded, knn_pred_cw, beta=2)\n",
    "\n",
    "# Display the classification report\n",
    "print(\"\\nK-Nearest Neighbors with Class Weight\\n\", pd.DataFrame(classification_report_knn_cw).transpose())"
   ]
  },
  {
   "cell_type": "markdown",
   "metadata": {},
   "source": [
    "2. **Logistic Regression (Gradient Descent) using Class weight**"
   ]
  },
  {
   "cell_type": "code",
   "execution_count": 57,
   "metadata": {},
   "outputs": [
    {
     "name": "stdout",
     "output_type": "stream",
     "text": [
      "\n",
      "Logistic Regression with Class Weight\n",
      "               precision    recall  f1-score  support\n",
      "0              0.846154  0.705128  0.769231   78.000\n",
      "1              0.581818  0.761905  0.659794   42.000\n",
      "accuracy       0.725000  0.725000  0.725000    0.725\n",
      "macro avg      0.713986  0.733516  0.714512  120.000\n",
      "weighted avg   0.753636  0.725000  0.730928  120.000\n"
     ]
    }
   ],
   "source": [
    "# Calculate class weights to handle imbalance\n",
    "class_weights_lr = compute_class_weight('balanced', classes=np.unique(y_train_encoded), y=y_train_encoded)\n",
    "class_weight_dict_lr = {class_label: weight for class_label, weight in zip(np.unique(y_train_encoded), class_weights_lr)}\n",
    "\n",
    "# Logistic Regression with class weight\n",
    "logistic_regression_cw = LogisticRegression(solver='sag', max_iter=1000, class_weight=class_weight_dict_lr)\n",
    "pipeline_lr_cw = Pipeline(steps=[\n",
    "    ('preprocessor', preprocessor),\n",
    "    ('logistic_regression', logistic_regression_cw),\n",
    "])\n",
    "\n",
    "# Fit the pipeline on the training data\n",
    "pipeline_lr_cw.fit(X_train, y_train_encoded)\n",
    "\n",
    "# Make predictions on the test data\n",
    "logistic_pred_cw = pipeline_lr_cw.predict(X_test)\n",
    "\n",
    "# Evaluate the model\n",
    "classification_report_lr_cw = classification_report(y_test_encoded, logistic_pred_cw, output_dict=True)\n",
    "\n",
    "# Display the classification report\n",
    "print(\"\\nLogistic Regression with Class Weight\\n\", pd.DataFrame(classification_report_lr_cw).transpose())\n"
   ]
  },
  {
   "cell_type": "markdown",
   "metadata": {},
   "source": [
    "3.  **Decision Tree with Class weight**"
   ]
  },
  {
   "cell_type": "code",
   "execution_count": 58,
   "metadata": {},
   "outputs": [
    {
     "name": "stdout",
     "output_type": "stream",
     "text": [
      "\n",
      "Decision Tree with Class Weight\n",
      "               precision    recall  f1-score     support\n",
      "0              0.732558  0.807692  0.768293   78.000000\n",
      "1              0.558824  0.452381  0.500000   42.000000\n",
      "accuracy       0.683333  0.683333  0.683333    0.683333\n",
      "macro avg      0.645691  0.630037  0.634146  120.000000\n",
      "weighted avg   0.671751  0.683333  0.674390  120.000000\n"
     ]
    }
   ],
   "source": [
    "# Calculate class weights to handle imbalance\n",
    "class_weights_dt = compute_class_weight('balanced', classes=np.unique(y_train_encoded), y=y_train_encoded)\n",
    "class_weight_dict_dt = {class_label: weight for class_label, weight in zip(np.unique(y_train_encoded), class_weights_dt)}\n",
    "\n",
    "# Decision Tree with class weight\n",
    "dt_cw = DecisionTreeClassifier(class_weight=class_weight_dict_dt, random_state=42)\n",
    "pipeline_dt_cw = Pipeline(steps=[\n",
    "    ('preprocessor', preprocessor),\n",
    "    ('decision_tree', dt_cw),\n",
    "])\n",
    "\n",
    "# Fit the pipeline on the training data\n",
    "pipeline_dt_cw.fit(X_train, y_train_encoded)\n",
    "\n",
    "# Make predictions on the test data\n",
    "dt_pred_cw = pipeline_dt_cw.predict(X_test)\n",
    "\n",
    "# Evaluate the model\n",
    "classification_report_dt_cw = classification_report(y_test_encoded, dt_pred_cw, output_dict=True)\n",
    "f2_dt_cw = fbeta_score(y_test_encoded, dt_pred_cw, beta=2)\n",
    "\n",
    "# Display the classification report\n",
    "print(\"\\nDecision Tree with Class Weight\\n\", pd.DataFrame(classification_report_dt_cw).transpose())"
   ]
  },
  {
   "cell_type": "markdown",
   "metadata": {},
   "source": [
    "4.  **Random Forest with class weight**"
   ]
  },
  {
   "cell_type": "code",
   "execution_count": 59,
   "metadata": {},
   "outputs": [
    {
     "name": "stdout",
     "output_type": "stream",
     "text": [
      "\n",
      "Random Forest with Class Weight\n",
      "               precision    recall  f1-score     support\n",
      "0              0.765432  0.794872  0.779874   78.000000\n",
      "1              0.589744  0.547619  0.567901   42.000000\n",
      "accuracy       0.708333  0.708333  0.708333    0.708333\n",
      "macro avg      0.677588  0.671245  0.673888  120.000000\n",
      "weighted avg   0.703941  0.708333  0.705684  120.000000\n"
     ]
    }
   ],
   "source": [
    "# Calculate class weights to handle imbalance\n",
    "class_weights_rf = compute_class_weight('balanced', classes=np.unique(y_train_encoded), y=y_train_encoded)\n",
    "class_weight_dict_rf = {class_label: weight for class_label, weight in zip(np.unique(y_train_encoded), class_weights_rf)}\n",
    "\n",
    "# Random Forest with class weight\n",
    "rf_cw = RandomForestClassifier(class_weight=class_weight_dict_rf, random_state=42)\n",
    "pipeline_rf_cw = Pipeline(steps=[\n",
    "    ('preprocessor', preprocessor),\n",
    "    ('random_forest', rf_cw),\n",
    "])\n",
    "\n",
    "# Fit the pipeline on the training data\n",
    "pipeline_rf_cw.fit(X_train, y_train_encoded)\n",
    "\n",
    "# Make predictions on the test data\n",
    "rf_pred_cw = pipeline_rf_cw.predict(X_test)\n",
    "\n",
    "# Evaluate the model\n",
    "classification_report_rf_cw = classification_report(y_test_encoded, rf_pred_cw, output_dict=True)\n",
    "f2_rf_cw = fbeta_score(y_test_encoded, rf_pred_cw, beta=2)\n",
    "\n",
    "# Display the classification report\n",
    "print(\"\\nRandom Forest with Class Weight\\n\", pd.DataFrame(classification_report_rf_cw).transpose())"
   ]
  },
  {
   "cell_type": "markdown",
   "metadata": {},
   "source": [
    "5.  **XGBoost (Extreme Gradient Boosting) with class weight**"
   ]
  },
  {
   "cell_type": "code",
   "execution_count": 60,
   "metadata": {},
   "outputs": [
    {
     "name": "stdout",
     "output_type": "stream",
     "text": [
      "\n",
      "XGBoost with Class Weight\n",
      "               precision    recall  f1-score  support\n",
      "0              0.783784  0.743590  0.763158     78.0\n",
      "1              0.565217  0.619048  0.590909     42.0\n",
      "accuracy       0.700000  0.700000  0.700000      0.7\n",
      "macro avg      0.674501  0.681319  0.677033    120.0\n",
      "weighted avg   0.707286  0.700000  0.702871    120.0\n"
     ]
    }
   ],
   "source": [
    "# Calculate class weights to handle imbalance\n",
    "class_weights_xgb = compute_class_weight('balanced', classes=np.unique(y_train_encoded), y=y_train_encoded)\n",
    "class_weight_dict_xgb = {class_label: weight for class_label, weight in zip(np.unique(y_train_encoded), class_weights_xgb)}\n",
    "\n",
    "# XGBoost with class weight\n",
    "xgb_cw = XGBClassifier(scale_pos_weight=class_weight_dict_xgb[1], random_state=42)\n",
    "pipeline_xgb_cw = Pipeline(steps=[\n",
    "    ('preprocessor', preprocessor),\n",
    "    ('xgb_classifier', xgb_cw),\n",
    "])\n",
    "\n",
    "# Fit the pipeline on the training data\n",
    "pipeline_xgb_cw.fit(X_train, y_train_encoded)\n",
    "\n",
    "# Make predictions on the test data\n",
    "xgb_pred_cw = pipeline_xgb_cw.predict(X_test)\n",
    "\n",
    "# Evaluate the model\n",
    "classification_report_xgb_cw = classification_report(y_test_encoded, xgb_pred_cw, output_dict=True)\n",
    "f2_xgb_cw = fbeta_score(y_test_encoded, xgb_pred_cw, beta=2)\n",
    "\n",
    "# Display the classification report\n",
    "print(\"\\nXGBoost with Class Weight\\n\", pd.DataFrame(classification_report_xgb_cw).transpose())"
   ]
  },
  {
   "cell_type": "markdown",
   "metadata": {},
   "source": [
    "6.  **Gaussian Naive Bayes with class weight**"
   ]
  },
  {
   "cell_type": "code",
   "execution_count": 61,
   "metadata": {},
   "outputs": [
    {
     "name": "stdout",
     "output_type": "stream",
     "text": [
      "\n",
      "Gaussian Naive Bayes with Class Weight\n",
      "               precision    recall  f1-score  support\n",
      "0              0.810345  0.602564  0.691176    78.00\n",
      "1              0.500000  0.738095  0.596154    42.00\n",
      "accuracy       0.650000  0.650000  0.650000     0.65\n",
      "macro avg      0.655172  0.670330  0.643665   120.00\n",
      "weighted avg   0.701724  0.650000  0.657919   120.00\n"
     ]
    }
   ],
   "source": [
    "# Calculate class weights to handle imbalance\n",
    "class_weights_gnb = compute_class_weight('balanced', classes=np.unique(y_train_encoded), y=y_train_encoded)\n",
    "class_weight_dict_gnb = {class_label: weight for class_label, weight in zip(np.unique(y_train_encoded), class_weights_gnb)}\n",
    "\n",
    "# Gaussian Naive Bayes with class weight\n",
    "gnb_cw = GaussianNB(priors=None)  # Set priors to None to use class weights\n",
    "pipeline_gnb_cw = Pipeline(steps=[\n",
    "    ('preprocessor', preprocessor),\n",
    "    ('gnb', gnb_cw),\n",
    "])\n",
    "\n",
    "# Fit the pipeline on the training data\n",
    "pipeline_gnb_cw.fit(X_train, y_train_encoded)\n",
    "\n",
    "# Update the priors based on class weights\n",
    "pipeline_gnb_cw.named_steps['gnb'].class_prior_ = np.array(list(class_weight_dict_gnb.values()))\n",
    "\n",
    "# Make predictions on the test data\n",
    "gnb_pred_cw = pipeline_gnb_cw.predict(X_test)\n",
    "\n",
    "# Evaluate the model\n",
    "classification_report_gnb_cw = classification_report(y_test_encoded, gnb_pred_cw, output_dict=True)\n",
    "f2_gnb_cw = fbeta_score(y_test_encoded, gnb_pred_cw, beta=2)\n",
    "\n",
    "# Display the classification report\n",
    "print(\"\\nGaussian Naive Bayes with Class Weight\\n\", pd.DataFrame(classification_report_gnb_cw).transpose())"
   ]
  },
  {
   "cell_type": "markdown",
   "metadata": {},
   "source": [
    "7.  **Neural network(TensorFlow and Keras) with class weight**"
   ]
  },
  {
   "cell_type": "code",
   "execution_count": 62,
   "metadata": {},
   "outputs": [
    {
     "name": "stdout",
     "output_type": "stream",
     "text": [
      "Epoch 1/10\n",
      "12/12 [==============================] - 1s 20ms/step - loss: 5.6793 - accuracy: 0.3655 - val_loss: 4.0554 - val_accuracy: 0.5417\n",
      "Epoch 2/10\n",
      "12/12 [==============================] - 0s 6ms/step - loss: 3.8104 - accuracy: 0.5326 - val_loss: 2.2528 - val_accuracy: 0.5521\n",
      "Epoch 3/10\n",
      "12/12 [==============================] - 0s 6ms/step - loss: 2.5901 - accuracy: 0.5222 - val_loss: 2.1894 - val_accuracy: 0.5417\n",
      "Epoch 4/10\n",
      "12/12 [==============================] - 0s 6ms/step - loss: 2.3095 - accuracy: 0.5822 - val_loss: 1.6841 - val_accuracy: 0.5938\n",
      "Epoch 5/10\n",
      "12/12 [==============================] - 0s 5ms/step - loss: 2.0365 - accuracy: 0.6110 - val_loss: 1.7260 - val_accuracy: 0.5417\n",
      "Epoch 6/10\n",
      "12/12 [==============================] - 0s 6ms/step - loss: 1.8431 - accuracy: 0.5718 - val_loss: 1.5740 - val_accuracy: 0.5521\n",
      "Epoch 7/10\n",
      "12/12 [==============================] - 0s 8ms/step - loss: 1.6905 - accuracy: 0.5561 - val_loss: 1.5671 - val_accuracy: 0.5417\n",
      "Epoch 8/10\n",
      "12/12 [==============================] - 0s 5ms/step - loss: 1.5218 - accuracy: 0.5849 - val_loss: 1.5229 - val_accuracy: 0.5104\n",
      "Epoch 9/10\n",
      "12/12 [==============================] - 0s 6ms/step - loss: 1.3987 - accuracy: 0.5561 - val_loss: 1.3890 - val_accuracy: 0.5625\n",
      "Epoch 10/10\n",
      "12/12 [==============================] - 0s 6ms/step - loss: 1.3143 - accuracy: 0.5849 - val_loss: 1.3284 - val_accuracy: 0.5521\n",
      "4/4 [==============================] - 0s 5ms/step\n",
      "\n",
      "Neural Network with Class Weight\n",
      "               precision    recall  f1-score  support\n",
      "0              0.690909  0.487179  0.571429   78.000\n",
      "1              0.384615  0.595238  0.467290   42.000\n",
      "accuracy       0.525000  0.525000  0.525000    0.525\n",
      "macro avg      0.537762  0.541209  0.519359  120.000\n",
      "weighted avg   0.583706  0.525000  0.534980  120.000\n"
     ]
    }
   ],
   "source": [
    "# Calculate class weights to handle imbalance\n",
    "class_weights = compute_class_weight('balanced', classes=np.unique(y_train_encoded), y=y_train_encoded)\n",
    "class_weight_dict = {class_label: weight for class_label, weight in zip(np.unique(y_train_encoded), class_weights)}\n",
    "\n",
    "# Define the neural network model\n",
    "model = Sequential()\n",
    "model.add(Dense(32, input_dim=X_train.shape[1], activation='relu'))\n",
    "model.add(Dense(1, activation='sigmoid'))\n",
    "\n",
    "model.compile(optimizer='adam', loss='binary_crossentropy', metrics=['accuracy'])\n",
    "\n",
    "# Define early stopping to prevent overfitting\n",
    "early_stopping = EarlyStopping(monitor='val_loss', patience=3, restore_best_weights=True)\n",
    "\n",
    "# Train the model with class weights\n",
    "model.fit(X_train, y_train_encoded, epochs=10, batch_size=32, validation_split=0.2, class_weight=class_weight_dict, callbacks=[early_stopping])\n",
    "\n",
    "# Make predictions on the test data\n",
    "nn_pred_prob = model.predict(X_test)\n",
    "nn_pred = (nn_pred_prob > 0.5).astype(int)  # Apply thresholding\n",
    "\n",
    "# Evaluate the model\n",
    "classification_report_nn = classification_report(y_test_encoded, nn_pred, output_dict=True)\n",
    "f2_nn = fbeta_score(y_test_encoded, nn_pred, beta=2)\n",
    "\n",
    "# Display the classification report\n",
    "print(\"\\nNeural Network with Class Weight\\n\", pd.DataFrame(classification_report_nn).transpose())"
   ]
  },
  {
   "cell_type": "markdown",
   "metadata": {},
   "source": [
    "### Classification Reports of Models using Class weight"
   ]
  },
  {
   "cell_type": "code",
   "execution_count": 63,
   "metadata": {},
   "outputs": [
    {
     "name": "stdout",
     "output_type": "stream",
     "text": [
      "\n",
      "KNN CW\n",
      "              precision    recall  f1-score     support\n",
      "0              0.766234  0.756410  0.761290   78.000000\n",
      "1              0.558140  0.571429  0.564706   42.000000\n",
      "accuracy       0.691667  0.691667  0.691667    0.691667\n",
      "macro avg      0.662187  0.663919  0.662998  120.000000\n",
      "weighted avg   0.693401  0.691667  0.692486  120.000000\n",
      "\n",
      "Logistic Regression CW\n",
      "              precision    recall  f1-score  support\n",
      "0              0.846154  0.705128  0.769231   78.000\n",
      "1              0.581818  0.761905  0.659794   42.000\n",
      "accuracy       0.725000  0.725000  0.725000    0.725\n",
      "macro avg      0.713986  0.733516  0.714512  120.000\n",
      "weighted avg   0.753636  0.725000  0.730928  120.000\n",
      "\n",
      "Decision Tree CW\n",
      "              precision    recall  f1-score     support\n",
      "0              0.732558  0.807692  0.768293   78.000000\n",
      "1              0.558824  0.452381  0.500000   42.000000\n",
      "accuracy       0.683333  0.683333  0.683333    0.683333\n",
      "macro avg      0.645691  0.630037  0.634146  120.000000\n",
      "weighted avg   0.671751  0.683333  0.674390  120.000000\n",
      "\n",
      "Random Forest CW\n",
      "              precision    recall  f1-score     support\n",
      "0              0.765432  0.794872  0.779874   78.000000\n",
      "1              0.589744  0.547619  0.567901   42.000000\n",
      "accuracy       0.708333  0.708333  0.708333    0.708333\n",
      "macro avg      0.677588  0.671245  0.673888  120.000000\n",
      "weighted avg   0.703941  0.708333  0.705684  120.000000\n",
      "\n",
      "XGBoost CW\n",
      "              precision    recall  f1-score  support\n",
      "0              0.783784  0.743590  0.763158     78.0\n",
      "1              0.565217  0.619048  0.590909     42.0\n",
      "accuracy       0.700000  0.700000  0.700000      0.7\n",
      "macro avg      0.674501  0.681319  0.677033    120.0\n",
      "weighted avg   0.707286  0.700000  0.702871    120.0\n",
      "\n",
      "Naive Bayes CW\n",
      "              precision    recall  f1-score  support\n",
      "0              0.810345  0.602564  0.691176    78.00\n",
      "1              0.500000  0.738095  0.596154    42.00\n",
      "accuracy       0.650000  0.650000  0.650000     0.65\n",
      "macro avg      0.655172  0.670330  0.643665   120.00\n",
      "weighted avg   0.701724  0.650000  0.657919   120.00\n",
      "\n",
      "Neural Network CW\n",
      "              precision    recall  f1-score  support\n",
      "0              0.690909  0.487179  0.571429   78.000\n",
      "1              0.384615  0.595238  0.467290   42.000\n",
      "accuracy       0.525000  0.525000  0.525000    0.525\n",
      "macro avg      0.537762  0.541209  0.519359  120.000\n",
      "weighted avg   0.583706  0.525000  0.534980  120.000\n"
     ]
    }
   ],
   "source": [
    "# Create a dictionary to store the predictions\n",
    "model_predictions = {\n",
    "    'KNN CW': knn_pred_cw,\n",
    "    'Logistic Regression CW': logistic_pred_cw,\n",
    "    'Decision Tree CW': dt_pred_cw,\n",
    "    'Random Forest CW': rf_pred_cw,\n",
    "    'XGBoost CW': xgb_pred_cw,\n",
    "    'Naive Bayes CW': gnb_pred_cw,\n",
    "    'Neural Network CW': nn_pred,\n",
    "}\n",
    "\n",
    "# Create a dictionary to store the classification reports\n",
    "classification_reports = {}\n",
    "\n",
    "# Generate classification reports for each model\n",
    "for model_name, predictions in model_predictions.items():\n",
    "    # Assuming y_test_encoded is your ground truth\n",
    "    report = classification_report(y_test_encoded, predictions, output_dict=True)\n",
    "    classification_reports[model_name] = report\n",
    "\n",
    "# Convert the classification reports to DataFrames\n",
    "dfs = {}\n",
    "for model, report in classification_reports.items():\n",
    "    df = pd.DataFrame(report).transpose()\n",
    "    dfs[model] = df\n",
    "\n",
    "# Display the DataFrames\n",
    "for model, df in dfs.items():\n",
    "    print(f\"\\n{model}\\n{df}\")"
   ]
  },
  {
   "cell_type": "markdown",
   "metadata": {},
   "source": [
    "**Summary Report of Models using Class Weight**"
   ]
  },
  {
   "cell_type": "code",
   "execution_count": 64,
   "metadata": {},
   "outputs": [
    {
     "data": {
      "text/html": [
       "<div>\n",
       "<style scoped>\n",
       "    .dataframe tbody tr th:only-of-type {\n",
       "        vertical-align: middle;\n",
       "    }\n",
       "\n",
       "    .dataframe tbody tr th {\n",
       "        vertical-align: top;\n",
       "    }\n",
       "\n",
       "    .dataframe thead th {\n",
       "        text-align: right;\n",
       "    }\n",
       "</style>\n",
       "<table border=\"1\" class=\"dataframe\">\n",
       "  <thead>\n",
       "    <tr style=\"text-align: right;\">\n",
       "      <th></th>\n",
       "      <th>Classifier</th>\n",
       "      <th>Precision</th>\n",
       "      <th>Accuracy</th>\n",
       "      <th>Recall</th>\n",
       "      <th>F1-Score</th>\n",
       "    </tr>\n",
       "  </thead>\n",
       "  <tbody>\n",
       "    <tr>\n",
       "      <th>0</th>\n",
       "      <td>Logistic Regression CW</td>\n",
       "      <td>0.753636</td>\n",
       "      <td>0.725000</td>\n",
       "      <td>0.725000</td>\n",
       "      <td>0.730928</td>\n",
       "    </tr>\n",
       "    <tr>\n",
       "      <th>1</th>\n",
       "      <td>XGBoost CW</td>\n",
       "      <td>0.707286</td>\n",
       "      <td>0.700000</td>\n",
       "      <td>0.700000</td>\n",
       "      <td>0.702871</td>\n",
       "    </tr>\n",
       "    <tr>\n",
       "      <th>2</th>\n",
       "      <td>Random Forest CW</td>\n",
       "      <td>0.703941</td>\n",
       "      <td>0.708333</td>\n",
       "      <td>0.708333</td>\n",
       "      <td>0.705684</td>\n",
       "    </tr>\n",
       "    <tr>\n",
       "      <th>3</th>\n",
       "      <td>Naive Bayes CW</td>\n",
       "      <td>0.701724</td>\n",
       "      <td>0.650000</td>\n",
       "      <td>0.650000</td>\n",
       "      <td>0.657919</td>\n",
       "    </tr>\n",
       "    <tr>\n",
       "      <th>4</th>\n",
       "      <td>KNN CW</td>\n",
       "      <td>0.693401</td>\n",
       "      <td>0.691667</td>\n",
       "      <td>0.691667</td>\n",
       "      <td>0.692486</td>\n",
       "    </tr>\n",
       "    <tr>\n",
       "      <th>5</th>\n",
       "      <td>Decision Tree CW</td>\n",
       "      <td>0.671751</td>\n",
       "      <td>0.683333</td>\n",
       "      <td>0.683333</td>\n",
       "      <td>0.674390</td>\n",
       "    </tr>\n",
       "    <tr>\n",
       "      <th>6</th>\n",
       "      <td>Neural Network CW</td>\n",
       "      <td>0.583706</td>\n",
       "      <td>0.525000</td>\n",
       "      <td>0.525000</td>\n",
       "      <td>0.534980</td>\n",
       "    </tr>\n",
       "  </tbody>\n",
       "</table>\n",
       "</div>"
      ],
      "text/plain": [
       "               Classifier  Precision  Accuracy    Recall  F1-Score\n",
       "0  Logistic Regression CW   0.753636  0.725000  0.725000  0.730928\n",
       "1              XGBoost CW   0.707286  0.700000  0.700000  0.702871\n",
       "2        Random Forest CW   0.703941  0.708333  0.708333  0.705684\n",
       "3          Naive Bayes CW   0.701724  0.650000  0.650000  0.657919\n",
       "4                  KNN CW   0.693401  0.691667  0.691667  0.692486\n",
       "5        Decision Tree CW   0.671751  0.683333  0.683333  0.674390\n",
       "6       Neural Network CW   0.583706  0.525000  0.525000  0.534980"
      ]
     },
     "execution_count": 64,
     "metadata": {},
     "output_type": "execute_result"
    }
   ],
   "source": [
    "# Create a dictionary to store the predictions\n",
    "model_predictions = {\n",
    "    'KNN CW': knn_pred_cw,\n",
    "    'Logistic Regression CW': logistic_pred_cw,\n",
    "    'Decision Tree CW': dt_pred_cw,\n",
    "    'Random Forest CW': rf_pred_cw,\n",
    "    'XGBoost CW': xgb_pred_cw,\n",
    "    'Naive Bayes CW': gnb_pred_cw,\n",
    "    'Neural Network CW': nn_pred,\n",
    "}\n",
    "\n",
    "# Create a dictionary to store the classification reports\n",
    "classification_reports = {}\n",
    "\n",
    "# Generate classification reports for each model\n",
    "for model_name, predictions in model_predictions.items():\n",
    "    # Assuming y_test_encoded is your ground truth\n",
    "    report = classification_report(y_test_encoded, predictions, output_dict=True)\n",
    "    classification_reports[model_name] = report\n",
    "\n",
    "# Create a dictionary to store the summary reports\n",
    "summary_reports = {}\n",
    "\n",
    "# Convert the classification reports to DataFrames and extract summary metrics\n",
    "for model, report in classification_reports.items():\n",
    "    df = pd.DataFrame(report).transpose()\n",
    "    summary = {\n",
    "        \"Classifier\": model,\n",
    "        \"Precision\": df.at[\"weighted avg\", \"precision\"],\n",
    "        \"Accuracy\": df.at[\"accuracy\", \"precision\"],\n",
    "        \"Recall\": df.at[\"weighted avg\", \"recall\"],\n",
    "        \"F1-Score\": df.at[\"weighted avg\", \"f1-score\"]\n",
    "    }\n",
    "    summary_reports[model] = summary\n",
    "\n",
    "# Convert the summary reports to a DataFrame\n",
    "summary_df = pd.DataFrame(list(summary_reports.values()))\n",
    "\n",
    "# Sort the DataFrame based on desired metrics\n",
    "sorted_summary_df = summary_df.sort_values(by=[\"Precision\", \"Accuracy\", \"Recall\", \"F1-Score\"], ascending=False)\n",
    "sorted_summary_df = sorted_summary_df.reset_index(drop=True)\n",
    "\n",
    "# Print the sorted summary DataFrame\n",
    "sorted_summary_df\n"
   ]
  },
  {
   "cell_type": "markdown",
   "metadata": {},
   "source": [
    "**Best Model**"
   ]
  },
  {
   "cell_type": "markdown",
   "metadata": {},
   "source": [
    "- Logistic Regression has the highest precision, accuracy, recall, and F1-score among the models.\n",
    "- XGBoost and Random Forest also show competitive performance, with relatively high precision, accuracy, and F1-scores.\n",
    "- Neural Network has lower performance across all metrics, particularly in accuracy and precision.\n",
    "- Decision Tree and KNN fall between the top performers and the lower-performing Neural Network."
   ]
  },
  {
   "cell_type": "markdown",
   "metadata": {},
   "source": [
    "Based on the provided metrics, Logistic Regression with Class Weight appears to be the best model for this task, considering a balanced trade-off between precision, recall, and accuracy."
   ]
  },
  {
   "cell_type": "markdown",
   "metadata": {},
   "source": [
    "**Hyperparameter Tuning**"
   ]
  },
  {
   "cell_type": "markdown",
   "metadata": {},
   "source": [
    "Hyperparameter tuning is very important in the machine learning model development process. It systematically searches for the best set of hyperparameters for the algorithm to optimize its performance. It improves the model's performance and also controls the complexity of the model."
   ]
  },
  {
   "cell_type": "code",
   "execution_count": 65,
   "metadata": {},
   "outputs": [
    {
     "data": {
      "text/html": [
       "<style>#sk-container-id-5 {color: black;background-color: white;}#sk-container-id-5 pre{padding: 0;}#sk-container-id-5 div.sk-toggleable {background-color: white;}#sk-container-id-5 label.sk-toggleable__label {cursor: pointer;display: block;width: 100%;margin-bottom: 0;padding: 0.3em;box-sizing: border-box;text-align: center;}#sk-container-id-5 label.sk-toggleable__label-arrow:before {content: \"▸\";float: left;margin-right: 0.25em;color: #696969;}#sk-container-id-5 label.sk-toggleable__label-arrow:hover:before {color: black;}#sk-container-id-5 div.sk-estimator:hover label.sk-toggleable__label-arrow:before {color: black;}#sk-container-id-5 div.sk-toggleable__content {max-height: 0;max-width: 0;overflow: hidden;text-align: left;background-color: #f0f8ff;}#sk-container-id-5 div.sk-toggleable__content pre {margin: 0.2em;color: black;border-radius: 0.25em;background-color: #f0f8ff;}#sk-container-id-5 input.sk-toggleable__control:checked~div.sk-toggleable__content {max-height: 200px;max-width: 100%;overflow: auto;}#sk-container-id-5 input.sk-toggleable__control:checked~label.sk-toggleable__label-arrow:before {content: \"▾\";}#sk-container-id-5 div.sk-estimator input.sk-toggleable__control:checked~label.sk-toggleable__label {background-color: #d4ebff;}#sk-container-id-5 div.sk-label input.sk-toggleable__control:checked~label.sk-toggleable__label {background-color: #d4ebff;}#sk-container-id-5 input.sk-hidden--visually {border: 0;clip: rect(1px 1px 1px 1px);clip: rect(1px, 1px, 1px, 1px);height: 1px;margin: -1px;overflow: hidden;padding: 0;position: absolute;width: 1px;}#sk-container-id-5 div.sk-estimator {font-family: monospace;background-color: #f0f8ff;border: 1px dotted black;border-radius: 0.25em;box-sizing: border-box;margin-bottom: 0.5em;}#sk-container-id-5 div.sk-estimator:hover {background-color: #d4ebff;}#sk-container-id-5 div.sk-parallel-item::after {content: \"\";width: 100%;border-bottom: 1px solid gray;flex-grow: 1;}#sk-container-id-5 div.sk-label:hover label.sk-toggleable__label {background-color: #d4ebff;}#sk-container-id-5 div.sk-serial::before {content: \"\";position: absolute;border-left: 1px solid gray;box-sizing: border-box;top: 0;bottom: 0;left: 50%;z-index: 0;}#sk-container-id-5 div.sk-serial {display: flex;flex-direction: column;align-items: center;background-color: white;padding-right: 0.2em;padding-left: 0.2em;position: relative;}#sk-container-id-5 div.sk-item {position: relative;z-index: 1;}#sk-container-id-5 div.sk-parallel {display: flex;align-items: stretch;justify-content: center;background-color: white;position: relative;}#sk-container-id-5 div.sk-item::before, #sk-container-id-5 div.sk-parallel-item::before {content: \"\";position: absolute;border-left: 1px solid gray;box-sizing: border-box;top: 0;bottom: 0;left: 50%;z-index: -1;}#sk-container-id-5 div.sk-parallel-item {display: flex;flex-direction: column;z-index: 1;position: relative;background-color: white;}#sk-container-id-5 div.sk-parallel-item:first-child::after {align-self: flex-end;width: 50%;}#sk-container-id-5 div.sk-parallel-item:last-child::after {align-self: flex-start;width: 50%;}#sk-container-id-5 div.sk-parallel-item:only-child::after {width: 0;}#sk-container-id-5 div.sk-dashed-wrapped {border: 1px dashed gray;margin: 0 0.4em 0.5em 0.4em;box-sizing: border-box;padding-bottom: 0.4em;background-color: white;}#sk-container-id-5 div.sk-label label {font-family: monospace;font-weight: bold;display: inline-block;line-height: 1.2em;}#sk-container-id-5 div.sk-label-container {text-align: center;}#sk-container-id-5 div.sk-container {/* jupyter's `normalize.less` sets `[hidden] { display: none; }` but bootstrap.min.css set `[hidden] { display: none !important; }` so we also need the `!important` here to be able to override the default hidden behavior on the sphinx rendered scikit-learn.org. See: https://github.com/scikit-learn/scikit-learn/issues/21755 */display: inline-block !important;position: relative;}#sk-container-id-5 div.sk-text-repr-fallback {display: none;}</style><div id=\"sk-container-id-5\" class=\"sk-top-container\"><div class=\"sk-text-repr-fallback\"><pre>GridSearchCV(cv=5,\n",
       "             estimator=Pipeline(steps=[(&#x27;preprocessor&#x27;,\n",
       "                                        ColumnTransformer(remainder=&#x27;passthrough&#x27;,\n",
       "                                                          transformers=[(&#x27;scaler&#x27;,\n",
       "                                                                         StandardScaler(),\n",
       "                                                                         Index([&#x27;PRG&#x27;, &#x27;PL&#x27;, &#x27;PR&#x27;, &#x27;SK&#x27;, &#x27;TS&#x27;, &#x27;M11&#x27;, &#x27;BD2&#x27;, &#x27;Age&#x27;, &#x27;Insurance&#x27;], dtype=&#x27;object&#x27;)),\n",
       "                                                                        (&#x27;log &#x27;\n",
       "                                                                         &#x27;transformation&#x27;,\n",
       "                                                                         FunctionTransformer(func=&lt;ufunc &#x27;log1p&#x27;&gt;),\n",
       "                                                                         Index([&#x27;PRG&#x27;, &#x27;PL&#x27;, &#x27;PR&#x27;, &#x27;SK&#x27;, &#x27;TS&#x27;, &#x27;M11&#x27;, &#x27;BD2&#x27;, &#x27;Age&#x27;, &#x27;Insurance&#x27;], dtype=&#x27;object&#x27;))])),\n",
       "                                       (&#x27;logistic_regression&#x27;,\n",
       "                                        LogisticRegression(class_weight={0: 0.7651757188498403,\n",
       "                                                                         1: 1.4427710843373494},\n",
       "                                                           max_iter=1000,\n",
       "                                                           solver=&#x27;sag&#x27;))]),\n",
       "             param_grid={&#x27;logistic_regression__C&#x27;: [0.001, 0.01, 0.1, 1, 10,\n",
       "                                                    100],\n",
       "                         &#x27;logistic_regression__penalty&#x27;: [&#x27;l1&#x27;, &#x27;l2&#x27;],\n",
       "                         &#x27;logistic_regression__solver&#x27;: [&#x27;liblinear&#x27;]},\n",
       "             scoring=&#x27;accuracy&#x27;)</pre><b>In a Jupyter environment, please rerun this cell to show the HTML representation or trust the notebook. <br />On GitHub, the HTML representation is unable to render, please try loading this page with nbviewer.org.</b></div><div class=\"sk-container\" hidden><div class=\"sk-item sk-dashed-wrapped\"><div class=\"sk-label-container\"><div class=\"sk-label sk-toggleable\"><input class=\"sk-toggleable__control sk-hidden--visually\" id=\"sk-estimator-id-37\" type=\"checkbox\" ><label for=\"sk-estimator-id-37\" class=\"sk-toggleable__label sk-toggleable__label-arrow\">GridSearchCV</label><div class=\"sk-toggleable__content\"><pre>GridSearchCV(cv=5,\n",
       "             estimator=Pipeline(steps=[(&#x27;preprocessor&#x27;,\n",
       "                                        ColumnTransformer(remainder=&#x27;passthrough&#x27;,\n",
       "                                                          transformers=[(&#x27;scaler&#x27;,\n",
       "                                                                         StandardScaler(),\n",
       "                                                                         Index([&#x27;PRG&#x27;, &#x27;PL&#x27;, &#x27;PR&#x27;, &#x27;SK&#x27;, &#x27;TS&#x27;, &#x27;M11&#x27;, &#x27;BD2&#x27;, &#x27;Age&#x27;, &#x27;Insurance&#x27;], dtype=&#x27;object&#x27;)),\n",
       "                                                                        (&#x27;log &#x27;\n",
       "                                                                         &#x27;transformation&#x27;,\n",
       "                                                                         FunctionTransformer(func=&lt;ufunc &#x27;log1p&#x27;&gt;),\n",
       "                                                                         Index([&#x27;PRG&#x27;, &#x27;PL&#x27;, &#x27;PR&#x27;, &#x27;SK&#x27;, &#x27;TS&#x27;, &#x27;M11&#x27;, &#x27;BD2&#x27;, &#x27;Age&#x27;, &#x27;Insurance&#x27;], dtype=&#x27;object&#x27;))])),\n",
       "                                       (&#x27;logistic_regression&#x27;,\n",
       "                                        LogisticRegression(class_weight={0: 0.7651757188498403,\n",
       "                                                                         1: 1.4427710843373494},\n",
       "                                                           max_iter=1000,\n",
       "                                                           solver=&#x27;sag&#x27;))]),\n",
       "             param_grid={&#x27;logistic_regression__C&#x27;: [0.001, 0.01, 0.1, 1, 10,\n",
       "                                                    100],\n",
       "                         &#x27;logistic_regression__penalty&#x27;: [&#x27;l1&#x27;, &#x27;l2&#x27;],\n",
       "                         &#x27;logistic_regression__solver&#x27;: [&#x27;liblinear&#x27;]},\n",
       "             scoring=&#x27;accuracy&#x27;)</pre></div></div></div><div class=\"sk-parallel\"><div class=\"sk-parallel-item\"><div class=\"sk-item\"><div class=\"sk-label-container\"><div class=\"sk-label sk-toggleable\"><input class=\"sk-toggleable__control sk-hidden--visually\" id=\"sk-estimator-id-38\" type=\"checkbox\" ><label for=\"sk-estimator-id-38\" class=\"sk-toggleable__label sk-toggleable__label-arrow\">estimator: Pipeline</label><div class=\"sk-toggleable__content\"><pre>Pipeline(steps=[(&#x27;preprocessor&#x27;,\n",
       "                 ColumnTransformer(remainder=&#x27;passthrough&#x27;,\n",
       "                                   transformers=[(&#x27;scaler&#x27;, StandardScaler(),\n",
       "                                                  Index([&#x27;PRG&#x27;, &#x27;PL&#x27;, &#x27;PR&#x27;, &#x27;SK&#x27;, &#x27;TS&#x27;, &#x27;M11&#x27;, &#x27;BD2&#x27;, &#x27;Age&#x27;, &#x27;Insurance&#x27;], dtype=&#x27;object&#x27;)),\n",
       "                                                 (&#x27;log transformation&#x27;,\n",
       "                                                  FunctionTransformer(func=&lt;ufunc &#x27;log1p&#x27;&gt;),\n",
       "                                                  Index([&#x27;PRG&#x27;, &#x27;PL&#x27;, &#x27;PR&#x27;, &#x27;SK&#x27;, &#x27;TS&#x27;, &#x27;M11&#x27;, &#x27;BD2&#x27;, &#x27;Age&#x27;, &#x27;Insurance&#x27;], dtype=&#x27;object&#x27;))])),\n",
       "                (&#x27;logistic_regression&#x27;,\n",
       "                 LogisticRegression(class_weight={0: 0.7651757188498403,\n",
       "                                                  1: 1.4427710843373494},\n",
       "                                    max_iter=1000, solver=&#x27;sag&#x27;))])</pre></div></div></div><div class=\"sk-serial\"><div class=\"sk-item\"><div class=\"sk-serial\"><div class=\"sk-item sk-dashed-wrapped\"><div class=\"sk-label-container\"><div class=\"sk-label sk-toggleable\"><input class=\"sk-toggleable__control sk-hidden--visually\" id=\"sk-estimator-id-39\" type=\"checkbox\" ><label for=\"sk-estimator-id-39\" class=\"sk-toggleable__label sk-toggleable__label-arrow\">preprocessor: ColumnTransformer</label><div class=\"sk-toggleable__content\"><pre>ColumnTransformer(remainder=&#x27;passthrough&#x27;,\n",
       "                  transformers=[(&#x27;scaler&#x27;, StandardScaler(),\n",
       "                                 Index([&#x27;PRG&#x27;, &#x27;PL&#x27;, &#x27;PR&#x27;, &#x27;SK&#x27;, &#x27;TS&#x27;, &#x27;M11&#x27;, &#x27;BD2&#x27;, &#x27;Age&#x27;, &#x27;Insurance&#x27;], dtype=&#x27;object&#x27;)),\n",
       "                                (&#x27;log transformation&#x27;,\n",
       "                                 FunctionTransformer(func=&lt;ufunc &#x27;log1p&#x27;&gt;),\n",
       "                                 Index([&#x27;PRG&#x27;, &#x27;PL&#x27;, &#x27;PR&#x27;, &#x27;SK&#x27;, &#x27;TS&#x27;, &#x27;M11&#x27;, &#x27;BD2&#x27;, &#x27;Age&#x27;, &#x27;Insurance&#x27;], dtype=&#x27;object&#x27;))])</pre></div></div></div><div class=\"sk-parallel\"><div class=\"sk-parallel-item\"><div class=\"sk-item\"><div class=\"sk-label-container\"><div class=\"sk-label sk-toggleable\"><input class=\"sk-toggleable__control sk-hidden--visually\" id=\"sk-estimator-id-40\" type=\"checkbox\" ><label for=\"sk-estimator-id-40\" class=\"sk-toggleable__label sk-toggleable__label-arrow\">scaler</label><div class=\"sk-toggleable__content\"><pre>Index([&#x27;PRG&#x27;, &#x27;PL&#x27;, &#x27;PR&#x27;, &#x27;SK&#x27;, &#x27;TS&#x27;, &#x27;M11&#x27;, &#x27;BD2&#x27;, &#x27;Age&#x27;, &#x27;Insurance&#x27;], dtype=&#x27;object&#x27;)</pre></div></div></div><div class=\"sk-serial\"><div class=\"sk-item\"><div class=\"sk-estimator sk-toggleable\"><input class=\"sk-toggleable__control sk-hidden--visually\" id=\"sk-estimator-id-41\" type=\"checkbox\" ><label for=\"sk-estimator-id-41\" class=\"sk-toggleable__label sk-toggleable__label-arrow\">StandardScaler</label><div class=\"sk-toggleable__content\"><pre>StandardScaler()</pre></div></div></div></div></div></div><div class=\"sk-parallel-item\"><div class=\"sk-item\"><div class=\"sk-label-container\"><div class=\"sk-label sk-toggleable\"><input class=\"sk-toggleable__control sk-hidden--visually\" id=\"sk-estimator-id-42\" type=\"checkbox\" ><label for=\"sk-estimator-id-42\" class=\"sk-toggleable__label sk-toggleable__label-arrow\">log transformation</label><div class=\"sk-toggleable__content\"><pre>Index([&#x27;PRG&#x27;, &#x27;PL&#x27;, &#x27;PR&#x27;, &#x27;SK&#x27;, &#x27;TS&#x27;, &#x27;M11&#x27;, &#x27;BD2&#x27;, &#x27;Age&#x27;, &#x27;Insurance&#x27;], dtype=&#x27;object&#x27;)</pre></div></div></div><div class=\"sk-serial\"><div class=\"sk-item\"><div class=\"sk-estimator sk-toggleable\"><input class=\"sk-toggleable__control sk-hidden--visually\" id=\"sk-estimator-id-43\" type=\"checkbox\" ><label for=\"sk-estimator-id-43\" class=\"sk-toggleable__label sk-toggleable__label-arrow\">FunctionTransformer</label><div class=\"sk-toggleable__content\"><pre>FunctionTransformer(func=&lt;ufunc &#x27;log1p&#x27;&gt;)</pre></div></div></div></div></div></div><div class=\"sk-parallel-item\"><div class=\"sk-item\"><div class=\"sk-label-container\"><div class=\"sk-label sk-toggleable\"><input class=\"sk-toggleable__control sk-hidden--visually\" id=\"sk-estimator-id-44\" type=\"checkbox\" ><label for=\"sk-estimator-id-44\" class=\"sk-toggleable__label sk-toggleable__label-arrow\">remainder</label><div class=\"sk-toggleable__content\"><pre>[]</pre></div></div></div><div class=\"sk-serial\"><div class=\"sk-item\"><div class=\"sk-estimator sk-toggleable\"><input class=\"sk-toggleable__control sk-hidden--visually\" id=\"sk-estimator-id-45\" type=\"checkbox\" ><label for=\"sk-estimator-id-45\" class=\"sk-toggleable__label sk-toggleable__label-arrow\">passthrough</label><div class=\"sk-toggleable__content\"><pre>passthrough</pre></div></div></div></div></div></div></div></div><div class=\"sk-item\"><div class=\"sk-estimator sk-toggleable\"><input class=\"sk-toggleable__control sk-hidden--visually\" id=\"sk-estimator-id-46\" type=\"checkbox\" ><label for=\"sk-estimator-id-46\" class=\"sk-toggleable__label sk-toggleable__label-arrow\">LogisticRegression</label><div class=\"sk-toggleable__content\"><pre>LogisticRegression(class_weight={0: 0.7651757188498403, 1: 1.4427710843373494},\n",
       "                   max_iter=1000, solver=&#x27;sag&#x27;)</pre></div></div></div></div></div></div></div></div></div></div></div></div>"
      ],
      "text/plain": [
       "GridSearchCV(cv=5,\n",
       "             estimator=Pipeline(steps=[('preprocessor',\n",
       "                                        ColumnTransformer(remainder='passthrough',\n",
       "                                                          transformers=[('scaler',\n",
       "                                                                         StandardScaler(),\n",
       "                                                                         Index(['PRG', 'PL', 'PR', 'SK', 'TS', 'M11', 'BD2', 'Age', 'Insurance'], dtype='object')),\n",
       "                                                                        ('log '\n",
       "                                                                         'transformation',\n",
       "                                                                         FunctionTransformer(func=<ufunc 'log1p'>),\n",
       "                                                                         Index(['PRG', 'PL', 'PR', 'SK', 'TS', 'M11', 'BD2', 'Age', 'Insurance'], dtype='object'))])),\n",
       "                                       ('logistic_regression',\n",
       "                                        LogisticRegression(class_weight={0: 0.7651757188498403,\n",
       "                                                                         1: 1.4427710843373494},\n",
       "                                                           max_iter=1000,\n",
       "                                                           solver='sag'))]),\n",
       "             param_grid={'logistic_regression__C': [0.001, 0.01, 0.1, 1, 10,\n",
       "                                                    100],\n",
       "                         'logistic_regression__penalty': ['l1', 'l2'],\n",
       "                         'logistic_regression__solver': ['liblinear']},\n",
       "             scoring='accuracy')"
      ]
     },
     "execution_count": 65,
     "metadata": {},
     "output_type": "execute_result"
    }
   ],
   "source": [
    "# Define the parameter grid for grid search\n",
    "param_grid = {\n",
    "    'logistic_regression__C': [0.001, 0.01, 0.1, 1, 10, 100],\n",
    "    'logistic_regression__penalty': ['l1', 'l2'],\n",
    "    'logistic_regression__solver': ['liblinear'],\n",
    "\n",
    "}\n",
    "\n",
    "\n",
    "# Create the grid search object\n",
    "grid_search = GridSearchCV(pipeline_lr_cw, param_grid=param_grid, cv=5, scoring='accuracy')\n",
    "\n",
    "\n",
    "#Perform the grid search:\n",
    "grid_search.fit(X_train, y_train_encoded)\n"
   ]
  },
  {
   "cell_type": "code",
   "execution_count": 66,
   "metadata": {},
   "outputs": [
    {
     "name": "stdout",
     "output_type": "stream",
     "text": [
      "best hyperparameters are:{'logistic_regression__C': 1, 'logistic_regression__penalty': 'l1', 'logistic_regression__solver': 'liblinear'}\n",
      "best score is 0.7662280701754387\n"
     ]
    }
   ],
   "source": [
    "#Get the best parameter results and best_score\n",
    "best_hyperparameters = grid_search.best_params_\n",
    "best_score = grid_search.best_score_\n",
    "\n",
    "print(f\"best hyperparameters are:{best_hyperparameters}\")\n",
    "print(f\"best score is {best_score}\")\n"
   ]
  },
  {
   "cell_type": "markdown",
   "metadata": {},
   "source": [
    "The best hyperparameters suggest a logistic regression model with a moderate level of regularization (C=1), L1 regularization, and the 'liblinear' solver. The achieved F1-weighted score of 0.766 indicates a reasonably good overall performance on the validation set. "
   ]
  },
  {
   "cell_type": "markdown",
   "metadata": {},
   "source": [
    "**The best model**"
   ]
  },
  {
   "cell_type": "code",
   "execution_count": 67,
   "metadata": {},
   "outputs": [
    {
     "data": {
      "text/html": [
       "<style>#sk-container-id-6 {color: black;background-color: white;}#sk-container-id-6 pre{padding: 0;}#sk-container-id-6 div.sk-toggleable {background-color: white;}#sk-container-id-6 label.sk-toggleable__label {cursor: pointer;display: block;width: 100%;margin-bottom: 0;padding: 0.3em;box-sizing: border-box;text-align: center;}#sk-container-id-6 label.sk-toggleable__label-arrow:before {content: \"▸\";float: left;margin-right: 0.25em;color: #696969;}#sk-container-id-6 label.sk-toggleable__label-arrow:hover:before {color: black;}#sk-container-id-6 div.sk-estimator:hover label.sk-toggleable__label-arrow:before {color: black;}#sk-container-id-6 div.sk-toggleable__content {max-height: 0;max-width: 0;overflow: hidden;text-align: left;background-color: #f0f8ff;}#sk-container-id-6 div.sk-toggleable__content pre {margin: 0.2em;color: black;border-radius: 0.25em;background-color: #f0f8ff;}#sk-container-id-6 input.sk-toggleable__control:checked~div.sk-toggleable__content {max-height: 200px;max-width: 100%;overflow: auto;}#sk-container-id-6 input.sk-toggleable__control:checked~label.sk-toggleable__label-arrow:before {content: \"▾\";}#sk-container-id-6 div.sk-estimator input.sk-toggleable__control:checked~label.sk-toggleable__label {background-color: #d4ebff;}#sk-container-id-6 div.sk-label input.sk-toggleable__control:checked~label.sk-toggleable__label {background-color: #d4ebff;}#sk-container-id-6 input.sk-hidden--visually {border: 0;clip: rect(1px 1px 1px 1px);clip: rect(1px, 1px, 1px, 1px);height: 1px;margin: -1px;overflow: hidden;padding: 0;position: absolute;width: 1px;}#sk-container-id-6 div.sk-estimator {font-family: monospace;background-color: #f0f8ff;border: 1px dotted black;border-radius: 0.25em;box-sizing: border-box;margin-bottom: 0.5em;}#sk-container-id-6 div.sk-estimator:hover {background-color: #d4ebff;}#sk-container-id-6 div.sk-parallel-item::after {content: \"\";width: 100%;border-bottom: 1px solid gray;flex-grow: 1;}#sk-container-id-6 div.sk-label:hover label.sk-toggleable__label {background-color: #d4ebff;}#sk-container-id-6 div.sk-serial::before {content: \"\";position: absolute;border-left: 1px solid gray;box-sizing: border-box;top: 0;bottom: 0;left: 50%;z-index: 0;}#sk-container-id-6 div.sk-serial {display: flex;flex-direction: column;align-items: center;background-color: white;padding-right: 0.2em;padding-left: 0.2em;position: relative;}#sk-container-id-6 div.sk-item {position: relative;z-index: 1;}#sk-container-id-6 div.sk-parallel {display: flex;align-items: stretch;justify-content: center;background-color: white;position: relative;}#sk-container-id-6 div.sk-item::before, #sk-container-id-6 div.sk-parallel-item::before {content: \"\";position: absolute;border-left: 1px solid gray;box-sizing: border-box;top: 0;bottom: 0;left: 50%;z-index: -1;}#sk-container-id-6 div.sk-parallel-item {display: flex;flex-direction: column;z-index: 1;position: relative;background-color: white;}#sk-container-id-6 div.sk-parallel-item:first-child::after {align-self: flex-end;width: 50%;}#sk-container-id-6 div.sk-parallel-item:last-child::after {align-self: flex-start;width: 50%;}#sk-container-id-6 div.sk-parallel-item:only-child::after {width: 0;}#sk-container-id-6 div.sk-dashed-wrapped {border: 1px dashed gray;margin: 0 0.4em 0.5em 0.4em;box-sizing: border-box;padding-bottom: 0.4em;background-color: white;}#sk-container-id-6 div.sk-label label {font-family: monospace;font-weight: bold;display: inline-block;line-height: 1.2em;}#sk-container-id-6 div.sk-label-container {text-align: center;}#sk-container-id-6 div.sk-container {/* jupyter's `normalize.less` sets `[hidden] { display: none; }` but bootstrap.min.css set `[hidden] { display: none !important; }` so we also need the `!important` here to be able to override the default hidden behavior on the sphinx rendered scikit-learn.org. See: https://github.com/scikit-learn/scikit-learn/issues/21755 */display: inline-block !important;position: relative;}#sk-container-id-6 div.sk-text-repr-fallback {display: none;}</style><div id=\"sk-container-id-6\" class=\"sk-top-container\"><div class=\"sk-text-repr-fallback\"><pre>Pipeline(steps=[(&#x27;preprocessor&#x27;,\n",
       "                 ColumnTransformer(remainder=&#x27;passthrough&#x27;,\n",
       "                                   transformers=[(&#x27;scaler&#x27;, StandardScaler(),\n",
       "                                                  Index([&#x27;PRG&#x27;, &#x27;PL&#x27;, &#x27;PR&#x27;, &#x27;SK&#x27;, &#x27;TS&#x27;, &#x27;M11&#x27;, &#x27;BD2&#x27;, &#x27;Age&#x27;, &#x27;Insurance&#x27;], dtype=&#x27;object&#x27;)),\n",
       "                                                 (&#x27;log transformation&#x27;,\n",
       "                                                  FunctionTransformer(func=&lt;ufunc &#x27;log1p&#x27;&gt;),\n",
       "                                                  Index([&#x27;PRG&#x27;, &#x27;PL&#x27;, &#x27;PR&#x27;, &#x27;SK&#x27;, &#x27;TS&#x27;, &#x27;M11&#x27;, &#x27;BD2&#x27;, &#x27;Age&#x27;, &#x27;Insurance&#x27;], dtype=&#x27;object&#x27;))])),\n",
       "                (&#x27;logistic_regression&#x27;,\n",
       "                 LogisticRegression(C=1,\n",
       "                                    class_weight={0: 0.7651757188498403,\n",
       "                                                  1: 1.4427710843373494},\n",
       "                                    max_iter=1000, penalty=&#x27;l1&#x27;,\n",
       "                                    solver=&#x27;liblinear&#x27;))])</pre><b>In a Jupyter environment, please rerun this cell to show the HTML representation or trust the notebook. <br />On GitHub, the HTML representation is unable to render, please try loading this page with nbviewer.org.</b></div><div class=\"sk-container\" hidden><div class=\"sk-item sk-dashed-wrapped\"><div class=\"sk-label-container\"><div class=\"sk-label sk-toggleable\"><input class=\"sk-toggleable__control sk-hidden--visually\" id=\"sk-estimator-id-47\" type=\"checkbox\" ><label for=\"sk-estimator-id-47\" class=\"sk-toggleable__label sk-toggleable__label-arrow\">Pipeline</label><div class=\"sk-toggleable__content\"><pre>Pipeline(steps=[(&#x27;preprocessor&#x27;,\n",
       "                 ColumnTransformer(remainder=&#x27;passthrough&#x27;,\n",
       "                                   transformers=[(&#x27;scaler&#x27;, StandardScaler(),\n",
       "                                                  Index([&#x27;PRG&#x27;, &#x27;PL&#x27;, &#x27;PR&#x27;, &#x27;SK&#x27;, &#x27;TS&#x27;, &#x27;M11&#x27;, &#x27;BD2&#x27;, &#x27;Age&#x27;, &#x27;Insurance&#x27;], dtype=&#x27;object&#x27;)),\n",
       "                                                 (&#x27;log transformation&#x27;,\n",
       "                                                  FunctionTransformer(func=&lt;ufunc &#x27;log1p&#x27;&gt;),\n",
       "                                                  Index([&#x27;PRG&#x27;, &#x27;PL&#x27;, &#x27;PR&#x27;, &#x27;SK&#x27;, &#x27;TS&#x27;, &#x27;M11&#x27;, &#x27;BD2&#x27;, &#x27;Age&#x27;, &#x27;Insurance&#x27;], dtype=&#x27;object&#x27;))])),\n",
       "                (&#x27;logistic_regression&#x27;,\n",
       "                 LogisticRegression(C=1,\n",
       "                                    class_weight={0: 0.7651757188498403,\n",
       "                                                  1: 1.4427710843373494},\n",
       "                                    max_iter=1000, penalty=&#x27;l1&#x27;,\n",
       "                                    solver=&#x27;liblinear&#x27;))])</pre></div></div></div><div class=\"sk-serial\"><div class=\"sk-item sk-dashed-wrapped\"><div class=\"sk-label-container\"><div class=\"sk-label sk-toggleable\"><input class=\"sk-toggleable__control sk-hidden--visually\" id=\"sk-estimator-id-48\" type=\"checkbox\" ><label for=\"sk-estimator-id-48\" class=\"sk-toggleable__label sk-toggleable__label-arrow\">preprocessor: ColumnTransformer</label><div class=\"sk-toggleable__content\"><pre>ColumnTransformer(remainder=&#x27;passthrough&#x27;,\n",
       "                  transformers=[(&#x27;scaler&#x27;, StandardScaler(),\n",
       "                                 Index([&#x27;PRG&#x27;, &#x27;PL&#x27;, &#x27;PR&#x27;, &#x27;SK&#x27;, &#x27;TS&#x27;, &#x27;M11&#x27;, &#x27;BD2&#x27;, &#x27;Age&#x27;, &#x27;Insurance&#x27;], dtype=&#x27;object&#x27;)),\n",
       "                                (&#x27;log transformation&#x27;,\n",
       "                                 FunctionTransformer(func=&lt;ufunc &#x27;log1p&#x27;&gt;),\n",
       "                                 Index([&#x27;PRG&#x27;, &#x27;PL&#x27;, &#x27;PR&#x27;, &#x27;SK&#x27;, &#x27;TS&#x27;, &#x27;M11&#x27;, &#x27;BD2&#x27;, &#x27;Age&#x27;, &#x27;Insurance&#x27;], dtype=&#x27;object&#x27;))])</pre></div></div></div><div class=\"sk-parallel\"><div class=\"sk-parallel-item\"><div class=\"sk-item\"><div class=\"sk-label-container\"><div class=\"sk-label sk-toggleable\"><input class=\"sk-toggleable__control sk-hidden--visually\" id=\"sk-estimator-id-49\" type=\"checkbox\" ><label for=\"sk-estimator-id-49\" class=\"sk-toggleable__label sk-toggleable__label-arrow\">scaler</label><div class=\"sk-toggleable__content\"><pre>Index([&#x27;PRG&#x27;, &#x27;PL&#x27;, &#x27;PR&#x27;, &#x27;SK&#x27;, &#x27;TS&#x27;, &#x27;M11&#x27;, &#x27;BD2&#x27;, &#x27;Age&#x27;, &#x27;Insurance&#x27;], dtype=&#x27;object&#x27;)</pre></div></div></div><div class=\"sk-serial\"><div class=\"sk-item\"><div class=\"sk-estimator sk-toggleable\"><input class=\"sk-toggleable__control sk-hidden--visually\" id=\"sk-estimator-id-50\" type=\"checkbox\" ><label for=\"sk-estimator-id-50\" class=\"sk-toggleable__label sk-toggleable__label-arrow\">StandardScaler</label><div class=\"sk-toggleable__content\"><pre>StandardScaler()</pre></div></div></div></div></div></div><div class=\"sk-parallel-item\"><div class=\"sk-item\"><div class=\"sk-label-container\"><div class=\"sk-label sk-toggleable\"><input class=\"sk-toggleable__control sk-hidden--visually\" id=\"sk-estimator-id-51\" type=\"checkbox\" ><label for=\"sk-estimator-id-51\" class=\"sk-toggleable__label sk-toggleable__label-arrow\">log transformation</label><div class=\"sk-toggleable__content\"><pre>Index([&#x27;PRG&#x27;, &#x27;PL&#x27;, &#x27;PR&#x27;, &#x27;SK&#x27;, &#x27;TS&#x27;, &#x27;M11&#x27;, &#x27;BD2&#x27;, &#x27;Age&#x27;, &#x27;Insurance&#x27;], dtype=&#x27;object&#x27;)</pre></div></div></div><div class=\"sk-serial\"><div class=\"sk-item\"><div class=\"sk-estimator sk-toggleable\"><input class=\"sk-toggleable__control sk-hidden--visually\" id=\"sk-estimator-id-52\" type=\"checkbox\" ><label for=\"sk-estimator-id-52\" class=\"sk-toggleable__label sk-toggleable__label-arrow\">FunctionTransformer</label><div class=\"sk-toggleable__content\"><pre>FunctionTransformer(func=&lt;ufunc &#x27;log1p&#x27;&gt;)</pre></div></div></div></div></div></div><div class=\"sk-parallel-item\"><div class=\"sk-item\"><div class=\"sk-label-container\"><div class=\"sk-label sk-toggleable\"><input class=\"sk-toggleable__control sk-hidden--visually\" id=\"sk-estimator-id-53\" type=\"checkbox\" ><label for=\"sk-estimator-id-53\" class=\"sk-toggleable__label sk-toggleable__label-arrow\">remainder</label><div class=\"sk-toggleable__content\"><pre>[]</pre></div></div></div><div class=\"sk-serial\"><div class=\"sk-item\"><div class=\"sk-estimator sk-toggleable\"><input class=\"sk-toggleable__control sk-hidden--visually\" id=\"sk-estimator-id-54\" type=\"checkbox\" ><label for=\"sk-estimator-id-54\" class=\"sk-toggleable__label sk-toggleable__label-arrow\">passthrough</label><div class=\"sk-toggleable__content\"><pre>passthrough</pre></div></div></div></div></div></div></div></div><div class=\"sk-item\"><div class=\"sk-estimator sk-toggleable\"><input class=\"sk-toggleable__control sk-hidden--visually\" id=\"sk-estimator-id-55\" type=\"checkbox\" ><label for=\"sk-estimator-id-55\" class=\"sk-toggleable__label sk-toggleable__label-arrow\">LogisticRegression</label><div class=\"sk-toggleable__content\"><pre>LogisticRegression(C=1,\n",
       "                   class_weight={0: 0.7651757188498403, 1: 1.4427710843373494},\n",
       "                   max_iter=1000, penalty=&#x27;l1&#x27;, solver=&#x27;liblinear&#x27;)</pre></div></div></div></div></div></div></div>"
      ],
      "text/plain": [
       "Pipeline(steps=[('preprocessor',\n",
       "                 ColumnTransformer(remainder='passthrough',\n",
       "                                   transformers=[('scaler', StandardScaler(),\n",
       "                                                  Index(['PRG', 'PL', 'PR', 'SK', 'TS', 'M11', 'BD2', 'Age', 'Insurance'], dtype='object')),\n",
       "                                                 ('log transformation',\n",
       "                                                  FunctionTransformer(func=<ufunc 'log1p'>),\n",
       "                                                  Index(['PRG', 'PL', 'PR', 'SK', 'TS', 'M11', 'BD2', 'Age', 'Insurance'], dtype='object'))])),\n",
       "                ('logistic_regression',\n",
       "                 LogisticRegression(C=1,\n",
       "                                    class_weight={0: 0.7651757188498403,\n",
       "                                                  1: 1.4427710843373494},\n",
       "                                    max_iter=1000, penalty='l1',\n",
       "                                    solver='liblinear'))])"
      ]
     },
     "execution_count": 67,
     "metadata": {},
     "output_type": "execute_result"
    }
   ],
   "source": [
    "best_model = grid_search.best_estimator_\n",
    "# View the best model\n",
    "best_model"
   ]
  },
  {
   "cell_type": "markdown",
   "metadata": {},
   "source": [
    "**Make predictions on the test data using the best model**"
   ]
  },
  {
   "cell_type": "code",
   "execution_count": 68,
   "metadata": {},
   "outputs": [
    {
     "name": "stdout",
     "output_type": "stream",
     "text": [
      "\n",
      "Classification Report for the Best Model\n",
      "               precision    recall  f1-score  support\n",
      "0              0.835821  0.717949  0.772414   78.000\n",
      "1              0.584906  0.738095  0.652632   42.000\n",
      "accuracy       0.725000  0.725000  0.725000    0.725\n",
      "macro avg      0.710363  0.728022  0.712523  120.000\n",
      "weighted avg   0.748001  0.725000  0.730490  120.000\n"
     ]
    }
   ],
   "source": [
    "# Make predictions on the test data using the best model\n",
    "best_predictions = best_model.predict(X_test)\n",
    "\n",
    "# Evaluate the best model\n",
    "classification_report_best = classification_report(y_test_encoded, best_predictions, output_dict=True)\n",
    "\n",
    "# Display the classification report for the best model\n",
    "print(\"\\nClassification Report for the Best Model\\n\", pd.DataFrame(classification_report_best).transpose())"
   ]
  },
  {
   "cell_type": "markdown",
   "metadata": {},
   "source": [
    "**Persist Model, Pipeline and Encoder**"
   ]
  },
  {
   "cell_type": "code",
   "execution_count": 69,
   "metadata": {},
   "outputs": [
    {
     "data": {
      "text/plain": [
       "['label_encoder.joblib']"
      ]
     },
     "execution_count": 69,
     "metadata": {},
     "output_type": "execute_result"
    }
   ],
   "source": [
    "# Save the pipeline and model\n",
    "joblib.dump(pipeline_lr_cw, 'logistic_regression_model.joblib')\n",
    "\n",
    "# Save the label encoder\n",
    "joblib.dump(label_encoder, 'label_encoder.joblib')\n"
   ]
  },
  {
   "cell_type": "code",
   "execution_count": null,
   "metadata": {},
   "outputs": [],
   "source": []
  },
  {
   "cell_type": "code",
   "execution_count": null,
   "metadata": {},
   "outputs": [],
   "source": []
  }
 ],
 "metadata": {
  "kernelspec": {
   "display_name": "Python 3",
   "language": "python",
   "name": "python3"
  },
  "language_info": {
   "codemirror_mode": {
    "name": "ipython",
    "version": 3
   },
   "file_extension": ".py",
   "mimetype": "text/x-python",
   "name": "python",
   "nbconvert_exporter": "python",
   "pygments_lexer": "ipython3",
   "version": "3.11.3"
  }
 },
 "nbformat": 4,
 "nbformat_minor": 2
}
